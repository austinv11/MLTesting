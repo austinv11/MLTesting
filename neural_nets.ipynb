{
 "cells": [
  {
   "cell_type": "code",
   "execution_count": null,
   "metadata": {
    "collapsed": true
   },
   "outputs": [],
   "source": [
    "import numpy as np\n",
    "import tensorflow as tf\n",
    "import tflearn"
   ]
  },
  {
   "cell_type": "code",
   "execution_count": 7,
   "metadata": {},
   "outputs": [],
   "source": [
    "np.random.seed(0)"
   ]
  },
  {
   "cell_type": "code",
   "execution_count": 8,
   "metadata": {},
   "outputs": [],
   "source": [
    "#Read data from file\n",
    "data = np.genfromtxt(\"breast-cancer-wisconsin.data\", delimiter=\",\", missing_values=\"?\", filling_values=1.)\n",
    "\n",
    "#Separate the X (input data)\n",
    "dataX = data[:, 1:-1]  # From each element, get all elements except the first and last column\n",
    "#Separate the Y (output data)\n",
    "pre_dataY = data[:, -1]  # From each element, get all the actual outputs\n",
    "#Convert the Y to one hot (format data to probability format)\n",
    "dataY = np.zeros((pre_dataY.size, 2))\n",
    "\n",
    "for i in range(len(pre_dataY)):\n",
    "    if pre_dataY[i] == 2:\n",
    "        dataY[i][0] = 1\n",
    "    else:\n",
    "        dataY[i][1] = 1"
   ]
  },
  {
   "cell_type": "code",
   "execution_count": 9,
   "metadata": {},
   "outputs": [],
   "source": [
    "#Mix up the data\n",
    "permutation = np.random.permutation(dataX.shape[0])\n",
    "dataX = dataX[permutation]\n",
    "dataY = dataY[permutation]"
   ]
  },
  {
   "cell_type": "code",
   "execution_count": null,
   "metadata": {},
   "outputs": [],
   "source": [
    "#Set network variables and hyperparameters\n",
    "nIn = 9  # Input nodes (corresponds to input data)\n",
    "nHidden = 25  # Hidden layer nodes\n",
    "nOut = 2  # Output nodes (benign, malignant)\n",
    "alpha = 0.01  # How fast neural network changes weights\n",
    "nEpochs = 100  # \"One\" full go through of the data\n",
    "testSplit = 0.15  # Splits the data between a training and test set to prevent over-fitting\n",
    "batchSize = 64  # Important for using GPU, this is the amount of data to send at a time to the GPU"
   ]
  },
  {
   "cell_type": "code",
   "execution_count": 11,
   "metadata": {},
   "outputs": [],
   "source": [
    "# Build network\n",
    "input_layer = tflearn.input_data(shape=[None, nIn])  # Amount of data being sent (none = doesn't matter), how many input nodes\n",
    "layer2 = tflearn.fully_connected(input_layer, nHidden, activation=\"sigmoid\")  # Hidden layer. every node in previous layer connects to this layer, sigmoid is used to prevent linear outputs and compresses data to 0 <= x <= 1 \n",
    "out = tflearn.fully_connected(layer2, nOut, activation=\"softmax\")  # Output layer, softmax to allow for mutually exclusive classifications\n",
    "\n",
    "# How to train the network, performing regression on output, with an adam gradient descent, loss is categorical, we also pass alpha and batch size\n",
    "network = tflearn.regression(out, optimizer=\"adam\", loss=\"categorical_crossentropy\",\n",
    "                               learning_rate=alpha, batch_size=batchSize)\n",
    "\n",
    "# Generates the actual deep neural network model based on the network\n",
    "model = tflearn.DNN(network)"
   ]
  },
  {
   "cell_type": "code",
   "execution_count": 12,
   "metadata": {},
   "outputs": [],
   "source": [
    "# Split data between test and training\n",
    "\n",
    "#Number of data points used for testing\n",
    "num_test = int(testSplit * len(data))\n",
    "\n",
    "#Split data into train and  test\n",
    "trainX = dataX[:-num_test]\n",
    "testX = dataX[-num_test:]\n",
    "\n",
    "trainY = dataY[:-num_test]\n",
    "testY = dataY[-num_test:]"
   ]
  },
  {
   "cell_type": "code",
   "execution_count": 13,
   "metadata": {},
   "outputs": [
    {
     "name": "stdout",
     "output_type": "stream",
     "text": [
      "---------------------------------\nRun id: KOWJP9\nLog directory: /tmp/tflearn_logs/\n"
     ]
    },
    {
     "name": "stdout",
     "output_type": "stream",
     "text": [
      "INFO:tensorflow:Summary name Accuracy/ (raw) is illegal; using Accuracy/__raw_ instead.\n"
     ]
    },
    {
     "name": "stdout",
     "output_type": "stream",
     "text": [
      "---------------------------------\nTraining samples: 595\nValidation samples: 0\n--\n"
     ]
    },
    {
     "name": "stdout",
     "output_type": "stream",
     "text": [
      "Training Step: 1  | time: 0.216s\n\u001b[2K\r| Adam | epoch: 001 | loss: 0.00000 - acc: 0.0000 -- iter: 064/595\n"
     ]
    },
    {
     "name": "stdout",
     "output_type": "stream",
     "text": [
      "Training Step: 2  | time: 0.223s\n\u001b[2K\r| Adam | epoch: 001 | loss: 0.00000 - acc: 0.9000 -- iter: 128/595\n"
     ]
    },
    {
     "name": "stdout",
     "output_type": "stream",
     "text": [
      "Training Step: 3  | time: 0.230s\n\u001b[2K\r| Adam | epoch: 001 | loss: 0.00000 - acc: 0.9818 -- iter: 192/595\n"
     ]
    },
    {
     "name": "stdout",
     "output_type": "stream",
     "text": [
      "Training Step: 4  | time: 0.247s\n\u001b[2K\r| Adam | epoch: 001 | loss: 0.00000 - acc: 0.9955 -- iter: 256/595\n"
     ]
    },
    {
     "name": "stdout",
     "output_type": "stream",
     "text": [
      "Training Step: 5  | time: 0.260s\n\u001b[2K\r| Adam | epoch: 001 | loss: 0.00000 - acc: 0.9986 -- iter: 320/595\n"
     ]
    },
    {
     "name": "stdout",
     "output_type": "stream",
     "text": [
      "Training Step: 6  | time: 0.269s\n\u001b[2K\r| Adam | epoch: 001 | loss: 0.00000 - acc: 0.9995 -- iter: 384/595\n"
     ]
    },
    {
     "name": "stdout",
     "output_type": "stream",
     "text": [
      "Training Step: 7  | time: 0.280s\n\u001b[2K\r| Adam | epoch: 001 | loss: 0.00000 - acc: 0.9998 -- iter: 448/595\n"
     ]
    },
    {
     "name": "stdout",
     "output_type": "stream",
     "text": [
      "Training Step: 8  | time: 0.295s\n\u001b[2K\r| Adam | epoch: 001 | loss: 0.00000 - acc: 0.9999 -- iter: 512/595\n"
     ]
    },
    {
     "name": "stdout",
     "output_type": "stream",
     "text": [
      "Training Step: 9  | time: 0.307s\n\u001b[2K\r| Adam | epoch: 001 | loss: 0.00000 - acc: 1.0000 -- iter: 576/595\n"
     ]
    },
    {
     "name": "stdout",
     "output_type": "stream",
     "text": [
      "Training Step: 10  | time: 0.315s\n\u001b[2K\r| Adam | epoch: 001 | loss: 0.00000 - acc: 1.0000 -- iter: 595/595\n--\n"
     ]
    },
    {
     "name": "stdout",
     "output_type": "stream",
     "text": [
      "Training Step: 11  | time: 0.012s\n\u001b[2K\r| Adam | epoch: 002 | loss: 0.00000 - acc: 1.0000 -- iter: 064/595\n"
     ]
    },
    {
     "name": "stdout",
     "output_type": "stream",
     "text": [
      "Training Step: 12  | time: 0.021s\n\u001b[2K\r| Adam | epoch: 002 | loss: 0.00000 - acc: 1.0000 -- iter: 128/595\n"
     ]
    },
    {
     "name": "stdout",
     "output_type": "stream",
     "text": [
      "Training Step: 13  | time: 0.027s\n\u001b[2K\r| Adam | epoch: 002 | loss: 0.00000 - acc: 1.0000 -- iter: 192/595\n"
     ]
    },
    {
     "name": "stdout",
     "output_type": "stream",
     "text": [
      "Training Step: 14  | time: 0.036s\n\u001b[2K\r| Adam | epoch: 002 | loss: 0.00000 - acc: 1.0000 -- iter: 256/595\n"
     ]
    },
    {
     "name": "stdout",
     "output_type": "stream",
     "text": [
      "Training Step: 15  | time: 0.049s\n\u001b[2K\r| Adam | epoch: 002 | loss: 0.00000 - acc: 1.0000 -- iter: 320/595\n"
     ]
    },
    {
     "name": "stdout",
     "output_type": "stream",
     "text": [
      "Training Step: 16  | time: 0.056s\n\u001b[2K\r| Adam | epoch: 002 | loss: 0.00000 - acc: 1.0000 -- iter: 384/595\n"
     ]
    },
    {
     "name": "stdout",
     "output_type": "stream",
     "text": [
      "Training Step: 17  | time: 0.066s\n\u001b[2K\r| Adam | epoch: 002 | loss: 0.00000 - acc: 1.0000 -- iter: 448/595\n"
     ]
    },
    {
     "name": "stdout",
     "output_type": "stream",
     "text": [
      "Training Step: 18  | time: 0.072s\n\u001b[2K\r| Adam | epoch: 002 | loss: 0.00000 - acc: 1.0000 -- iter: 512/595\n"
     ]
    },
    {
     "name": "stdout",
     "output_type": "stream",
     "text": [
      "Training Step: 19  | time: 0.084s\n\u001b[2K\r| Adam | epoch: 002 | loss: 0.00000 - acc: 1.0000 -- iter: 576/595\n"
     ]
    },
    {
     "name": "stdout",
     "output_type": "stream",
     "text": [
      "Training Step: 20  | time: 0.092s\n\u001b[2K\r| Adam | epoch: 002 | loss: 0.00000 - acc: 1.0000 -- iter: 595/595\n--\n"
     ]
    },
    {
     "name": "stdout",
     "output_type": "stream",
     "text": [
      "Training Step: 21  | time: 0.010s\n\u001b[2K\r| Adam | epoch: 003 | loss: 0.00000 - acc: 1.0000 -- iter: 064/595\n"
     ]
    },
    {
     "name": "stdout",
     "output_type": "stream",
     "text": [
      "Training Step: 22  | time: 0.021s\n\u001b[2K\r| Adam | epoch: 003 | loss: 0.00000 - acc: 1.0000 -- iter: 128/595\n"
     ]
    },
    {
     "name": "stdout",
     "output_type": "stream",
     "text": [
      "Training Step: 23  | time: 0.026s\n\u001b[2K\r| Adam | epoch: 003 | loss: 0.00000 - acc: 1.0000 -- iter: 192/595\n"
     ]
    },
    {
     "name": "stdout",
     "output_type": "stream",
     "text": [
      "Training Step: 24  | time: 0.036s\n\u001b[2K\r| Adam | epoch: 003 | loss: 0.00000 - acc: 1.0000 -- iter: 256/595\n"
     ]
    },
    {
     "name": "stdout",
     "output_type": "stream",
     "text": [
      "Training Step: 25  | time: 0.042s\n\u001b[2K\r| Adam | epoch: 003 | loss: 0.00000 - acc: 1.0000 -- iter: 320/595\n"
     ]
    },
    {
     "name": "stdout",
     "output_type": "stream",
     "text": [
      "Training Step: 26  | time: 0.054s\n\u001b[2K\r| Adam | epoch: 003 | loss: 0.00000 - acc: 1.0000 -- iter: 384/595\n"
     ]
    },
    {
     "name": "stdout",
     "output_type": "stream",
     "text": [
      "Training Step: 27  | time: 0.061s\n\u001b[2K\r| Adam | epoch: 003 | loss: 0.00000 - acc: 1.0000 -- iter: 448/595\n"
     ]
    },
    {
     "name": "stdout",
     "output_type": "stream",
     "text": [
      "Training Step: 28  | time: 0.067s\n\u001b[2K\r| Adam | epoch: 003 | loss: 0.00000 - acc: 1.0000 -- iter: 512/595\n"
     ]
    },
    {
     "name": "stdout",
     "output_type": "stream",
     "text": [
      "Training Step: 29  | time: 0.075s\n\u001b[2K\r| Adam | epoch: 003 | loss: 0.00000 - acc: 1.0000 -- iter: 576/595\n"
     ]
    },
    {
     "name": "stdout",
     "output_type": "stream",
     "text": [
      "Training Step: 30  | time: 0.079s\n\u001b[2K\r| Adam | epoch: 003 | loss: 0.00000 - acc: 1.0000 -- iter: 595/595\n--\n"
     ]
    },
    {
     "name": "stdout",
     "output_type": "stream",
     "text": [
      "Training Step: 31  | time: 0.008s\n\u001b[2K\r| Adam | epoch: 004 | loss: 0.00000 - acc: 1.0000 -- iter: 064/595\n"
     ]
    },
    {
     "name": "stdout",
     "output_type": "stream",
     "text": [
      "Training Step: 32  | time: 0.012s\n\u001b[2K\r| Adam | epoch: 004 | loss: 0.00000 - acc: 1.0000 -- iter: 128/595\n"
     ]
    },
    {
     "name": "stdout",
     "output_type": "stream",
     "text": [
      "Training Step: 33  | time: 0.024s\n\u001b[2K\r| Adam | epoch: 004 | loss: 0.00000 - acc: 1.0000 -- iter: 192/595\n"
     ]
    },
    {
     "name": "stdout",
     "output_type": "stream",
     "text": [
      "Training Step: 34  | time: 0.033s\n\u001b[2K\r| Adam | epoch: 004 | loss: 0.00000 - acc: 1.0000 -- iter: 256/595\n"
     ]
    },
    {
     "name": "stdout",
     "output_type": "stream",
     "text": [
      "Training Step: 35  | time: 0.039s\n\u001b[2K\r| Adam | epoch: 004 | loss: 0.00000 - acc: 1.0000 -- iter: 320/595\n"
     ]
    },
    {
     "name": "stdout",
     "output_type": "stream",
     "text": [
      "Training Step: 36  | time: 0.049s\n\u001b[2K\r| Adam | epoch: 004 | loss: 0.00000 - acc: 1.0000 -- iter: 384/595\n"
     ]
    },
    {
     "name": "stdout",
     "output_type": "stream",
     "text": [
      "Training Step: 37  | time: 0.055s\n\u001b[2K\r| Adam | epoch: 004 | loss: 0.00000 - acc: 1.0000 -- iter: 448/595\n"
     ]
    },
    {
     "name": "stdout",
     "output_type": "stream",
     "text": [
      "Training Step: 38  | time: 0.059s\n\u001b[2K\r| Adam | epoch: 004 | loss: 0.00000 - acc: 1.0000 -- iter: 512/595\n"
     ]
    },
    {
     "name": "stdout",
     "output_type": "stream",
     "text": [
      "Training Step: 39  | time: 0.064s\n\u001b[2K\r| Adam | epoch: 004 | loss: 0.00000 - acc: 1.0000 -- iter: 576/595\n"
     ]
    },
    {
     "name": "stdout",
     "output_type": "stream",
     "text": [
      "Training Step: 40  | time: 0.071s\n\u001b[2K\r| Adam | epoch: 004 | loss: 0.00000 - acc: 1.0000 -- iter: 595/595\n--\n"
     ]
    },
    {
     "name": "stdout",
     "output_type": "stream",
     "text": [
      "Training Step: 41  | time: 0.008s\n\u001b[2K\r| Adam | epoch: 005 | loss: 0.00000 - acc: 1.0000 -- iter: 064/595\n"
     ]
    },
    {
     "name": "stdout",
     "output_type": "stream",
     "text": [
      "Training Step: 42  | time: 0.014s\n\u001b[2K\r| Adam | epoch: 005 | loss: 0.00000 - acc: 1.0000 -- iter: 128/595\n"
     ]
    },
    {
     "name": "stdout",
     "output_type": "stream",
     "text": [
      "Training Step: 43  | time: 0.019s\n\u001b[2K\r| Adam | epoch: 005 | loss: 0.00000 - acc: 1.0000 -- iter: 192/595\n"
     ]
    },
    {
     "name": "stdout",
     "output_type": "stream",
     "text": [
      "Training Step: 44  | time: 0.025s\n\u001b[2K\r| Adam | epoch: 005 | loss: 0.00000 - acc: 1.0000 -- iter: 256/595\n"
     ]
    },
    {
     "name": "stdout",
     "output_type": "stream",
     "text": [
      "Training Step: 45  | time: 0.036s\n\u001b[2K\r| Adam | epoch: 005 | loss: 0.00000 - acc: 1.0000 -- iter: 320/595\n"
     ]
    },
    {
     "name": "stdout",
     "output_type": "stream",
     "text": [
      "Training Step: 46  | time: 0.041s\n\u001b[2K\r| Adam | epoch: 005 | loss: 0.00000 - acc: 1.0000 -- iter: 384/595\n"
     ]
    },
    {
     "name": "stdout",
     "output_type": "stream",
     "text": [
      "Training Step: 47  | time: 0.046s\n\u001b[2K\r| Adam | epoch: 005 | loss: 0.00000 - acc: 1.0000 -- iter: 448/595\n"
     ]
    },
    {
     "name": "stdout",
     "output_type": "stream",
     "text": [
      "Training Step: 48  | time: 0.054s\n\u001b[2K\r| Adam | epoch: 005 | loss: 0.00000 - acc: 1.0000 -- iter: 512/595\n"
     ]
    },
    {
     "name": "stdout",
     "output_type": "stream",
     "text": [
      "Training Step: 49  | time: 0.060s\n\u001b[2K\r| Adam | epoch: 005 | loss: 0.00000 - acc: 1.0000 -- iter: 576/595\n"
     ]
    },
    {
     "name": "stdout",
     "output_type": "stream",
     "text": [
      "Training Step: 50  | time: 0.068s\n\u001b[2K\r| Adam | epoch: 005 | loss: 0.00000 - acc: 1.0000 -- iter: 595/595\n--\n"
     ]
    },
    {
     "name": "stdout",
     "output_type": "stream",
     "text": [
      "Training Step: 51  | time: 0.011s\n\u001b[2K\r| Adam | epoch: 006 | loss: 0.00000 - acc: 1.0000 -- iter: 064/595\n"
     ]
    },
    {
     "name": "stdout",
     "output_type": "stream",
     "text": [
      "Training Step: 52  | time: 0.016s\n\u001b[2K\r| Adam | epoch: 006 | loss: 0.00000 - acc: 1.0000 -- iter: 128/595\n"
     ]
    },
    {
     "name": "stdout",
     "output_type": "stream",
     "text": [
      "Training Step: 53  | time: 0.023s\n\u001b[2K\r| Adam | epoch: 006 | loss: 0.00000 - acc: 1.0000 -- iter: 192/595\n"
     ]
    },
    {
     "name": "stdout",
     "output_type": "stream",
     "text": [
      "Training Step: 54  | time: 0.028s\n\u001b[2K\r| Adam | epoch: 006 | loss: 0.00000 - acc: 1.0000 -- iter: 256/595\n"
     ]
    },
    {
     "name": "stdout",
     "output_type": "stream",
     "text": [
      "Training Step: 55  | time: 0.035s\n\u001b[2K\r| Adam | epoch: 006 | loss: 0.00000 - acc: 1.0000 -- iter: 320/595\n"
     ]
    },
    {
     "name": "stdout",
     "output_type": "stream",
     "text": [
      "Training Step: 56  | time: 0.046s\n\u001b[2K\r| Adam | epoch: 006 | loss: 0.00000 - acc: 1.0000 -- iter: 384/595\n"
     ]
    },
    {
     "name": "stdout",
     "output_type": "stream",
     "text": [
      "Training Step: 57  | time: 0.052s\n\u001b[2K\r| Adam | epoch: 006 | loss: 0.00000 - acc: 1.0000 -- iter: 448/595\n"
     ]
    },
    {
     "name": "stdout",
     "output_type": "stream",
     "text": [
      "Training Step: 58  | time: 0.060s\n\u001b[2K\r| Adam | epoch: 006 | loss: 0.00000 - acc: 1.0000 -- iter: 512/595\n"
     ]
    },
    {
     "name": "stdout",
     "output_type": "stream",
     "text": [
      "Training Step: 59  | time: 0.066s\n\u001b[2K\r| Adam | epoch: 006 | loss: 0.00000 - acc: 1.0000 -- iter: 576/595\n"
     ]
    },
    {
     "name": "stdout",
     "output_type": "stream",
     "text": [
      "Training Step: 60  | time: 0.073s\n\u001b[2K\r| Adam | epoch: 006 | loss: 0.00000 - acc: 1.0000 -- iter: 595/595\n--\n"
     ]
    },
    {
     "name": "stdout",
     "output_type": "stream",
     "text": [
      "Training Step: 61  | time: 0.007s\n\u001b[2K\r| Adam | epoch: 007 | loss: 0.00000 - acc: 1.0000 -- iter: 064/595\n"
     ]
    },
    {
     "name": "stdout",
     "output_type": "stream",
     "text": [
      "Training Step: 62  | time: 0.015s\n\u001b[2K\r| Adam | epoch: 007 | loss: 0.00000 - acc: 1.0000 -- iter: 128/595\n"
     ]
    },
    {
     "name": "stdout",
     "output_type": "stream",
     "text": [
      "Training Step: 63  | time: 0.019s\n\u001b[2K\r| Adam | epoch: 007 | loss: 0.00000 - acc: 1.0000 -- iter: 192/595\n"
     ]
    },
    {
     "name": "stdout",
     "output_type": "stream",
     "text": [
      "Training Step: 64  | time: 0.026s\n\u001b[2K\r| Adam | epoch: 007 | loss: 0.00000 - acc: 1.0000 -- iter: 256/595\n"
     ]
    },
    {
     "name": "stdout",
     "output_type": "stream",
     "text": [
      "Training Step: 65  | time: 0.036s\n\u001b[2K\r| Adam | epoch: 007 | loss: 0.00000 - acc: 1.0000 -- iter: 320/595\n"
     ]
    },
    {
     "name": "stdout",
     "output_type": "stream",
     "text": [
      "Training Step: 66  | time: 0.041s\n\u001b[2K\r| Adam | epoch: 007 | loss: 0.00000 - acc: 1.0000 -- iter: 384/595\n"
     ]
    },
    {
     "name": "stdout",
     "output_type": "stream",
     "text": [
      "Training Step: 67  | time: 0.045s\n\u001b[2K\r| Adam | epoch: 007 | loss: 0.00000 - acc: 1.0000 -- iter: 448/595\n"
     ]
    },
    {
     "name": "stdout",
     "output_type": "stream",
     "text": [
      "Training Step: 68  | time: 0.049s\n\u001b[2K\r| Adam | epoch: 007 | loss: 0.00000 - acc: 1.0000 -- iter: 512/595\n"
     ]
    },
    {
     "name": "stdout",
     "output_type": "stream",
     "text": [
      "Training Step: 69  | time: 0.060s\n\u001b[2K\r| Adam | epoch: 007 | loss: 0.00000 - acc: 1.0000 -- iter: 576/595\n"
     ]
    },
    {
     "name": "stdout",
     "output_type": "stream",
     "text": [
      "Training Step: 70  | time: 0.066s\n\u001b[2K\r| Adam | epoch: 007 | loss: 0.00000 - acc: 1.0000 -- iter: 595/595\n--\n"
     ]
    },
    {
     "name": "stdout",
     "output_type": "stream",
     "text": [
      "Training Step: 71  | time: 0.009s\n\u001b[2K\r| Adam | epoch: 008 | loss: 0.00000 - acc: 1.0000 -- iter: 064/595\n"
     ]
    },
    {
     "name": "stdout",
     "output_type": "stream",
     "text": [
      "Training Step: 72  | time: 0.014s\n\u001b[2K\r| Adam | epoch: 008 | loss: 0.00000 - acc: 1.0000 -- iter: 128/595\n"
     ]
    },
    {
     "name": "stdout",
     "output_type": "stream",
     "text": [
      "Training Step: 73  | time: 0.023s\n\u001b[2K\r| Adam | epoch: 008 | loss: 0.00000 - acc: 1.0000 -- iter: 192/595\n"
     ]
    },
    {
     "name": "stdout",
     "output_type": "stream",
     "text": [
      "Training Step: 74  | time: 0.028s\n\u001b[2K\r| Adam | epoch: 008 | loss: 0.00000 - acc: 1.0000 -- iter: 256/595\n"
     ]
    },
    {
     "name": "stdout",
     "output_type": "stream",
     "text": [
      "Training Step: 75  | time: 0.036s\n\u001b[2K\r| Adam | epoch: 008 | loss: 0.00000 - acc: 1.0000 -- iter: 320/595\n"
     ]
    },
    {
     "name": "stdout",
     "output_type": "stream",
     "text": [
      "Training Step: 76  | time: 0.046s\n\u001b[2K\r| Adam | epoch: 008 | loss: 0.00000 - acc: 1.0000 -- iter: 384/595\n"
     ]
    },
    {
     "name": "stdout",
     "output_type": "stream",
     "text": [
      "Training Step: 77  | time: 0.050s\n\u001b[2K\r| Adam | epoch: 008 | loss: 0.00000 - acc: 1.0000 -- iter: 448/595\n"
     ]
    },
    {
     "name": "stdout",
     "output_type": "stream",
     "text": [
      "Training Step: 78  | time: 0.056s\n\u001b[2K\r| Adam | epoch: 008 | loss: 0.00000 - acc: 1.0000 -- iter: 512/595\n"
     ]
    },
    {
     "name": "stdout",
     "output_type": "stream",
     "text": [
      "Training Step: 79  | time: 0.062s\n\u001b[2K\r| Adam | epoch: 008 | loss: 0.00000 - acc: 1.0000 -- iter: 576/595\n"
     ]
    },
    {
     "name": "stdout",
     "output_type": "stream",
     "text": [
      "Training Step: 80  | time: 0.067s\n\u001b[2K\r| Adam | epoch: 008 | loss: 0.00000 - acc: 1.0000 -- iter: 595/595\n--\n"
     ]
    },
    {
     "name": "stdout",
     "output_type": "stream",
     "text": [
      "Training Step: 81  | time: 0.009s\n\u001b[2K\r| Adam | epoch: 009 | loss: 0.00000 - acc: 1.0000 -- iter: 064/595\n"
     ]
    },
    {
     "name": "stdout",
     "output_type": "stream",
     "text": [
      "Training Step: 82  | time: 0.013s\n\u001b[2K\r| Adam | epoch: 009 | loss: 0.00000 - acc: 1.0000 -- iter: 128/595\n"
     ]
    },
    {
     "name": "stdout",
     "output_type": "stream",
     "text": [
      "Training Step: 83  | time: 0.020s\n\u001b[2K\r| Adam | epoch: 009 | loss: 0.00000 - acc: 1.0000 -- iter: 192/595\n"
     ]
    },
    {
     "name": "stdout",
     "output_type": "stream",
     "text": [
      "Training Step: 84  | time: 0.029s\n\u001b[2K\r| Adam | epoch: 009 | loss: 0.00000 - acc: 1.0000 -- iter: 256/595\n"
     ]
    },
    {
     "name": "stdout",
     "output_type": "stream",
     "text": [
      "Training Step: 85  | time: 0.033s\n\u001b[2K\r| Adam | epoch: 009 | loss: 0.00000 - acc: 1.0000 -- iter: 320/595\n"
     ]
    },
    {
     "name": "stdout",
     "output_type": "stream",
     "text": [
      "Training Step: 86  | time: 0.042s\n\u001b[2K\r| Adam | epoch: 009 | loss: 0.00000 - acc: 1.0000 -- iter: 384/595\n"
     ]
    },
    {
     "name": "stdout",
     "output_type": "stream",
     "text": [
      "Training Step: 87  | time: 0.046s\n\u001b[2K\r| Adam | epoch: 009 | loss: 0.00000 - acc: 1.0000 -- iter: 448/595\n"
     ]
    },
    {
     "name": "stdout",
     "output_type": "stream",
     "text": [
      "Training Step: 88  | time: 0.053s\n\u001b[2K\r| Adam | epoch: 009 | loss: 0.00000 - acc: 1.0000 -- iter: 512/595\n"
     ]
    },
    {
     "name": "stdout",
     "output_type": "stream",
     "text": [
      "Training Step: 89  | time: 0.061s\n\u001b[2K\r| Adam | epoch: 009 | loss: 0.00000 - acc: 1.0000 -- iter: 576/595\n"
     ]
    },
    {
     "name": "stdout",
     "output_type": "stream",
     "text": [
      "Training Step: 90  | time: 0.065s\n\u001b[2K\r| Adam | epoch: 009 | loss: 0.00000 - acc: 1.0000 -- iter: 595/595\n--\n"
     ]
    },
    {
     "name": "stdout",
     "output_type": "stream",
     "text": [
      "Training Step: 91  | time: 0.006s\n\u001b[2K\r| Adam | epoch: 010 | loss: 0.00000 - acc: 1.0000 -- iter: 064/595\n"
     ]
    },
    {
     "name": "stdout",
     "output_type": "stream",
     "text": [
      "Training Step: 92  | time: 0.011s\n\u001b[2K\r| Adam | epoch: 010 | loss: 0.00000 - acc: 1.0000 -- iter: 128/595\n"
     ]
    },
    {
     "name": "stdout",
     "output_type": "stream",
     "text": [
      "Training Step: 93  | time: 0.019s\n\u001b[2K\r| Adam | epoch: 010 | loss: 0.00000 - acc: 1.0000 -- iter: 192/595\n"
     ]
    },
    {
     "name": "stdout",
     "output_type": "stream",
     "text": [
      "Training Step: 94  | time: 0.024s\n\u001b[2K\r| Adam | epoch: 010 | loss: 0.00000 - acc: 1.0000 -- iter: 256/595\n"
     ]
    },
    {
     "name": "stdout",
     "output_type": "stream",
     "text": [
      "Training Step: 95  | time: 0.029s\n\u001b[2K\r| Adam | epoch: 010 | loss: 0.00000 - acc: 1.0000 -- iter: 320/595\n"
     ]
    },
    {
     "name": "stdout",
     "output_type": "stream",
     "text": [
      "Training Step: 96  | time: 0.034s\n\u001b[2K\r| Adam | epoch: 010 | loss: 0.00000 - acc: 1.0000 -- iter: 384/595\n"
     ]
    },
    {
     "name": "stdout",
     "output_type": "stream",
     "text": [
      "Training Step: 97  | time: 0.042s\n\u001b[2K\r| Adam | epoch: 010 | loss: 0.00000 - acc: 1.0000 -- iter: 448/595\n"
     ]
    },
    {
     "name": "stdout",
     "output_type": "stream",
     "text": [
      "Training Step: 98  | time: 0.047s\n\u001b[2K\r| Adam | epoch: 010 | loss: 0.00000 - acc: 1.0000 -- iter: 512/595\n"
     ]
    },
    {
     "name": "stdout",
     "output_type": "stream",
     "text": [
      "Training Step: 99  | time: 0.054s\n\u001b[2K\r| Adam | epoch: 010 | loss: 0.00000 - acc: 1.0000 -- iter: 576/595\n"
     ]
    },
    {
     "name": "stdout",
     "output_type": "stream",
     "text": [
      "Training Step: 100  | time: 0.059s\n\u001b[2K\r| Adam | epoch: 010 | loss: 0.00000 - acc: 1.0000 -- iter: 595/595\n--\n"
     ]
    },
    {
     "name": "stdout",
     "output_type": "stream",
     "text": [
      "Training Step: 101  | time: 0.008s\n\u001b[2K\r| Adam | epoch: 011 | loss: 0.00000 - acc: 1.0000 -- iter: 064/595\n"
     ]
    },
    {
     "name": "stdout",
     "output_type": "stream",
     "text": [
      "Training Step: 102  | time: 0.015s\n\u001b[2K\r| Adam | epoch: 011 | loss: 0.00000 - acc: 1.0000 -- iter: 128/595\n"
     ]
    },
    {
     "name": "stdout",
     "output_type": "stream",
     "text": [
      "Training Step: 103  | time: 0.023s\n\u001b[2K\r| Adam | epoch: 011 | loss: 0.00000 - acc: 1.0000 -- iter: 192/595\n"
     ]
    },
    {
     "name": "stdout",
     "output_type": "stream",
     "text": [
      "Training Step: 104  | time: 0.031s\n\u001b[2K\r| Adam | epoch: 011 | loss: 0.00000 - acc: 1.0000 -- iter: 256/595\n"
     ]
    },
    {
     "name": "stdout",
     "output_type": "stream",
     "text": [
      "Training Step: 105  | time: 0.040s\n\u001b[2K\r| Adam | epoch: 011 | loss: 0.00000 - acc: 1.0000 -- iter: 320/595\n"
     ]
    },
    {
     "name": "stdout",
     "output_type": "stream",
     "text": [
      "Training Step: 106  | time: 0.048s\n\u001b[2K\r| Adam | epoch: 011 | loss: 0.00000 - acc: 1.0000 -- iter: 384/595\n"
     ]
    },
    {
     "name": "stdout",
     "output_type": "stream",
     "text": [
      "Training Step: 107  | time: 0.055s\n\u001b[2K\r| Adam | epoch: 011 | loss: 0.00000 - acc: 1.0000 -- iter: 448/595\n"
     ]
    },
    {
     "name": "stdout",
     "output_type": "stream",
     "text": [
      "Training Step: 108  | time: 0.062s\n\u001b[2K\r| Adam | epoch: 011 | loss: 0.00000 - acc: 1.0000 -- iter: 512/595\n"
     ]
    },
    {
     "name": "stdout",
     "output_type": "stream",
     "text": [
      "Training Step: 109  | time: 0.067s\n\u001b[2K\r| Adam | epoch: 011 | loss: 0.00000 - acc: 1.0000 -- iter: 576/595\n"
     ]
    },
    {
     "name": "stdout",
     "output_type": "stream",
     "text": [
      "Training Step: 110  | time: 0.075s\n\u001b[2K\r| Adam | epoch: 011 | loss: 0.00000 - acc: 1.0000 -- iter: 595/595\n--\n"
     ]
    },
    {
     "name": "stdout",
     "output_type": "stream",
     "text": [
      "Training Step: 111  | time: 0.007s\n\u001b[2K\r| Adam | epoch: 012 | loss: 0.00000 - acc: 1.0000 -- iter: 064/595\n"
     ]
    },
    {
     "name": "stdout",
     "output_type": "stream",
     "text": [
      "Training Step: 112  | time: 0.015s\n\u001b[2K\r| Adam | epoch: 012 | loss: 0.00000 - acc: 1.0000 -- iter: 128/595\n"
     ]
    },
    {
     "name": "stdout",
     "output_type": "stream",
     "text": [
      "Training Step: 113  | time: 0.025s\n\u001b[2K\r| Adam | epoch: 012 | loss: 0.00000 - acc: 1.0000 -- iter: 192/595\n"
     ]
    },
    {
     "name": "stdout",
     "output_type": "stream",
     "text": [
      "Training Step: 114  | time: 0.029s\n\u001b[2K\r| Adam | epoch: 012 | loss: 0.00000 - acc: 1.0000 -- iter: 256/595\n"
     ]
    },
    {
     "name": "stdout",
     "output_type": "stream",
     "text": [
      "Training Step: 115  | time: 0.037s\n\u001b[2K\r| Adam | epoch: 012 | loss: 0.00000 - acc: 1.0000 -- iter: 320/595\n"
     ]
    },
    {
     "name": "stdout",
     "output_type": "stream",
     "text": [
      "Training Step: 116  | time: 0.041s\n\u001b[2K\r| Adam | epoch: 012 | loss: 0.00000 - acc: 1.0000 -- iter: 384/595\n"
     ]
    },
    {
     "name": "stdout",
     "output_type": "stream",
     "text": [
      "Training Step: 117  | time: 0.049s\n\u001b[2K\r| Adam | epoch: 012 | loss: 0.00000 - acc: 1.0000 -- iter: 448/595\n"
     ]
    },
    {
     "name": "stdout",
     "output_type": "stream",
     "text": [
      "Training Step: 118  | time: 0.053s\n\u001b[2K\r| Adam | epoch: 012 | loss: 0.00000 - acc: 1.0000 -- iter: 512/595\n"
     ]
    },
    {
     "name": "stdout",
     "output_type": "stream",
     "text": [
      "Training Step: 119  | time: 0.058s\n\u001b[2K\r| Adam | epoch: 012 | loss: 0.00000 - acc: 1.0000 -- iter: 576/595\n"
     ]
    },
    {
     "name": "stdout",
     "output_type": "stream",
     "text": [
      "Training Step: 120  | time: 0.065s\n\u001b[2K\r| Adam | epoch: 012 | loss: 0.00000 - acc: 1.0000 -- iter: 595/595\n--\n"
     ]
    },
    {
     "name": "stdout",
     "output_type": "stream",
     "text": [
      "Training Step: 121  | time: 0.004s\n\u001b[2K\r| Adam | epoch: 013 | loss: 0.00000 - acc: 1.0000 -- iter: 064/595\n"
     ]
    },
    {
     "name": "stdout",
     "output_type": "stream",
     "text": [
      "Training Step: 122  | time: 0.010s\n\u001b[2K\r| Adam | epoch: 013 | loss: 0.00000 - acc: 1.0000 -- iter: 128/595\n"
     ]
    },
    {
     "name": "stdout",
     "output_type": "stream",
     "text": [
      "Training Step: 123  | time: 0.016s\n\u001b[2K\r| Adam | epoch: 013 | loss: 0.00000 - acc: 1.0000 -- iter: 192/595\n"
     ]
    },
    {
     "name": "stdout",
     "output_type": "stream",
     "text": [
      "Training Step: 124  | time: 0.022s\n\u001b[2K\r| Adam | epoch: 013 | loss: 0.00000 - acc: 1.0000 -- iter: 256/595\n"
     ]
    },
    {
     "name": "stdout",
     "output_type": "stream",
     "text": [
      "Training Step: 125  | time: 0.027s\n\u001b[2K\r| Adam | epoch: 013 | loss: 0.00000 - acc: 1.0000 -- iter: 320/595\n"
     ]
    },
    {
     "name": "stdout",
     "output_type": "stream",
     "text": [
      "Training Step: 126  | time: 0.036s\n\u001b[2K\r| Adam | epoch: 013 | loss: 0.00000 - acc: 1.0000 -- iter: 384/595\n"
     ]
    },
    {
     "name": "stdout",
     "output_type": "stream",
     "text": [
      "Training Step: 127  | time: 0.040s\n\u001b[2K\r| Adam | epoch: 013 | loss: 0.00000 - acc: 1.0000 -- iter: 448/595\n"
     ]
    },
    {
     "name": "stdout",
     "output_type": "stream",
     "text": [
      "Training Step: 128  | time: 0.047s\n\u001b[2K\r| Adam | epoch: 013 | loss: 0.00000 - acc: 1.0000 -- iter: 512/595\n"
     ]
    },
    {
     "name": "stdout",
     "output_type": "stream",
     "text": [
      "Training Step: 129  | time: 0.053s\n\u001b[2K\r| Adam | epoch: 013 | loss: 0.00000 - acc: 1.0000 -- iter: 576/595\n"
     ]
    },
    {
     "name": "stdout",
     "output_type": "stream",
     "text": [
      "Training Step: 130  | time: 0.060s\n\u001b[2K\r| Adam | epoch: 013 | loss: 0.00000 - acc: 1.0000 -- iter: 595/595\n--\n"
     ]
    },
    {
     "name": "stdout",
     "output_type": "stream",
     "text": [
      "Training Step: 131  | time: 0.004s\n\u001b[2K\r| Adam | epoch: 014 | loss: 0.00000 - acc: 1.0000 -- iter: 064/595\n"
     ]
    },
    {
     "name": "stdout",
     "output_type": "stream",
     "text": [
      "Training Step: 132  | time: 0.012s\n\u001b[2K\r| Adam | epoch: 014 | loss: 0.00000 - acc: 1.0000 -- iter: 128/595\n"
     ]
    },
    {
     "name": "stdout",
     "output_type": "stream",
     "text": [
      "Training Step: 133  | time: 0.018s\n\u001b[2K\r| Adam | epoch: 014 | loss: 0.00000 - acc: 1.0000 -- iter: 192/595\n"
     ]
    },
    {
     "name": "stdout",
     "output_type": "stream",
     "text": [
      "Training Step: 134  | time: 0.025s\n\u001b[2K\r| Adam | epoch: 014 | loss: 0.00000 - acc: 1.0000 -- iter: 256/595\n"
     ]
    },
    {
     "name": "stdout",
     "output_type": "stream",
     "text": [
      "Training Step: 135  | time: 0.031s\n\u001b[2K\r| Adam | epoch: 014 | loss: 0.00000 - acc: 1.0000 -- iter: 320/595\n"
     ]
    },
    {
     "name": "stdout",
     "output_type": "stream",
     "text": [
      "Training Step: 136  | time: 0.036s\n\u001b[2K\r| Adam | epoch: 014 | loss: 0.00000 - acc: 1.0000 -- iter: 384/595\n"
     ]
    },
    {
     "name": "stdout",
     "output_type": "stream",
     "text": [
      "Training Step: 137  | time: 0.044s\n\u001b[2K\r| Adam | epoch: 014 | loss: 0.00000 - acc: 1.0000 -- iter: 448/595\n"
     ]
    },
    {
     "name": "stdout",
     "output_type": "stream",
     "text": [
      "Training Step: 138  | time: 0.051s\n\u001b[2K\r| Adam | epoch: 014 | loss: 0.00000 - acc: 1.0000 -- iter: 512/595\n"
     ]
    },
    {
     "name": "stdout",
     "output_type": "stream",
     "text": [
      "Training Step: 139  | time: 0.059s\n\u001b[2K\r| Adam | epoch: 014 | loss: 0.00000 - acc: 1.0000 -- iter: 576/595\n"
     ]
    },
    {
     "name": "stdout",
     "output_type": "stream",
     "text": [
      "Training Step: 140  | time: 0.065s\n\u001b[2K\r| Adam | epoch: 014 | loss: 0.00000 - acc: 1.0000 -- iter: 595/595\n--\n"
     ]
    },
    {
     "name": "stdout",
     "output_type": "stream",
     "text": [
      "Training Step: 141  | time: 0.004s\n\u001b[2K\r| Adam | epoch: 015 | loss: 0.00000 - acc: 1.0000 -- iter: 064/595\n"
     ]
    },
    {
     "name": "stdout",
     "output_type": "stream",
     "text": [
      "Training Step: 142  | time: 0.012s\n\u001b[2K\r| Adam | epoch: 015 | loss: 0.00000 - acc: 1.0000 -- iter: 128/595\n"
     ]
    },
    {
     "name": "stdout",
     "output_type": "stream",
     "text": [
      "Training Step: 143  | time: 0.019s\n\u001b[2K\r| Adam | epoch: 015 | loss: 0.00000 - acc: 1.0000 -- iter: 192/595\n"
     ]
    },
    {
     "name": "stdout",
     "output_type": "stream",
     "text": [
      "Training Step: 144  | time: 0.023s\n\u001b[2K\r| Adam | epoch: 015 | loss: 0.00000 - acc: 1.0000 -- iter: 256/595\n"
     ]
    },
    {
     "name": "stdout",
     "output_type": "stream",
     "text": [
      "Training Step: 145  | time: 0.030s\n\u001b[2K\r| Adam | epoch: 015 | loss: 0.00000 - acc: 1.0000 -- iter: 320/595\n"
     ]
    },
    {
     "name": "stdout",
     "output_type": "stream",
     "text": [
      "Training Step: 146  | time: 0.035s\n\u001b[2K\r| Adam | epoch: 015 | loss: 0.00000 - acc: 1.0000 -- iter: 384/595\n"
     ]
    },
    {
     "name": "stdout",
     "output_type": "stream",
     "text": [
      "Training Step: 147  | time: 0.040s\n\u001b[2K\r| Adam | epoch: 015 | loss: 0.00000 - acc: 1.0000 -- iter: 448/595\n"
     ]
    },
    {
     "name": "stdout",
     "output_type": "stream",
     "text": [
      "Training Step: 148  | time: 0.046s\n\u001b[2K\r| Adam | epoch: 015 | loss: 0.00000 - acc: 1.0000 -- iter: 512/595\n"
     ]
    },
    {
     "name": "stdout",
     "output_type": "stream",
     "text": [
      "Training Step: 149  | time: 0.053s\n\u001b[2K\r| Adam | epoch: 015 | loss: 0.00000 - acc: 1.0000 -- iter: 576/595\n"
     ]
    },
    {
     "name": "stdout",
     "output_type": "stream",
     "text": [
      "Training Step: 150  | time: 0.058s\n\u001b[2K\r| Adam | epoch: 015 | loss: 0.00000 - acc: 1.0000 -- iter: 595/595\n--\n"
     ]
    },
    {
     "name": "stdout",
     "output_type": "stream",
     "text": [
      "Training Step: 151  | time: 0.005s\n\u001b[2K\r| Adam | epoch: 016 | loss: 0.00000 - acc: 1.0000 -- iter: 064/595\n"
     ]
    },
    {
     "name": "stdout",
     "output_type": "stream",
     "text": [
      "Training Step: 152  | time: 0.020s\n\u001b[2K\r| Adam | epoch: 016 | loss: 0.00000 - acc: 1.0000 -- iter: 128/595\n"
     ]
    },
    {
     "name": "stdout",
     "output_type": "stream",
     "text": [
      "Training Step: 153  | time: 0.024s\n\u001b[2K\r| Adam | epoch: 016 | loss: 0.00000 - acc: 1.0000 -- iter: 192/595\n"
     ]
    },
    {
     "name": "stdout",
     "output_type": "stream",
     "text": [
      "Training Step: 154  | time: 0.029s\n\u001b[2K\r| Adam | epoch: 016 | loss: 0.00000 - acc: 1.0000 -- iter: 256/595\n"
     ]
    },
    {
     "name": "stdout",
     "output_type": "stream",
     "text": [
      "Training Step: 155  | time: 0.036s\n\u001b[2K\r| Adam | epoch: 016 | loss: 0.00000 - acc: 1.0000 -- iter: 320/595\n"
     ]
    },
    {
     "name": "stdout",
     "output_type": "stream",
     "text": [
      "Training Step: 156  | time: 0.042s\n\u001b[2K\r| Adam | epoch: 016 | loss: 0.00000 - acc: 1.0000 -- iter: 384/595\n"
     ]
    },
    {
     "name": "stdout",
     "output_type": "stream",
     "text": [
      "Training Step: 157  | time: 0.049s\n\u001b[2K\r| Adam | epoch: 016 | loss: 0.00000 - acc: 1.0000 -- iter: 448/595\n"
     ]
    },
    {
     "name": "stdout",
     "output_type": "stream",
     "text": [
      "Training Step: 158  | time: 0.057s\n\u001b[2K\r| Adam | epoch: 016 | loss: 0.00000 - acc: 1.0000 -- iter: 512/595\n"
     ]
    },
    {
     "name": "stdout",
     "output_type": "stream",
     "text": [
      "Training Step: 159  | time: 0.061s\n\u001b[2K\r| Adam | epoch: 016 | loss: 0.00000 - acc: 1.0000 -- iter: 576/595\n"
     ]
    },
    {
     "name": "stdout",
     "output_type": "stream",
     "text": [
      "Training Step: 160  | time: 0.067s\n\u001b[2K\r| Adam | epoch: 016 | loss: 0.00000 - acc: 1.0000 -- iter: 595/595\n--\n"
     ]
    },
    {
     "name": "stdout",
     "output_type": "stream",
     "text": [
      "Training Step: 161  | time: 0.007s\n\u001b[2K\r| Adam | epoch: 017 | loss: 0.00000 - acc: 1.0000 -- iter: 064/595\n"
     ]
    },
    {
     "name": "stdout",
     "output_type": "stream",
     "text": [
      "Training Step: 162  | time: 0.011s\n\u001b[2K\r| Adam | epoch: 017 | loss: 0.00000 - acc: 1.0000 -- iter: 128/595\n"
     ]
    },
    {
     "name": "stdout",
     "output_type": "stream",
     "text": [
      "Training Step: 163  | time: 0.020s\n\u001b[2K\r| Adam | epoch: 017 | loss: 0.00000 - acc: 1.0000 -- iter: 192/595\n"
     ]
    },
    {
     "name": "stdout",
     "output_type": "stream",
     "text": [
      "Training Step: 164  | time: 0.024s\n\u001b[2K\r| Adam | epoch: 017 | loss: 0.00000 - acc: 1.0000 -- iter: 256/595\n"
     ]
    },
    {
     "name": "stdout",
     "output_type": "stream",
     "text": [
      "Training Step: 165  | time: 0.030s\n\u001b[2K\r| Adam | epoch: 017 | loss: 0.00000 - acc: 1.0000 -- iter: 320/595\n"
     ]
    },
    {
     "name": "stdout",
     "output_type": "stream",
     "text": [
      "Training Step: 166  | time: 0.036s\n\u001b[2K\r| Adam | epoch: 017 | loss: 0.00000 - acc: 1.0000 -- iter: 384/595\n"
     ]
    },
    {
     "name": "stdout",
     "output_type": "stream",
     "text": [
      "Training Step: 167  | time: 0.041s\n\u001b[2K\r| Adam | epoch: 017 | loss: 0.00000 - acc: 1.0000 -- iter: 448/595\n"
     ]
    },
    {
     "name": "stdout",
     "output_type": "stream",
     "text": [
      "Training Step: 168  | time: 0.048s\n\u001b[2K\r| Adam | epoch: 017 | loss: 0.00000 - acc: 1.0000 -- iter: 512/595\n"
     ]
    },
    {
     "name": "stdout",
     "output_type": "stream",
     "text": [
      "Training Step: 169  | time: 0.055s\n\u001b[2K\r| Adam | epoch: 017 | loss: 0.00000 - acc: 1.0000 -- iter: 576/595\n"
     ]
    },
    {
     "name": "stdout",
     "output_type": "stream",
     "text": [
      "Training Step: 170  | time: 0.061s\n\u001b[2K\r| Adam | epoch: 017 | loss: 0.00000 - acc: 1.0000 -- iter: 595/595\n--\n"
     ]
    },
    {
     "name": "stdout",
     "output_type": "stream",
     "text": [
      "Training Step: 171  | time: 0.005s\n\u001b[2K\r| Adam | epoch: 018 | loss: 0.00000 - acc: 1.0000 -- iter: 064/595\n"
     ]
    },
    {
     "name": "stdout",
     "output_type": "stream",
     "text": [
      "Training Step: 172  | time: 0.013s\n\u001b[2K\r| Adam | epoch: 018 | loss: 0.00000 - acc: 1.0000 -- iter: 128/595\n"
     ]
    },
    {
     "name": "stdout",
     "output_type": "stream",
     "text": [
      "Training Step: 173  | time: 0.020s\n\u001b[2K\r| Adam | epoch: 018 | loss: 0.00000 - acc: 1.0000 -- iter: 192/595\n"
     ]
    },
    {
     "name": "stdout",
     "output_type": "stream",
     "text": [
      "Training Step: 174  | time: 0.025s\n\u001b[2K\r| Adam | epoch: 018 | loss: 0.00000 - acc: 1.0000 -- iter: 256/595\n"
     ]
    },
    {
     "name": "stdout",
     "output_type": "stream",
     "text": [
      "Training Step: 175  | time: 0.032s\n\u001b[2K\r| Adam | epoch: 018 | loss: 0.00000 - acc: 1.0000 -- iter: 320/595\n"
     ]
    },
    {
     "name": "stdout",
     "output_type": "stream",
     "text": [
      "Training Step: 176  | time: 0.037s\n\u001b[2K\r| Adam | epoch: 018 | loss: 0.00000 - acc: 1.0000 -- iter: 384/595\n"
     ]
    },
    {
     "name": "stdout",
     "output_type": "stream",
     "text": [
      "Training Step: 177  | time: 0.041s\n\u001b[2K\r| Adam | epoch: 018 | loss: 0.00000 - acc: 1.0000 -- iter: 448/595\n"
     ]
    },
    {
     "name": "stdout",
     "output_type": "stream",
     "text": [
      "Training Step: 178  | time: 0.045s\n\u001b[2K\r| Adam | epoch: 018 | loss: 0.00000 - acc: 1.0000 -- iter: 512/595\n"
     ]
    },
    {
     "name": "stdout",
     "output_type": "stream",
     "text": [
      "Training Step: 179  | time: 0.052s\n\u001b[2K\r| Adam | epoch: 018 | loss: 0.00000 - acc: 1.0000 -- iter: 576/595\n"
     ]
    },
    {
     "name": "stdout",
     "output_type": "stream",
     "text": [
      "Training Step: 180  | time: 0.059s\n\u001b[2K\r| Adam | epoch: 018 | loss: 0.00000 - acc: 1.0000 -- iter: 595/595\n--\n"
     ]
    },
    {
     "name": "stdout",
     "output_type": "stream",
     "text": [
      "Training Step: 181  | time: 0.005s\n\u001b[2K\r| Adam | epoch: 019 | loss: 0.00000 - acc: 1.0000 -- iter: 064/595\n"
     ]
    },
    {
     "name": "stdout",
     "output_type": "stream",
     "text": [
      "Training Step: 182  | time: 0.012s\n\u001b[2K\r| Adam | epoch: 019 | loss: 0.00000 - acc: 1.0000 -- iter: 128/595\n"
     ]
    },
    {
     "name": "stdout",
     "output_type": "stream",
     "text": [
      "Training Step: 183  | time: 0.020s\n\u001b[2K\r| Adam | epoch: 019 | loss: 0.00000 - acc: 1.0000 -- iter: 192/595\n"
     ]
    },
    {
     "name": "stdout",
     "output_type": "stream",
     "text": [
      "Training Step: 184  | time: 0.024s\n\u001b[2K\r| Adam | epoch: 019 | loss: 0.00000 - acc: 1.0000 -- iter: 256/595\n"
     ]
    },
    {
     "name": "stdout",
     "output_type": "stream",
     "text": [
      "Training Step: 185  | time: 0.035s\n\u001b[2K\r| Adam | epoch: 019 | loss: 0.00000 - acc: 1.0000 -- iter: 320/595\n"
     ]
    },
    {
     "name": "stdout",
     "output_type": "stream",
     "text": [
      "Training Step: 186  | time: 0.044s\n\u001b[2K\r| Adam | epoch: 019 | loss: 0.00000 - acc: 1.0000 -- iter: 384/595\n"
     ]
    },
    {
     "name": "stdout",
     "output_type": "stream",
     "text": [
      "Training Step: 187  | time: 0.049s\n\u001b[2K\r| Adam | epoch: 019 | loss: 0.00000 - acc: 1.0000 -- iter: 448/595\n"
     ]
    },
    {
     "name": "stdout",
     "output_type": "stream",
     "text": [
      "Training Step: 188  | time: 0.054s\n\u001b[2K\r| Adam | epoch: 019 | loss: 0.00000 - acc: 1.0000 -- iter: 512/595\n"
     ]
    },
    {
     "name": "stdout",
     "output_type": "stream",
     "text": [
      "Training Step: 189  | time: 0.059s\n\u001b[2K\r| Adam | epoch: 019 | loss: 0.00000 - acc: 1.0000 -- iter: 576/595\n"
     ]
    },
    {
     "name": "stdout",
     "output_type": "stream",
     "text": [
      "Training Step: 190  | time: 0.064s\n\u001b[2K\r| Adam | epoch: 019 | loss: 0.00000 - acc: 1.0000 -- iter: 595/595\n--\n"
     ]
    },
    {
     "name": "stdout",
     "output_type": "stream",
     "text": [
      "Training Step: 191  | time: 0.005s\n\u001b[2K\r| Adam | epoch: 020 | loss: 0.00000 - acc: 1.0000 -- iter: 064/595\n"
     ]
    },
    {
     "name": "stdout",
     "output_type": "stream",
     "text": [
      "Training Step: 192  | time: 0.014s\n\u001b[2K\r| Adam | epoch: 020 | loss: 0.00000 - acc: 1.0000 -- iter: 128/595\n"
     ]
    },
    {
     "name": "stdout",
     "output_type": "stream",
     "text": [
      "Training Step: 193  | time: 0.021s\n\u001b[2K\r| Adam | epoch: 020 | loss: 0.00000 - acc: 1.0000 -- iter: 192/595\n"
     ]
    },
    {
     "name": "stdout",
     "output_type": "stream",
     "text": [
      "Training Step: 194  | time: 0.025s\n\u001b[2K\r| Adam | epoch: 020 | loss: 0.00000 - acc: 1.0000 -- iter: 256/595\n"
     ]
    },
    {
     "name": "stdout",
     "output_type": "stream",
     "text": [
      "Training Step: 195  | time: 0.030s\n\u001b[2K\r| Adam | epoch: 020 | loss: 0.00000 - acc: 1.0000 -- iter: 320/595\n"
     ]
    },
    {
     "name": "stdout",
     "output_type": "stream",
     "text": [
      "Training Step: 196  | time: 0.035s\n\u001b[2K\r| Adam | epoch: 020 | loss: 0.00000 - acc: 1.0000 -- iter: 384/595\n"
     ]
    },
    {
     "name": "stdout",
     "output_type": "stream",
     "text": [
      "Training Step: 197  | time: 0.040s\n\u001b[2K\r| Adam | epoch: 020 | loss: 0.00000 - acc: 1.0000 -- iter: 448/595\n"
     ]
    },
    {
     "name": "stdout",
     "output_type": "stream",
     "text": [
      "Training Step: 198  | time: 0.047s\n\u001b[2K\r| Adam | epoch: 020 | loss: 0.00000 - acc: 1.0000 -- iter: 512/595\n"
     ]
    },
    {
     "name": "stdout",
     "output_type": "stream",
     "text": [
      "Training Step: 199  | time: 0.052s\n\u001b[2K\r| Adam | epoch: 020 | loss: 0.00000 - acc: 1.0000 -- iter: 576/595\n"
     ]
    },
    {
     "name": "stdout",
     "output_type": "stream",
     "text": [
      "Training Step: 200  | time: 0.058s\n\u001b[2K\r| Adam | epoch: 020 | loss: 0.00000 - acc: 1.0000 -- iter: 595/595\n--\n"
     ]
    },
    {
     "name": "stdout",
     "output_type": "stream",
     "text": [
      "Training Step: 201  | time: 0.005s\n\u001b[2K\r| Adam | epoch: 021 | loss: 0.00000 - acc: 1.0000 -- iter: 064/595\n"
     ]
    },
    {
     "name": "stdout",
     "output_type": "stream",
     "text": [
      "Training Step: 202  | time: 0.017s\n\u001b[2K\r| Adam | epoch: 021 | loss: 0.00000 - acc: 1.0000 -- iter: 128/595\n"
     ]
    },
    {
     "name": "stdout",
     "output_type": "stream",
     "text": [
      "Training Step: 203  | time: 0.022s\n\u001b[2K\r| Adam | epoch: 021 | loss: 0.00000 - acc: 1.0000 -- iter: 192/595\n"
     ]
    },
    {
     "name": "stdout",
     "output_type": "stream",
     "text": [
      "Training Step: 204  | time: 0.030s\n\u001b[2K\r| Adam | epoch: 021 | loss: 0.00000 - acc: 1.0000 -- iter: 256/595\n"
     ]
    },
    {
     "name": "stdout",
     "output_type": "stream",
     "text": [
      "Training Step: 205  | time: 0.038s\n\u001b[2K\r| Adam | epoch: 021 | loss: 0.00000 - acc: 1.0000 -- iter: 320/595\n"
     ]
    },
    {
     "name": "stdout",
     "output_type": "stream",
     "text": [
      "Training Step: 206  | time: 0.043s\n\u001b[2K\r| Adam | epoch: 021 | loss: 0.00000 - acc: 1.0000 -- iter: 384/595\n"
     ]
    },
    {
     "name": "stdout",
     "output_type": "stream",
     "text": [
      "Training Step: 207  | time: 0.047s\n\u001b[2K\r| Adam | epoch: 021 | loss: 0.00000 - acc: 1.0000 -- iter: 448/595\n"
     ]
    },
    {
     "name": "stdout",
     "output_type": "stream",
     "text": [
      "Training Step: 208  | time: 0.056s\n\u001b[2K\r| Adam | epoch: 021 | loss: 0.00000 - acc: 1.0000 -- iter: 512/595\n"
     ]
    },
    {
     "name": "stdout",
     "output_type": "stream",
     "text": [
      "Training Step: 209  | time: 0.060s\n\u001b[2K\r| Adam | epoch: 021 | loss: 0.00000 - acc: 1.0000 -- iter: 576/595\n"
     ]
    },
    {
     "name": "stdout",
     "output_type": "stream",
     "text": [
      "Training Step: 210  | time: 0.065s\n\u001b[2K\r| Adam | epoch: 021 | loss: 0.00000 - acc: 1.0000 -- iter: 595/595\n--\n"
     ]
    },
    {
     "name": "stdout",
     "output_type": "stream",
     "text": [
      "Training Step: 211  | time: 0.009s\n\u001b[2K\r| Adam | epoch: 022 | loss: 0.00000 - acc: 1.0000 -- iter: 064/595\n"
     ]
    },
    {
     "name": "stdout",
     "output_type": "stream",
     "text": [
      "Training Step: 212  | time: 0.014s\n\u001b[2K\r| Adam | epoch: 022 | loss: 0.00000 - acc: 1.0000 -- iter: 128/595\n"
     ]
    },
    {
     "name": "stdout",
     "output_type": "stream",
     "text": [
      "Training Step: 213  | time: 0.019s\n\u001b[2K\r| Adam | epoch: 022 | loss: 0.00000 - acc: 1.0000 -- iter: 192/595\n"
     ]
    },
    {
     "name": "stdout",
     "output_type": "stream",
     "text": [
      "Training Step: 214  | time: 0.025s\n\u001b[2K\r| Adam | epoch: 022 | loss: 0.00000 - acc: 1.0000 -- iter: 256/595\n"
     ]
    },
    {
     "name": "stdout",
     "output_type": "stream",
     "text": [
      "Training Step: 215  | time: 0.030s\n\u001b[2K\r| Adam | epoch: 022 | loss: 0.00000 - acc: 1.0000 -- iter: 320/595\n"
     ]
    },
    {
     "name": "stdout",
     "output_type": "stream",
     "text": [
      "Training Step: 216  | time: 0.035s\n\u001b[2K\r| Adam | epoch: 022 | loss: 0.00000 - acc: 1.0000 -- iter: 384/595\n"
     ]
    },
    {
     "name": "stdout",
     "output_type": "stream",
     "text": [
      "Training Step: 217  | time: 0.043s\n\u001b[2K\r| Adam | epoch: 022 | loss: 0.00000 - acc: 1.0000 -- iter: 448/595\n"
     ]
    },
    {
     "name": "stdout",
     "output_type": "stream",
     "text": [
      "Training Step: 218  | time: 0.049s\n\u001b[2K\r| Adam | epoch: 022 | loss: 0.00000 - acc: 1.0000 -- iter: 512/595\n"
     ]
    },
    {
     "name": "stdout",
     "output_type": "stream",
     "text": [
      "Training Step: 219  | time: 0.053s\n\u001b[2K\r| Adam | epoch: 022 | loss: 0.00000 - acc: 1.0000 -- iter: 576/595\n"
     ]
    },
    {
     "name": "stdout",
     "output_type": "stream",
     "text": [
      "Training Step: 220  | time: 0.057s\n\u001b[2K\r| Adam | epoch: 022 | loss: 0.00000 - acc: 1.0000 -- iter: 595/595\n--\n"
     ]
    },
    {
     "name": "stdout",
     "output_type": "stream",
     "text": [
      "Training Step: 221  | time: 0.005s\n\u001b[2K\r| Adam | epoch: 023 | loss: 0.00000 - acc: 1.0000 -- iter: 064/595\n"
     ]
    },
    {
     "name": "stdout",
     "output_type": "stream",
     "text": [
      "Training Step: 222  | time: 0.010s\n\u001b[2K\r| Adam | epoch: 023 | loss: 0.00000 - acc: 1.0000 -- iter: 128/595\n"
     ]
    },
    {
     "name": "stdout",
     "output_type": "stream",
     "text": [
      "Training Step: 223  | time: 0.014s\n\u001b[2K\r| Adam | epoch: 023 | loss: 0.00000 - acc: 1.0000 -- iter: 192/595\n"
     ]
    },
    {
     "name": "stdout",
     "output_type": "stream",
     "text": [
      "Training Step: 224  | time: 0.019s\n\u001b[2K\r| Adam | epoch: 023 | loss: 0.00000 - acc: 1.0000 -- iter: 256/595\n"
     ]
    },
    {
     "name": "stdout",
     "output_type": "stream",
     "text": [
      "Training Step: 225  | time: 0.027s\n\u001b[2K\r| Adam | epoch: 023 | loss: 0.00000 - acc: 1.0000 -- iter: 320/595\n"
     ]
    },
    {
     "name": "stdout",
     "output_type": "stream",
     "text": [
      "Training Step: 226  | time: 0.033s\n\u001b[2K\r| Adam | epoch: 023 | loss: 0.00000 - acc: 1.0000 -- iter: 384/595\n"
     ]
    },
    {
     "name": "stdout",
     "output_type": "stream",
     "text": [
      "Training Step: 227  | time: 0.040s\n\u001b[2K\r| Adam | epoch: 023 | loss: 0.00000 - acc: 1.0000 -- iter: 448/595\n"
     ]
    },
    {
     "name": "stdout",
     "output_type": "stream",
     "text": [
      "Training Step: 228  | time: 0.045s\n\u001b[2K\r| Adam | epoch: 023 | loss: 0.00000 - acc: 1.0000 -- iter: 512/595\n"
     ]
    },
    {
     "name": "stdout",
     "output_type": "stream",
     "text": [
      "Training Step: 229  | time: 0.052s\n\u001b[2K\r| Adam | epoch: 023 | loss: 0.00000 - acc: 1.0000 -- iter: 576/595\n"
     ]
    },
    {
     "name": "stdout",
     "output_type": "stream",
     "text": [
      "Training Step: 230  | time: 0.059s\n\u001b[2K\r| Adam | epoch: 023 | loss: 0.00000 - acc: 1.0000 -- iter: 595/595\n--\n"
     ]
    },
    {
     "name": "stdout",
     "output_type": "stream",
     "text": [
      "Training Step: 231  | time: 0.004s\n\u001b[2K\r| Adam | epoch: 024 | loss: 0.00000 - acc: 1.0000 -- iter: 064/595\n"
     ]
    },
    {
     "name": "stdout",
     "output_type": "stream",
     "text": [
      "Training Step: 232  | time: 0.010s\n\u001b[2K\r| Adam | epoch: 024 | loss: 0.00000 - acc: 1.0000 -- iter: 128/595\n"
     ]
    },
    {
     "name": "stdout",
     "output_type": "stream",
     "text": [
      "Training Step: 233  | time: 0.015s\n\u001b[2K\r| Adam | epoch: 024 | loss: 0.00000 - acc: 1.0000 -- iter: 192/595\n"
     ]
    },
    {
     "name": "stdout",
     "output_type": "stream",
     "text": [
      "Training Step: 234  | time: 0.023s\n\u001b[2K\r| Adam | epoch: 024 | loss: 0.00000 - acc: 1.0000 -- iter: 256/595\n"
     ]
    },
    {
     "name": "stdout",
     "output_type": "stream",
     "text": [
      "Training Step: 235  | time: 0.030s\n\u001b[2K\r| Adam | epoch: 024 | loss: 0.00000 - acc: 1.0000 -- iter: 320/595\n"
     ]
    },
    {
     "name": "stdout",
     "output_type": "stream",
     "text": [
      "Training Step: 236  | time: 0.035s\n\u001b[2K\r| Adam | epoch: 024 | loss: 0.00000 - acc: 1.0000 -- iter: 384/595\n"
     ]
    },
    {
     "name": "stdout",
     "output_type": "stream",
     "text": [
      "Training Step: 237  | time: 0.039s\n\u001b[2K\r| Adam | epoch: 024 | loss: 0.00000 - acc: 1.0000 -- iter: 448/595\n"
     ]
    },
    {
     "name": "stdout",
     "output_type": "stream",
     "text": [
      "Training Step: 238  | time: 0.048s\n\u001b[2K\r| Adam | epoch: 024 | loss: 0.00000 - acc: 1.0000 -- iter: 512/595\n"
     ]
    },
    {
     "name": "stdout",
     "output_type": "stream",
     "text": [
      "Training Step: 239  | time: 0.053s\n\u001b[2K\r| Adam | epoch: 024 | loss: 0.00000 - acc: 1.0000 -- iter: 576/595\n"
     ]
    },
    {
     "name": "stdout",
     "output_type": "stream",
     "text": [
      "Training Step: 240  | time: 0.058s\n\u001b[2K\r| Adam | epoch: 024 | loss: 0.00000 - acc: 1.0000 -- iter: 595/595\n--\n"
     ]
    },
    {
     "name": "stdout",
     "output_type": "stream",
     "text": [
      "Training Step: 241  | time: 0.005s\n\u001b[2K\r| Adam | epoch: 025 | loss: 0.00000 - acc: 1.0000 -- iter: 064/595\n"
     ]
    },
    {
     "name": "stdout",
     "output_type": "stream",
     "text": [
      "Training Step: 242  | time: 0.012s\n\u001b[2K\r| Adam | epoch: 025 | loss: 0.00000 - acc: 1.0000 -- iter: 128/595\n"
     ]
    },
    {
     "name": "stdout",
     "output_type": "stream",
     "text": [
      "Training Step: 243  | time: 0.020s\n\u001b[2K\r| Adam | epoch: 025 | loss: 0.00000 - acc: 1.0000 -- iter: 192/595\n"
     ]
    },
    {
     "name": "stdout",
     "output_type": "stream",
     "text": [
      "Training Step: 244  | time: 0.026s\n\u001b[2K\r| Adam | epoch: 025 | loss: 0.00000 - acc: 1.0000 -- iter: 256/595\n"
     ]
    },
    {
     "name": "stdout",
     "output_type": "stream",
     "text": [
      "Training Step: 245  | time: 0.030s\n\u001b[2K\r| Adam | epoch: 025 | loss: 0.00000 - acc: 1.0000 -- iter: 320/595\n"
     ]
    },
    {
     "name": "stdout",
     "output_type": "stream",
     "text": [
      "Training Step: 246  | time: 0.037s\n\u001b[2K\r| Adam | epoch: 025 | loss: 0.00000 - acc: 1.0000 -- iter: 384/595\n"
     ]
    },
    {
     "name": "stdout",
     "output_type": "stream",
     "text": [
      "Training Step: 247  | time: 0.047s\n\u001b[2K\r| Adam | epoch: 025 | loss: 0.00000 - acc: 1.0000 -- iter: 448/595\n"
     ]
    },
    {
     "name": "stdout",
     "output_type": "stream",
     "text": [
      "Training Step: 248  | time: 0.050s\n\u001b[2K\r| Adam | epoch: 025 | loss: 0.00000 - acc: 1.0000 -- iter: 512/595\n"
     ]
    },
    {
     "name": "stdout",
     "output_type": "stream",
     "text": [
      "Training Step: 249  | time: 0.054s\n\u001b[2K\r| Adam | epoch: 025 | loss: 0.00000 - acc: 1.0000 -- iter: 576/595\n"
     ]
    },
    {
     "name": "stdout",
     "output_type": "stream",
     "text": [
      "Training Step: 250  | time: 0.063s\n\u001b[2K\r| Adam | epoch: 025 | loss: 0.00000 - acc: 1.0000 -- iter: 595/595\n--\n"
     ]
    },
    {
     "name": "stdout",
     "output_type": "stream",
     "text": [
      "Training Step: 251  | time: 0.006s\n\u001b[2K\r| Adam | epoch: 026 | loss: 0.00000 - acc: 1.0000 -- iter: 064/595\n"
     ]
    },
    {
     "name": "stdout",
     "output_type": "stream",
     "text": [
      "Training Step: 252  | time: 0.013s\n\u001b[2K\r| Adam | epoch: 026 | loss: 0.00000 - acc: 1.0000 -- iter: 128/595\n"
     ]
    },
    {
     "name": "stdout",
     "output_type": "stream",
     "text": [
      "Training Step: 253  | time: 0.025s\n\u001b[2K\r| Adam | epoch: 026 | loss: 0.00000 - acc: 1.0000 -- iter: 192/595\n"
     ]
    },
    {
     "name": "stdout",
     "output_type": "stream",
     "text": [
      "Training Step: 254  | time: 0.029s\n\u001b[2K\r| Adam | epoch: 026 | loss: 0.00000 - acc: 1.0000 -- iter: 256/595\n"
     ]
    },
    {
     "name": "stdout",
     "output_type": "stream",
     "text": [
      "Training Step: 255  | time: 0.034s\n\u001b[2K\r| Adam | epoch: 026 | loss: 0.00000 - acc: 1.0000 -- iter: 320/595\n"
     ]
    },
    {
     "name": "stdout",
     "output_type": "stream",
     "text": [
      "Training Step: 256  | time: 0.040s\n\u001b[2K\r| Adam | epoch: 026 | loss: 0.00000 - acc: 1.0000 -- iter: 384/595\n"
     ]
    },
    {
     "name": "stdout",
     "output_type": "stream",
     "text": [
      "Training Step: 257  | time: 0.047s\n\u001b[2K\r| Adam | epoch: 026 | loss: 0.00000 - acc: 1.0000 -- iter: 448/595\n"
     ]
    },
    {
     "name": "stdout",
     "output_type": "stream",
     "text": [
      "Training Step: 258  | time: 0.052s\n\u001b[2K\r| Adam | epoch: 026 | loss: 0.00000 - acc: 1.0000 -- iter: 512/595\n"
     ]
    },
    {
     "name": "stdout",
     "output_type": "stream",
     "text": [
      "Training Step: 259  | time: 0.059s\n\u001b[2K\r| Adam | epoch: 026 | loss: 0.00000 - acc: 1.0000 -- iter: 576/595\n"
     ]
    },
    {
     "name": "stdout",
     "output_type": "stream",
     "text": [
      "Training Step: 260  | time: 0.063s\n\u001b[2K\r| Adam | epoch: 026 | loss: 0.00000 - acc: 1.0000 -- iter: 595/595\n--\n"
     ]
    },
    {
     "name": "stdout",
     "output_type": "stream",
     "text": [
      "Training Step: 261  | time: 0.007s\n\u001b[2K\r| Adam | epoch: 027 | loss: 0.00000 - acc: 1.0000 -- iter: 064/595\n"
     ]
    },
    {
     "name": "stdout",
     "output_type": "stream",
     "text": [
      "Training Step: 262  | time: 0.015s\n\u001b[2K\r| Adam | epoch: 027 | loss: 0.00000 - acc: 1.0000 -- iter: 128/595\n"
     ]
    },
    {
     "name": "stdout",
     "output_type": "stream",
     "text": [
      "Training Step: 263  | time: 0.020s\n\u001b[2K\r| Adam | epoch: 027 | loss: 0.00000 - acc: 1.0000 -- iter: 192/595\n"
     ]
    },
    {
     "name": "stdout",
     "output_type": "stream",
     "text": [
      "Training Step: 264  | time: 0.026s\n\u001b[2K\r| Adam | epoch: 027 | loss: 0.00000 - acc: 1.0000 -- iter: 256/595\n"
     ]
    },
    {
     "name": "stdout",
     "output_type": "stream",
     "text": [
      "Training Step: 265  | time: 0.032s\n\u001b[2K\r| Adam | epoch: 027 | loss: 0.00000 - acc: 1.0000 -- iter: 320/595\n"
     ]
    },
    {
     "name": "stdout",
     "output_type": "stream",
     "text": [
      "Training Step: 266  | time: 0.037s\n\u001b[2K\r| Adam | epoch: 027 | loss: 0.00000 - acc: 1.0000 -- iter: 384/595\n"
     ]
    },
    {
     "name": "stdout",
     "output_type": "stream",
     "text": [
      "Training Step: 267  | time: 0.041s\n\u001b[2K\r| Adam | epoch: 027 | loss: 0.00000 - acc: 1.0000 -- iter: 448/595\n"
     ]
    },
    {
     "name": "stdout",
     "output_type": "stream",
     "text": [
      "Training Step: 268  | time: 0.046s\n\u001b[2K\r| Adam | epoch: 027 | loss: 0.00000 - acc: 1.0000 -- iter: 512/595\n"
     ]
    },
    {
     "name": "stdout",
     "output_type": "stream",
     "text": [
      "Training Step: 269  | time: 0.052s\n\u001b[2K\r| Adam | epoch: 027 | loss: 0.00000 - acc: 1.0000 -- iter: 576/595\n"
     ]
    },
    {
     "name": "stdout",
     "output_type": "stream",
     "text": [
      "Training Step: 270  | time: 0.055s\n\u001b[2K\r| Adam | epoch: 027 | loss: 0.00000 - acc: 1.0000 -- iter: 595/595\n--\n"
     ]
    },
    {
     "name": "stdout",
     "output_type": "stream",
     "text": [
      "Training Step: 271  | time: 0.004s\n\u001b[2K\r| Adam | epoch: 028 | loss: 0.00000 - acc: 1.0000 -- iter: 064/595\n"
     ]
    },
    {
     "name": "stdout",
     "output_type": "stream",
     "text": [
      "Training Step: 272  | time: 0.009s\n\u001b[2K\r| Adam | epoch: 028 | loss: 0.00000 - acc: 1.0000 -- iter: 128/595\n"
     ]
    },
    {
     "name": "stdout",
     "output_type": "stream",
     "text": [
      "Training Step: 273  | time: 0.015s\n\u001b[2K\r| Adam | epoch: 028 | loss: 0.00000 - acc: 1.0000 -- iter: 192/595\n"
     ]
    },
    {
     "name": "stdout",
     "output_type": "stream",
     "text": [
      "Training Step: 274  | time: 0.019s\n\u001b[2K\r| Adam | epoch: 028 | loss: 0.00000 - acc: 1.0000 -- iter: 256/595\n"
     ]
    },
    {
     "name": "stdout",
     "output_type": "stream",
     "text": [
      "Training Step: 275  | time: 0.023s\n\u001b[2K\r| Adam | epoch: 028 | loss: 0.00000 - acc: 1.0000 -- iter: 320/595\n"
     ]
    },
    {
     "name": "stdout",
     "output_type": "stream",
     "text": [
      "Training Step: 276  | time: 0.028s\n\u001b[2K\r| Adam | epoch: 028 | loss: 0.00000 - acc: 1.0000 -- iter: 384/595\n"
     ]
    },
    {
     "name": "stdout",
     "output_type": "stream",
     "text": [
      "Training Step: 277  | time: 0.037s\n\u001b[2K\r| Adam | epoch: 028 | loss: 0.00000 - acc: 1.0000 -- iter: 448/595\n"
     ]
    },
    {
     "name": "stdout",
     "output_type": "stream",
     "text": [
      "Training Step: 278  | time: 0.041s\n\u001b[2K\r| Adam | epoch: 028 | loss: 0.00000 - acc: 1.0000 -- iter: 512/595\n"
     ]
    },
    {
     "name": "stdout",
     "output_type": "stream",
     "text": [
      "Training Step: 279  | time: 0.047s\n\u001b[2K\r| Adam | epoch: 028 | loss: 0.00000 - acc: 1.0000 -- iter: 576/595\n"
     ]
    },
    {
     "name": "stdout",
     "output_type": "stream",
     "text": [
      "Training Step: 280  | time: 0.056s\n\u001b[2K\r| Adam | epoch: 028 | loss: 0.00000 - acc: 1.0000 -- iter: 595/595\n--\n"
     ]
    },
    {
     "name": "stdout",
     "output_type": "stream",
     "text": [
      "Training Step: 281  | time: 0.004s\n\u001b[2K\r| Adam | epoch: 029 | loss: 0.00000 - acc: 1.0000 -- iter: 064/595\n"
     ]
    },
    {
     "name": "stdout",
     "output_type": "stream",
     "text": [
      "Training Step: 282  | time: 0.008s\n\u001b[2K\r| Adam | epoch: 029 | loss: 0.00000 - acc: 1.0000 -- iter: 128/595\n"
     ]
    },
    {
     "name": "stdout",
     "output_type": "stream",
     "text": [
      "Training Step: 283  | time: 0.014s\n\u001b[2K\r| Adam | epoch: 029 | loss: 0.00000 - acc: 1.0000 -- iter: 192/595\n"
     ]
    },
    {
     "name": "stdout",
     "output_type": "stream",
     "text": [
      "Training Step: 284  | time: 0.021s\n\u001b[2K\r| Adam | epoch: 029 | loss: 0.00000 - acc: 1.0000 -- iter: 256/595\n"
     ]
    },
    {
     "name": "stdout",
     "output_type": "stream",
     "text": [
      "Training Step: 285  | time: 0.025s\n\u001b[2K\r| Adam | epoch: 029 | loss: 0.00000 - acc: 1.0000 -- iter: 320/595\n"
     ]
    },
    {
     "name": "stdout",
     "output_type": "stream",
     "text": [
      "Training Step: 286  | time: 0.029s\n\u001b[2K\r| Adam | epoch: 029 | loss: 0.00000 - acc: 1.0000 -- iter: 384/595\n"
     ]
    },
    {
     "name": "stdout",
     "output_type": "stream",
     "text": [
      "Training Step: 287  | time: 0.034s\n\u001b[2K\r| Adam | epoch: 029 | loss: 0.00000 - acc: 1.0000 -- iter: 448/595\n"
     ]
    },
    {
     "name": "stdout",
     "output_type": "stream",
     "text": [
      "Training Step: 288  | time: 0.039s\n\u001b[2K\r| Adam | epoch: 029 | loss: 0.00000 - acc: 1.0000 -- iter: 512/595\n"
     ]
    },
    {
     "name": "stdout",
     "output_type": "stream",
     "text": [
      "Training Step: 289  | time: 0.043s\n\u001b[2K\r| Adam | epoch: 029 | loss: 0.00000 - acc: 1.0000 -- iter: 576/595\n"
     ]
    },
    {
     "name": "stdout",
     "output_type": "stream",
     "text": [
      "Training Step: 290  | time: 0.048s\n\u001b[2K\r| Adam | epoch: 029 | loss: 0.00000 - acc: 1.0000 -- iter: 595/595\n--\n"
     ]
    },
    {
     "name": "stdout",
     "output_type": "stream",
     "text": [
      "Training Step: 291  | time: 0.006s\n\u001b[2K\r| Adam | epoch: 030 | loss: 0.00000 - acc: 1.0000 -- iter: 064/595\n"
     ]
    },
    {
     "name": "stdout",
     "output_type": "stream",
     "text": [
      "Training Step: 292  | time: 0.010s\n\u001b[2K\r| Adam | epoch: 030 | loss: 0.00000 - acc: 1.0000 -- iter: 128/595\n"
     ]
    },
    {
     "name": "stdout",
     "output_type": "stream",
     "text": [
      "Training Step: 293  | time: 0.016s\n\u001b[2K\r| Adam | epoch: 030 | loss: 0.00000 - acc: 1.0000 -- iter: 192/595\n"
     ]
    },
    {
     "name": "stdout",
     "output_type": "stream",
     "text": [
      "Training Step: 294  | time: 0.022s\n\u001b[2K\r| Adam | epoch: 030 | loss: 0.00000 - acc: 1.0000 -- iter: 256/595\n"
     ]
    },
    {
     "name": "stdout",
     "output_type": "stream",
     "text": [
      "Training Step: 295  | time: 0.027s\n\u001b[2K\r| Adam | epoch: 030 | loss: 0.00000 - acc: 1.0000 -- iter: 320/595\n"
     ]
    },
    {
     "name": "stdout",
     "output_type": "stream",
     "text": [
      "Training Step: 296  | time: 0.032s\n\u001b[2K\r| Adam | epoch: 030 | loss: 0.00000 - acc: 1.0000 -- iter: 384/595\n"
     ]
    },
    {
     "name": "stdout",
     "output_type": "stream",
     "text": [
      "Training Step: 297  | time: 0.037s\n\u001b[2K\r| Adam | epoch: 030 | loss: 0.00000 - acc: 1.0000 -- iter: 448/595\n"
     ]
    },
    {
     "name": "stdout",
     "output_type": "stream",
     "text": [
      "Training Step: 298  | time: 0.043s\n\u001b[2K\r| Adam | epoch: 030 | loss: 0.00000 - acc: 1.0000 -- iter: 512/595\n"
     ]
    },
    {
     "name": "stdout",
     "output_type": "stream",
     "text": [
      "Training Step: 299  | time: 0.047s\n\u001b[2K\r| Adam | epoch: 030 | loss: 0.00000 - acc: 1.0000 -- iter: 576/595\n"
     ]
    },
    {
     "name": "stdout",
     "output_type": "stream",
     "text": [
      "Training Step: 300  | time: 0.051s\n\u001b[2K\r| Adam | epoch: 030 | loss: 0.00000 - acc: 1.0000 -- iter: 595/595\n--\n"
     ]
    },
    {
     "name": "stdout",
     "output_type": "stream",
     "text": [
      "Training Step: 301  | time: 0.006s\n\u001b[2K\r| Adam | epoch: 031 | loss: 0.00000 - acc: 1.0000 -- iter: 064/595\n"
     ]
    },
    {
     "name": "stdout",
     "output_type": "stream",
     "text": [
      "Training Step: 302  | time: 0.019s\n\u001b[2K\r| Adam | epoch: 031 | loss: 0.00000 - acc: 1.0000 -- iter: 128/595\n"
     ]
    },
    {
     "name": "stdout",
     "output_type": "stream",
     "text": [
      "Training Step: 303  | time: 0.023s\n\u001b[2K\r| Adam | epoch: 031 | loss: 0.00000 - acc: 1.0000 -- iter: 192/595\n"
     ]
    },
    {
     "name": "stdout",
     "output_type": "stream",
     "text": [
      "Training Step: 304  | time: 0.027s\n\u001b[2K\r| Adam | epoch: 031 | loss: 0.00000 - acc: 1.0000 -- iter: 256/595\n"
     ]
    },
    {
     "name": "stdout",
     "output_type": "stream",
     "text": [
      "Training Step: 305  | time: 0.033s\n\u001b[2K\r| Adam | epoch: 031 | loss: 0.00000 - acc: 1.0000 -- iter: 320/595\n"
     ]
    },
    {
     "name": "stdout",
     "output_type": "stream",
     "text": [
      "Training Step: 306  | time: 0.040s\n\u001b[2K\r| Adam | epoch: 031 | loss: 0.00000 - acc: 1.0000 -- iter: 384/595\n"
     ]
    },
    {
     "name": "stdout",
     "output_type": "stream",
     "text": [
      "Training Step: 307  | time: 0.044s\n\u001b[2K\r| Adam | epoch: 031 | loss: 0.00000 - acc: 1.0000 -- iter: 448/595\n"
     ]
    },
    {
     "name": "stdout",
     "output_type": "stream",
     "text": [
      "Training Step: 308  | time: 0.048s\n\u001b[2K\r| Adam | epoch: 031 | loss: 0.00000 - acc: 1.0000 -- iter: 512/595\n"
     ]
    },
    {
     "name": "stdout",
     "output_type": "stream",
     "text": [
      "Training Step: 309  | time: 0.053s\n\u001b[2K\r| Adam | epoch: 031 | loss: 0.00000 - acc: 1.0000 -- iter: 576/595\n"
     ]
    },
    {
     "name": "stdout",
     "output_type": "stream",
     "text": [
      "Training Step: 310  | time: 0.060s\n\u001b[2K\r| Adam | epoch: 031 | loss: 0.00000 - acc: 1.0000 -- iter: 595/595\n--\n"
     ]
    },
    {
     "name": "stdout",
     "output_type": "stream",
     "text": [
      "Training Step: 311  | time: 0.004s\n\u001b[2K\r| Adam | epoch: 032 | loss: 0.00000 - acc: 1.0000 -- iter: 064/595\n"
     ]
    },
    {
     "name": "stdout",
     "output_type": "stream",
     "text": [
      "Training Step: 312  | time: 0.010s\n\u001b[2K\r| Adam | epoch: 032 | loss: 0.00000 - acc: 1.0000 -- iter: 128/595\n"
     ]
    },
    {
     "name": "stdout",
     "output_type": "stream",
     "text": [
      "Training Step: 313  | time: 0.017s\n\u001b[2K\r| Adam | epoch: 032 | loss: 0.00000 - acc: 1.0000 -- iter: 192/595\n"
     ]
    },
    {
     "name": "stdout",
     "output_type": "stream",
     "text": [
      "Training Step: 314  | time: 0.023s\n\u001b[2K\r| Adam | epoch: 032 | loss: 0.00000 - acc: 1.0000 -- iter: 256/595\n"
     ]
    },
    {
     "name": "stdout",
     "output_type": "stream",
     "text": [
      "Training Step: 315  | time: 0.026s\n\u001b[2K\r| Adam | epoch: 032 | loss: 0.00000 - acc: 1.0000 -- iter: 320/595\n"
     ]
    },
    {
     "name": "stdout",
     "output_type": "stream",
     "text": [
      "Training Step: 316  | time: 0.032s\n\u001b[2K\r| Adam | epoch: 032 | loss: 0.00000 - acc: 1.0000 -- iter: 384/595\n"
     ]
    },
    {
     "name": "stdout",
     "output_type": "stream",
     "text": [
      "Training Step: 317  | time: 0.039s\n\u001b[2K\r| Adam | epoch: 032 | loss: 0.00000 - acc: 1.0000 -- iter: 448/595\n"
     ]
    },
    {
     "name": "stdout",
     "output_type": "stream",
     "text": [
      "Training Step: 318  | time: 0.043s\n\u001b[2K\r| Adam | epoch: 032 | loss: 0.00000 - acc: 1.0000 -- iter: 512/595\n"
     ]
    },
    {
     "name": "stdout",
     "output_type": "stream",
     "text": [
      "Training Step: 319  | time: 0.046s\n\u001b[2K\r| Adam | epoch: 032 | loss: 0.00000 - acc: 1.0000 -- iter: 576/595\n"
     ]
    },
    {
     "name": "stdout",
     "output_type": "stream",
     "text": [
      "Training Step: 320  | time: 0.052s\n\u001b[2K\r| Adam | epoch: 032 | loss: 0.00000 - acc: 1.0000 -- iter: 595/595\n--\n"
     ]
    },
    {
     "name": "stdout",
     "output_type": "stream",
     "text": [
      "Training Step: 321  | time: 0.007s\n\u001b[2K\r| Adam | epoch: 033 | loss: 0.00000 - acc: 1.0000 -- iter: 064/595\n"
     ]
    },
    {
     "name": "stdout",
     "output_type": "stream",
     "text": [
      "Training Step: 322  | time: 0.011s\n\u001b[2K\r| Adam | epoch: 033 | loss: 0.00000 - acc: 1.0000 -- iter: 128/595\n"
     ]
    },
    {
     "name": "stdout",
     "output_type": "stream",
     "text": [
      "Training Step: 323  | time: 0.017s\n\u001b[2K\r| Adam | epoch: 033 | loss: 0.00000 - acc: 1.0000 -- iter: 192/595\n"
     ]
    },
    {
     "name": "stdout",
     "output_type": "stream",
     "text": [
      "Training Step: 324  | time: 0.023s\n\u001b[2K\r| Adam | epoch: 033 | loss: 0.00000 - acc: 1.0000 -- iter: 256/595\n"
     ]
    },
    {
     "name": "stdout",
     "output_type": "stream",
     "text": [
      "Training Step: 325  | time: 0.030s\n\u001b[2K\r| Adam | epoch: 033 | loss: 0.00000 - acc: 1.0000 -- iter: 320/595\n"
     ]
    },
    {
     "name": "stdout",
     "output_type": "stream",
     "text": [
      "Training Step: 326  | time: 0.036s\n\u001b[2K\r| Adam | epoch: 033 | loss: 0.00000 - acc: 1.0000 -- iter: 384/595\n"
     ]
    },
    {
     "name": "stdout",
     "output_type": "stream",
     "text": [
      "Training Step: 327  | time: 0.041s\n\u001b[2K\r| Adam | epoch: 033 | loss: 0.00000 - acc: 1.0000 -- iter: 448/595\n"
     ]
    },
    {
     "name": "stdout",
     "output_type": "stream",
     "text": [
      "Training Step: 328  | time: 0.048s\n\u001b[2K\r| Adam | epoch: 033 | loss: 0.00000 - acc: 1.0000 -- iter: 512/595\n"
     ]
    },
    {
     "name": "stdout",
     "output_type": "stream",
     "text": [
      "Training Step: 329  | time: 0.053s\n\u001b[2K\r| Adam | epoch: 033 | loss: 0.00000 - acc: 1.0000 -- iter: 576/595\n"
     ]
    },
    {
     "name": "stdout",
     "output_type": "stream",
     "text": [
      "Training Step: 330  | time: 0.056s\n\u001b[2K\r| Adam | epoch: 033 | loss: 0.00000 - acc: 1.0000 -- iter: 595/595\n--\n"
     ]
    },
    {
     "name": "stdout",
     "output_type": "stream",
     "text": [
      "Training Step: 331  | time: 0.007s\n\u001b[2K\r| Adam | epoch: 034 | loss: 0.00000 - acc: 1.0000 -- iter: 064/595\n"
     ]
    },
    {
     "name": "stdout",
     "output_type": "stream",
     "text": [
      "Training Step: 332  | time: 0.014s\n\u001b[2K\r| Adam | epoch: 034 | loss: 0.00000 - acc: 1.0000 -- iter: 128/595\n"
     ]
    },
    {
     "name": "stdout",
     "output_type": "stream",
     "text": [
      "Training Step: 333  | time: 0.017s\n\u001b[2K\r| Adam | epoch: 034 | loss: 0.00000 - acc: 1.0000 -- iter: 192/595\n"
     ]
    },
    {
     "name": "stdout",
     "output_type": "stream",
     "text": [
      "Training Step: 334  | time: 0.021s\n\u001b[2K\r| Adam | epoch: 034 | loss: 0.00000 - acc: 1.0000 -- iter: 256/595\n"
     ]
    },
    {
     "name": "stdout",
     "output_type": "stream",
     "text": [
      "Training Step: 335  | time: 0.026s\n\u001b[2K\r| Adam | epoch: 034 | loss: 0.00000 - acc: 1.0000 -- iter: 320/595\n"
     ]
    },
    {
     "name": "stdout",
     "output_type": "stream",
     "text": [
      "Training Step: 336  | time: 0.033s\n\u001b[2K\r| Adam | epoch: 034 | loss: 0.00000 - acc: 1.0000 -- iter: 384/595\n"
     ]
    },
    {
     "name": "stdout",
     "output_type": "stream",
     "text": [
      "Training Step: 337  | time: 0.038s\n\u001b[2K\r| Adam | epoch: 034 | loss: 0.00000 - acc: 1.0000 -- iter: 448/595\n"
     ]
    },
    {
     "name": "stdout",
     "output_type": "stream",
     "text": [
      "Training Step: 338  | time: 0.042s\n\u001b[2K\r| Adam | epoch: 034 | loss: 0.00000 - acc: 1.0000 -- iter: 512/595\n"
     ]
    },
    {
     "name": "stdout",
     "output_type": "stream",
     "text": [
      "Training Step: 339  | time: 0.050s\n\u001b[2K\r| Adam | epoch: 034 | loss: 0.00000 - acc: 1.0000 -- iter: 576/595\n"
     ]
    },
    {
     "name": "stdout",
     "output_type": "stream",
     "text": [
      "Training Step: 340  | time: 0.056s\n\u001b[2K\r| Adam | epoch: 034 | loss: 0.00000 - acc: 1.0000 -- iter: 595/595\n--\n"
     ]
    },
    {
     "name": "stdout",
     "output_type": "stream",
     "text": [
      "Training Step: 341  | time: 0.003s\n\u001b[2K\r| Adam | epoch: 035 | loss: 0.00000 - acc: 1.0000 -- iter: 064/595\n"
     ]
    },
    {
     "name": "stdout",
     "output_type": "stream",
     "text": [
      "Training Step: 342  | time: 0.010s\n\u001b[2K\r| Adam | epoch: 035 | loss: 0.00000 - acc: 1.0000 -- iter: 128/595\n"
     ]
    },
    {
     "name": "stdout",
     "output_type": "stream",
     "text": [
      "Training Step: 343  | time: 0.015s\n\u001b[2K\r| Adam | epoch: 035 | loss: 0.00000 - acc: 1.0000 -- iter: 192/595\n"
     ]
    },
    {
     "name": "stdout",
     "output_type": "stream",
     "text": [
      "Training Step: 344  | time: 0.019s\n\u001b[2K\r| Adam | epoch: 035 | loss: 0.00000 - acc: 1.0000 -- iter: 256/595\n"
     ]
    },
    {
     "name": "stdout",
     "output_type": "stream",
     "text": [
      "Training Step: 345  | time: 0.023s\n\u001b[2K\r| Adam | epoch: 035 | loss: 0.00000 - acc: 1.0000 -- iter: 320/595\n"
     ]
    },
    {
     "name": "stdout",
     "output_type": "stream",
     "text": [
      "Training Step: 346  | time: 0.029s\n\u001b[2K\r| Adam | epoch: 035 | loss: 0.00000 - acc: 1.0000 -- iter: 384/595\n"
     ]
    },
    {
     "name": "stdout",
     "output_type": "stream",
     "text": [
      "Training Step: 347  | time: 0.035s\n\u001b[2K\r| Adam | epoch: 035 | loss: 0.00000 - acc: 1.0000 -- iter: 448/595\n"
     ]
    },
    {
     "name": "stdout",
     "output_type": "stream",
     "text": [
      "Training Step: 348  | time: 0.040s\n\u001b[2K\r| Adam | epoch: 035 | loss: 0.00000 - acc: 1.0000 -- iter: 512/595\n"
     ]
    },
    {
     "name": "stdout",
     "output_type": "stream",
     "text": [
      "Training Step: 349  | time: 0.045s\n\u001b[2K\r| Adam | epoch: 035 | loss: 0.00000 - acc: 1.0000 -- iter: 576/595\n"
     ]
    },
    {
     "name": "stdout",
     "output_type": "stream",
     "text": [
      "Training Step: 350  | time: 0.051s\n\u001b[2K\r| Adam | epoch: 035 | loss: 0.00000 - acc: 1.0000 -- iter: 595/595\n--\n"
     ]
    },
    {
     "name": "stdout",
     "output_type": "stream",
     "text": [
      "Training Step: 351  | time: 0.006s\n\u001b[2K\r| Adam | epoch: 036 | loss: 0.00000 - acc: 1.0000 -- iter: 064/595\n"
     ]
    },
    {
     "name": "stdout",
     "output_type": "stream",
     "text": [
      "Training Step: 352  | time: 0.011s\n\u001b[2K\r| Adam | epoch: 036 | loss: 0.00000 - acc: 1.0000 -- iter: 128/595\n"
     ]
    },
    {
     "name": "stdout",
     "output_type": "stream",
     "text": [
      "Training Step: 353  | time: 0.015s\n\u001b[2K\r| Adam | epoch: 036 | loss: 0.00000 - acc: 1.0000 -- iter: 192/595\n"
     ]
    },
    {
     "name": "stdout",
     "output_type": "stream",
     "text": [
      "Training Step: 354  | time: 0.021s\n\u001b[2K\r| Adam | epoch: 036 | loss: 0.00000 - acc: 1.0000 -- iter: 256/595\n"
     ]
    },
    {
     "name": "stdout",
     "output_type": "stream",
     "text": [
      "Training Step: 355  | time: 0.027s\n\u001b[2K\r| Adam | epoch: 036 | loss: 0.00000 - acc: 1.0000 -- iter: 320/595\n"
     ]
    },
    {
     "name": "stdout",
     "output_type": "stream",
     "text": [
      "Training Step: 356  | time: 0.031s\n\u001b[2K\r| Adam | epoch: 036 | loss: 0.00000 - acc: 1.0000 -- iter: 384/595\n"
     ]
    },
    {
     "name": "stdout",
     "output_type": "stream",
     "text": [
      "Training Step: 357  | time: 0.035s\n\u001b[2K\r| Adam | epoch: 036 | loss: 0.00000 - acc: 1.0000 -- iter: 448/595\n"
     ]
    },
    {
     "name": "stdout",
     "output_type": "stream",
     "text": [
      "Training Step: 358  | time: 0.041s\n\u001b[2K\r| Adam | epoch: 036 | loss: 0.00000 - acc: 1.0000 -- iter: 512/595\n"
     ]
    },
    {
     "name": "stdout",
     "output_type": "stream",
     "text": [
      "Training Step: 359  | time: 0.048s\n\u001b[2K\r| Adam | epoch: 036 | loss: 0.00000 - acc: 1.0000 -- iter: 576/595\n"
     ]
    },
    {
     "name": "stdout",
     "output_type": "stream",
     "text": [
      "Training Step: 360  | time: 0.052s\n\u001b[2K\r| Adam | epoch: 036 | loss: 0.00000 - acc: 1.0000 -- iter: 595/595\n--\n"
     ]
    },
    {
     "name": "stdout",
     "output_type": "stream",
     "text": [
      "Training Step: 361  | time: 0.005s\n\u001b[2K\r| Adam | epoch: 037 | loss: 0.00000 - acc: 1.0000 -- iter: 064/595\n"
     ]
    },
    {
     "name": "stdout",
     "output_type": "stream",
     "text": [
      "Training Step: 362  | time: 0.014s\n\u001b[2K\r| Adam | epoch: 037 | loss: 0.00000 - acc: 1.0000 -- iter: 128/595\n"
     ]
    },
    {
     "name": "stdout",
     "output_type": "stream",
     "text": [
      "Training Step: 363  | time: 0.019s\n\u001b[2K\r| Adam | epoch: 037 | loss: 0.00000 - acc: 1.0000 -- iter: 192/595\n"
     ]
    },
    {
     "name": "stdout",
     "output_type": "stream",
     "text": [
      "Training Step: 364  | time: 0.023s\n\u001b[2K\r| Adam | epoch: 037 | loss: 0.00000 - acc: 1.0000 -- iter: 256/595\n"
     ]
    },
    {
     "name": "stdout",
     "output_type": "stream",
     "text": [
      "Training Step: 365  | time: 0.026s\n\u001b[2K\r| Adam | epoch: 037 | loss: 0.00000 - acc: 1.0000 -- iter: 320/595\n"
     ]
    },
    {
     "name": "stdout",
     "output_type": "stream",
     "text": [
      "Training Step: 366  | time: 0.032s\n\u001b[2K\r| Adam | epoch: 037 | loss: 0.00000 - acc: 1.0000 -- iter: 384/595\n"
     ]
    },
    {
     "name": "stdout",
     "output_type": "stream",
     "text": [
      "Training Step: 367  | time: 0.038s\n\u001b[2K\r| Adam | epoch: 037 | loss: 0.00000 - acc: 1.0000 -- iter: 448/595\n"
     ]
    },
    {
     "name": "stdout",
     "output_type": "stream",
     "text": [
      "Training Step: 368  | time: 0.043s\n\u001b[2K\r| Adam | epoch: 037 | loss: 0.00000 - acc: 1.0000 -- iter: 512/595\n"
     ]
    },
    {
     "name": "stdout",
     "output_type": "stream",
     "text": [
      "Training Step: 369  | time: 0.049s\n\u001b[2K\r| Adam | epoch: 037 | loss: 0.00000 - acc: 1.0000 -- iter: 576/595\n"
     ]
    },
    {
     "name": "stdout",
     "output_type": "stream",
     "text": [
      "Training Step: 370  | time: 0.055s\n\u001b[2K\r| Adam | epoch: 037 | loss: 0.00000 - acc: 1.0000 -- iter: 595/595\n--\n"
     ]
    },
    {
     "name": "stdout",
     "output_type": "stream",
     "text": [
      "Training Step: 371  | time: 0.012s\n\u001b[2K\r| Adam | epoch: 038 | loss: 0.00000 - acc: 1.0000 -- iter: 064/595\n"
     ]
    },
    {
     "name": "stdout",
     "output_type": "stream",
     "text": [
      "Training Step: 372  | time: 0.020s\n\u001b[2K\r| Adam | epoch: 038 | loss: 0.00000 - acc: 1.0000 -- iter: 128/595\n"
     ]
    },
    {
     "name": "stdout",
     "output_type": "stream",
     "text": [
      "Training Step: 373  | time: 0.024s\n\u001b[2K\r| Adam | epoch: 038 | loss: 0.00000 - acc: 1.0000 -- iter: 192/595\n"
     ]
    },
    {
     "name": "stdout",
     "output_type": "stream",
     "text": [
      "Training Step: 374  | time: 0.028s\n\u001b[2K\r| Adam | epoch: 038 | loss: 0.00000 - acc: 1.0000 -- iter: 256/595\n"
     ]
    },
    {
     "name": "stdout",
     "output_type": "stream",
     "text": [
      "Training Step: 375  | time: 0.034s\n\u001b[2K\r| Adam | epoch: 038 | loss: 0.00000 - acc: 1.0000 -- iter: 320/595\n"
     ]
    },
    {
     "name": "stdout",
     "output_type": "stream",
     "text": [
      "Training Step: 376  | time: 0.043s\n\u001b[2K\r| Adam | epoch: 038 | loss: 0.00000 - acc: 1.0000 -- iter: 384/595\n"
     ]
    },
    {
     "name": "stdout",
     "output_type": "stream",
     "text": [
      "Training Step: 377  | time: 0.048s\n\u001b[2K\r| Adam | epoch: 038 | loss: 0.00000 - acc: 1.0000 -- iter: 448/595\n"
     ]
    },
    {
     "name": "stdout",
     "output_type": "stream",
     "text": [
      "Training Step: 378  | time: 0.053s\n\u001b[2K\r| Adam | epoch: 038 | loss: 0.00000 - acc: 1.0000 -- iter: 512/595\n"
     ]
    },
    {
     "name": "stdout",
     "output_type": "stream",
     "text": [
      "Training Step: 379  | time: 0.058s\n\u001b[2K\r| Adam | epoch: 038 | loss: 0.00000 - acc: 1.0000 -- iter: 576/595\n"
     ]
    },
    {
     "name": "stdout",
     "output_type": "stream",
     "text": [
      "Training Step: 380  | time: 0.065s\n\u001b[2K\r| Adam | epoch: 038 | loss: 0.00000 - acc: 1.0000 -- iter: 595/595\n--\n"
     ]
    },
    {
     "name": "stdout",
     "output_type": "stream",
     "text": [
      "Training Step: 381  | time: 0.004s\n\u001b[2K\r| Adam | epoch: 039 | loss: 0.00000 - acc: 1.0000 -- iter: 064/595\n"
     ]
    },
    {
     "name": "stdout",
     "output_type": "stream",
     "text": [
      "Training Step: 382  | time: 0.010s\n\u001b[2K\r| Adam | epoch: 039 | loss: 0.00000 - acc: 1.0000 -- iter: 128/595\n"
     ]
    },
    {
     "name": "stdout",
     "output_type": "stream",
     "text": [
      "Training Step: 383  | time: 0.015s\n\u001b[2K\r| Adam | epoch: 039 | loss: 0.00000 - acc: 1.0000 -- iter: 192/595\n"
     ]
    },
    {
     "name": "stdout",
     "output_type": "stream",
     "text": [
      "Training Step: 384  | time: 0.020s\n\u001b[2K\r| Adam | epoch: 039 | loss: 0.00000 - acc: 1.0000 -- iter: 256/595\n"
     ]
    },
    {
     "name": "stdout",
     "output_type": "stream",
     "text": [
      "Training Step: 385  | time: 0.028s\n\u001b[2K\r| Adam | epoch: 039 | loss: 0.00000 - acc: 1.0000 -- iter: 320/595\n"
     ]
    },
    {
     "name": "stdout",
     "output_type": "stream",
     "text": [
      "Training Step: 386  | time: 0.034s\n\u001b[2K\r| Adam | epoch: 039 | loss: 0.00000 - acc: 1.0000 -- iter: 384/595\n"
     ]
    },
    {
     "name": "stdout",
     "output_type": "stream",
     "text": [
      "Training Step: 387  | time: 0.038s\n\u001b[2K\r| Adam | epoch: 039 | loss: 0.00000 - acc: 1.0000 -- iter: 448/595\n"
     ]
    },
    {
     "name": "stdout",
     "output_type": "stream",
     "text": [
      "Training Step: 388  | time: 0.042s\n\u001b[2K\r| Adam | epoch: 039 | loss: 0.00000 - acc: 1.0000 -- iter: 512/595\n"
     ]
    },
    {
     "name": "stdout",
     "output_type": "stream",
     "text": [
      "Training Step: 389  | time: 0.046s\n\u001b[2K\r| Adam | epoch: 039 | loss: 0.00000 - acc: 1.0000 -- iter: 576/595\n"
     ]
    },
    {
     "name": "stdout",
     "output_type": "stream",
     "text": [
      "Training Step: 390  | time: 0.051s\n\u001b[2K\r| Adam | epoch: 039 | loss: 0.00000 - acc: 1.0000 -- iter: 595/595\n--\n"
     ]
    },
    {
     "name": "stdout",
     "output_type": "stream",
     "text": [
      "Training Step: 391  | time: 0.006s\n\u001b[2K\r| Adam | epoch: 040 | loss: 0.00000 - acc: 1.0000 -- iter: 064/595\n"
     ]
    },
    {
     "name": "stdout",
     "output_type": "stream",
     "text": [
      "Training Step: 392  | time: 0.010s\n\u001b[2K\r| Adam | epoch: 040 | loss: 0.00000 - acc: 1.0000 -- iter: 128/595\n"
     ]
    },
    {
     "name": "stdout",
     "output_type": "stream",
     "text": [
      "Training Step: 393  | time: 0.016s\n\u001b[2K\r| Adam | epoch: 040 | loss: 0.00000 - acc: 1.0000 -- iter: 192/595\n"
     ]
    },
    {
     "name": "stdout",
     "output_type": "stream",
     "text": [
      "Training Step: 394  | time: 0.020s\n\u001b[2K\r| Adam | epoch: 040 | loss: 0.00000 - acc: 1.0000 -- iter: 256/595\n"
     ]
    },
    {
     "name": "stdout",
     "output_type": "stream",
     "text": [
      "Training Step: 395  | time: 0.024s\n\u001b[2K\r| Adam | epoch: 040 | loss: 0.00000 - acc: 1.0000 -- iter: 320/595\n"
     ]
    },
    {
     "name": "stdout",
     "output_type": "stream",
     "text": [
      "Training Step: 396  | time: 0.030s\n\u001b[2K\r| Adam | epoch: 040 | loss: 0.00000 - acc: 1.0000 -- iter: 384/595\n"
     ]
    },
    {
     "name": "stdout",
     "output_type": "stream",
     "text": [
      "Training Step: 397  | time: 0.038s\n\u001b[2K\r| Adam | epoch: 040 | loss: 0.00000 - acc: 1.0000 -- iter: 448/595\n"
     ]
    },
    {
     "name": "stdout",
     "output_type": "stream",
     "text": [
      "Training Step: 398  | time: 0.042s\n\u001b[2K\r| Adam | epoch: 040 | loss: 0.00000 - acc: 1.0000 -- iter: 512/595\n"
     ]
    },
    {
     "name": "stdout",
     "output_type": "stream",
     "text": [
      "Training Step: 399  | time: 0.046s\n\u001b[2K\r| Adam | epoch: 040 | loss: 0.00000 - acc: 1.0000 -- iter: 576/595\n"
     ]
    },
    {
     "name": "stdout",
     "output_type": "stream",
     "text": [
      "Training Step: 400  | time: 0.054s\n\u001b[2K\r| Adam | epoch: 040 | loss: 0.00000 - acc: 1.0000 -- iter: 595/595\n--\n"
     ]
    },
    {
     "name": "stdout",
     "output_type": "stream",
     "text": [
      "Training Step: 401  | time: 0.004s\n\u001b[2K\r| Adam | epoch: 041 | loss: 0.00000 - acc: 1.0000 -- iter: 064/595\n"
     ]
    },
    {
     "name": "stdout",
     "output_type": "stream",
     "text": [
      "Training Step: 402  | time: 0.009s\n\u001b[2K\r| Adam | epoch: 041 | loss: 0.00000 - acc: 1.0000 -- iter: 128/595\n"
     ]
    },
    {
     "name": "stdout",
     "output_type": "stream",
     "text": [
      "Training Step: 403  | time: 0.015s\n\u001b[2K\r| Adam | epoch: 041 | loss: 0.00000 - acc: 1.0000 -- iter: 192/595\n"
     ]
    },
    {
     "name": "stdout",
     "output_type": "stream",
     "text": [
      "Training Step: 404  | time: 0.020s\n\u001b[2K\r| Adam | epoch: 041 | loss: 0.00000 - acc: 1.0000 -- iter: 256/595\n"
     ]
    },
    {
     "name": "stdout",
     "output_type": "stream",
     "text": [
      "Training Step: 405  | time: 0.024s\n\u001b[2K\r| Adam | epoch: 041 | loss: 0.00000 - acc: 1.0000 -- iter: 320/595\n"
     ]
    },
    {
     "name": "stdout",
     "output_type": "stream",
     "text": [
      "Training Step: 406  | time: 0.027s\n\u001b[2K\r| Adam | epoch: 041 | loss: 0.00000 - acc: 1.0000 -- iter: 384/595\n"
     ]
    },
    {
     "name": "stdout",
     "output_type": "stream",
     "text": [
      "Training Step: 407  | time: 0.033s\n\u001b[2K\r| Adam | epoch: 041 | loss: 0.00000 - acc: 1.0000 -- iter: 448/595\n"
     ]
    },
    {
     "name": "stdout",
     "output_type": "stream",
     "text": [
      "Training Step: 408  | time: 0.040s\n\u001b[2K\r| Adam | epoch: 041 | loss: 0.00000 - acc: 1.0000 -- iter: 512/595\n"
     ]
    },
    {
     "name": "stdout",
     "output_type": "stream",
     "text": [
      "Training Step: 409  | time: 0.045s\n\u001b[2K\r| Adam | epoch: 041 | loss: 0.00000 - acc: 1.0000 -- iter: 576/595\n"
     ]
    },
    {
     "name": "stdout",
     "output_type": "stream",
     "text": [
      "Training Step: 410  | time: 0.050s\n\u001b[2K\r| Adam | epoch: 041 | loss: 0.00000 - acc: 1.0000 -- iter: 595/595\n--\n"
     ]
    },
    {
     "name": "stdout",
     "output_type": "stream",
     "text": [
      "Training Step: 411  | time: 0.004s\n\u001b[2K\r| Adam | epoch: 042 | loss: 0.00000 - acc: 1.0000 -- iter: 064/595\n"
     ]
    },
    {
     "name": "stdout",
     "output_type": "stream",
     "text": [
      "Training Step: 412  | time: 0.009s\n\u001b[2K\r| Adam | epoch: 042 | loss: 0.00000 - acc: 1.0000 -- iter: 128/595\n"
     ]
    },
    {
     "name": "stdout",
     "output_type": "stream",
     "text": [
      "Training Step: 413  | time: 0.014s\n\u001b[2K\r| Adam | epoch: 042 | loss: 0.00000 - acc: 1.0000 -- iter: 192/595\n"
     ]
    },
    {
     "name": "stdout",
     "output_type": "stream",
     "text": [
      "Training Step: 414  | time: 0.019s\n\u001b[2K\r| Adam | epoch: 042 | loss: 0.00000 - acc: 1.0000 -- iter: 256/595\n"
     ]
    },
    {
     "name": "stdout",
     "output_type": "stream",
     "text": [
      "Training Step: 415  | time: 0.023s\n\u001b[2K\r| Adam | epoch: 042 | loss: 0.00000 - acc: 1.0000 -- iter: 320/595\n"
     ]
    },
    {
     "name": "stdout",
     "output_type": "stream",
     "text": [
      "Training Step: 416  | time: 0.026s\n\u001b[2K\r| Adam | epoch: 042 | loss: 0.00000 - acc: 1.0000 -- iter: 384/595\n"
     ]
    },
    {
     "name": "stdout",
     "output_type": "stream",
     "text": [
      "Training Step: 417  | time: 0.032s\n\u001b[2K\r| Adam | epoch: 042 | loss: 0.00000 - acc: 1.0000 -- iter: 448/595\n"
     ]
    },
    {
     "name": "stdout",
     "output_type": "stream",
     "text": [
      "Training Step: 418  | time: 0.039s\n\u001b[2K\r| Adam | epoch: 042 | loss: 0.00000 - acc: 1.0000 -- iter: 512/595\n"
     ]
    },
    {
     "name": "stdout",
     "output_type": "stream",
     "text": [
      "Training Step: 419  | time: 0.043s\n\u001b[2K\r| Adam | epoch: 042 | loss: 0.00000 - acc: 1.0000 -- iter: 576/595\n"
     ]
    },
    {
     "name": "stdout",
     "output_type": "stream",
     "text": [
      "Training Step: 420  | time: 0.047s\n\u001b[2K\r| Adam | epoch: 042 | loss: 0.00000 - acc: 1.0000 -- iter: 595/595\n--\n"
     ]
    },
    {
     "name": "stdout",
     "output_type": "stream",
     "text": [
      "Training Step: 421  | time: 0.005s\n\u001b[2K\r| Adam | epoch: 043 | loss: 0.00000 - acc: 1.0000 -- iter: 064/595\n"
     ]
    },
    {
     "name": "stdout",
     "output_type": "stream",
     "text": [
      "Training Step: 422  | time: 0.012s\n\u001b[2K\r| Adam | epoch: 043 | loss: 0.00000 - acc: 1.0000 -- iter: 128/595\n"
     ]
    },
    {
     "name": "stdout",
     "output_type": "stream",
     "text": [
      "Training Step: 423  | time: 0.017s\n\u001b[2K\r| Adam | epoch: 043 | loss: 0.00000 - acc: 1.0000 -- iter: 192/595\n"
     ]
    },
    {
     "name": "stdout",
     "output_type": "stream",
     "text": [
      "Training Step: 424  | time: 0.020s\n\u001b[2K\r| Adam | epoch: 043 | loss: 0.00000 - acc: 1.0000 -- iter: 256/595\n"
     ]
    },
    {
     "name": "stdout",
     "output_type": "stream",
     "text": [
      "Training Step: 425  | time: 0.028s\n\u001b[2K\r| Adam | epoch: 043 | loss: 0.00000 - acc: 1.0000 -- iter: 320/595\n"
     ]
    },
    {
     "name": "stdout",
     "output_type": "stream",
     "text": [
      "Training Step: 426  | time: 0.035s\n\u001b[2K\r| Adam | epoch: 043 | loss: 0.00000 - acc: 1.0000 -- iter: 384/595\n"
     ]
    },
    {
     "name": "stdout",
     "output_type": "stream",
     "text": [
      "Training Step: 427  | time: 0.040s\n\u001b[2K\r| Adam | epoch: 043 | loss: 0.00000 - acc: 1.0000 -- iter: 448/595\n"
     ]
    },
    {
     "name": "stdout",
     "output_type": "stream",
     "text": [
      "Training Step: 428  | time: 0.045s\n\u001b[2K\r| Adam | epoch: 043 | loss: 0.00000 - acc: 1.0000 -- iter: 512/595\n"
     ]
    },
    {
     "name": "stdout",
     "output_type": "stream",
     "text": [
      "Training Step: 429  | time: 0.050s\n\u001b[2K\r| Adam | epoch: 043 | loss: 0.00000 - acc: 1.0000 -- iter: 576/595\n"
     ]
    },
    {
     "name": "stdout",
     "output_type": "stream",
     "text": [
      "Training Step: 430  | time: 0.056s\n\u001b[2K\r| Adam | epoch: 043 | loss: 0.00000 - acc: 1.0000 -- iter: 595/595\n--\n"
     ]
    },
    {
     "name": "stdout",
     "output_type": "stream",
     "text": [
      "Training Step: 431  | time: 0.005s\n\u001b[2K\r| Adam | epoch: 044 | loss: 0.00000 - acc: 1.0000 -- iter: 064/595\n"
     ]
    },
    {
     "name": "stdout",
     "output_type": "stream",
     "text": [
      "Training Step: 432  | time: 0.010s\n\u001b[2K\r| Adam | epoch: 044 | loss: 0.00000 - acc: 1.0000 -- iter: 128/595\n"
     ]
    },
    {
     "name": "stdout",
     "output_type": "stream",
     "text": [
      "Training Step: 433  | time: 0.015s\n\u001b[2K\r| Adam | epoch: 044 | loss: 0.00000 - acc: 1.0000 -- iter: 192/595\n"
     ]
    },
    {
     "name": "stdout",
     "output_type": "stream",
     "text": [
      "Training Step: 434  | time: 0.021s\n\u001b[2K\r| Adam | epoch: 044 | loss: 0.00000 - acc: 1.0000 -- iter: 256/595\n"
     ]
    },
    {
     "name": "stdout",
     "output_type": "stream",
     "text": [
      "Training Step: 435  | time: 0.026s\n\u001b[2K\r| Adam | epoch: 044 | loss: 0.00000 - acc: 1.0000 -- iter: 320/595\n"
     ]
    },
    {
     "name": "stdout",
     "output_type": "stream",
     "text": [
      "Training Step: 436  | time: 0.031s\n\u001b[2K\r| Adam | epoch: 044 | loss: 0.00000 - acc: 1.0000 -- iter: 384/595\n"
     ]
    },
    {
     "name": "stdout",
     "output_type": "stream",
     "text": [
      "Training Step: 437  | time: 0.038s\n\u001b[2K\r| Adam | epoch: 044 | loss: 0.00000 - acc: 1.0000 -- iter: 448/595\n"
     ]
    },
    {
     "name": "stdout",
     "output_type": "stream",
     "text": [
      "Training Step: 438  | time: 0.046s\n\u001b[2K\r| Adam | epoch: 044 | loss: 0.00000 - acc: 1.0000 -- iter: 512/595\n"
     ]
    },
    {
     "name": "stdout",
     "output_type": "stream",
     "text": [
      "Training Step: 439  | time: 0.052s\n\u001b[2K\r| Adam | epoch: 044 | loss: 0.00000 - acc: 1.0000 -- iter: 576/595\n"
     ]
    },
    {
     "name": "stdout",
     "output_type": "stream",
     "text": [
      "Training Step: 440  | time: 0.057s\n\u001b[2K\r| Adam | epoch: 044 | loss: 0.00000 - acc: 1.0000 -- iter: 595/595\n--\n"
     ]
    },
    {
     "name": "stdout",
     "output_type": "stream",
     "text": [
      "Training Step: 441  | time: 0.006s\n\u001b[2K\r| Adam | epoch: 045 | loss: 0.00000 - acc: 1.0000 -- iter: 064/595\n"
     ]
    },
    {
     "name": "stdout",
     "output_type": "stream",
     "text": [
      "Training Step: 442  | time: 0.010s\n\u001b[2K\r| Adam | epoch: 045 | loss: 0.00000 - acc: 1.0000 -- iter: 128/595\n"
     ]
    },
    {
     "name": "stdout",
     "output_type": "stream",
     "text": [
      "Training Step: 443  | time: 0.015s\n\u001b[2K\r| Adam | epoch: 045 | loss: 0.00000 - acc: 1.0000 -- iter: 192/595\n"
     ]
    },
    {
     "name": "stdout",
     "output_type": "stream",
     "text": [
      "Training Step: 444  | time: 0.020s\n\u001b[2K\r| Adam | epoch: 045 | loss: 0.00000 - acc: 1.0000 -- iter: 256/595\n"
     ]
    },
    {
     "name": "stdout",
     "output_type": "stream",
     "text": [
      "Training Step: 445  | time: 0.026s\n\u001b[2K\r| Adam | epoch: 045 | loss: 0.00000 - acc: 1.0000 -- iter: 320/595\n"
     ]
    },
    {
     "name": "stdout",
     "output_type": "stream",
     "text": [
      "Training Step: 446  | time: 0.035s\n\u001b[2K\r| Adam | epoch: 045 | loss: 0.00000 - acc: 1.0000 -- iter: 384/595\n"
     ]
    },
    {
     "name": "stdout",
     "output_type": "stream",
     "text": [
      "Training Step: 447  | time: 0.040s\n\u001b[2K\r| Adam | epoch: 045 | loss: 0.00000 - acc: 1.0000 -- iter: 448/595\n"
     ]
    },
    {
     "name": "stdout",
     "output_type": "stream",
     "text": [
      "Training Step: 448  | time: 0.045s\n\u001b[2K\r| Adam | epoch: 045 | loss: 0.00000 - acc: 1.0000 -- iter: 512/595\n"
     ]
    },
    {
     "name": "stdout",
     "output_type": "stream",
     "text": [
      "Training Step: 449  | time: 0.050s\n\u001b[2K\r| Adam | epoch: 045 | loss: 0.00000 - acc: 1.0000 -- iter: 576/595\n"
     ]
    },
    {
     "name": "stdout",
     "output_type": "stream",
     "text": [
      "Training Step: 450  | time: 0.054s\n\u001b[2K\r| Adam | epoch: 045 | loss: 0.00000 - acc: 1.0000 -- iter: 595/595\n--\n"
     ]
    },
    {
     "name": "stdout",
     "output_type": "stream",
     "text": [
      "Training Step: 451  | time: 0.006s\n\u001b[2K\r| Adam | epoch: 046 | loss: 0.00000 - acc: 1.0000 -- iter: 064/595\n"
     ]
    },
    {
     "name": "stdout",
     "output_type": "stream",
     "text": [
      "Training Step: 452  | time: 0.010s\n\u001b[2K\r| Adam | epoch: 046 | loss: 0.00000 - acc: 1.0000 -- iter: 128/595\n"
     ]
    },
    {
     "name": "stdout",
     "output_type": "stream",
     "text": [
      "Training Step: 453  | time: 0.015s\n\u001b[2K\r| Adam | epoch: 046 | loss: 0.00000 - acc: 1.0000 -- iter: 192/595\n"
     ]
    },
    {
     "name": "stdout",
     "output_type": "stream",
     "text": [
      "Training Step: 454  | time: 0.020s\n\u001b[2K\r| Adam | epoch: 046 | loss: 0.00000 - acc: 1.0000 -- iter: 256/595\n"
     ]
    },
    {
     "name": "stdout",
     "output_type": "stream",
     "text": [
      "Training Step: 455  | time: 0.027s\n\u001b[2K\r| Adam | epoch: 046 | loss: 0.00000 - acc: 1.0000 -- iter: 320/595\n"
     ]
    },
    {
     "name": "stdout",
     "output_type": "stream",
     "text": [
      "Training Step: 456  | time: 0.032s\n\u001b[2K\r| Adam | epoch: 046 | loss: 0.00000 - acc: 1.0000 -- iter: 384/595\n"
     ]
    },
    {
     "name": "stdout",
     "output_type": "stream",
     "text": [
      "Training Step: 457  | time: 0.037s\n\u001b[2K\r| Adam | epoch: 046 | loss: 0.00000 - acc: 1.0000 -- iter: 448/595\n"
     ]
    },
    {
     "name": "stdout",
     "output_type": "stream",
     "text": [
      "Training Step: 458  | time: 0.043s\n\u001b[2K\r| Adam | epoch: 046 | loss: 0.00000 - acc: 1.0000 -- iter: 512/595\n"
     ]
    },
    {
     "name": "stdout",
     "output_type": "stream",
     "text": [
      "Training Step: 459  | time: 0.049s\n\u001b[2K\r| Adam | epoch: 046 | loss: 0.00000 - acc: 1.0000 -- iter: 576/595\n"
     ]
    },
    {
     "name": "stdout",
     "output_type": "stream",
     "text": [
      "Training Step: 460  | time: 0.055s\n\u001b[2K\r| Adam | epoch: 046 | loss: 0.00000 - acc: 1.0000 -- iter: 595/595\n--\n"
     ]
    },
    {
     "name": "stdout",
     "output_type": "stream",
     "text": [
      "Training Step: 461  | time: 0.006s\n\u001b[2K\r| Adam | epoch: 047 | loss: 0.00000 - acc: 1.0000 -- iter: 064/595\n"
     ]
    },
    {
     "name": "stdout",
     "output_type": "stream",
     "text": [
      "Training Step: 462  | time: 0.011s\n\u001b[2K\r| Adam | epoch: 047 | loss: 0.00000 - acc: 1.0000 -- iter: 128/595\n"
     ]
    },
    {
     "name": "stdout",
     "output_type": "stream",
     "text": [
      "Training Step: 463  | time: 0.016s\n\u001b[2K\r| Adam | epoch: 047 | loss: 0.00000 - acc: 1.0000 -- iter: 192/595\n"
     ]
    },
    {
     "name": "stdout",
     "output_type": "stream",
     "text": [
      "Training Step: 464  | time: 0.023s\n\u001b[2K\r| Adam | epoch: 047 | loss: 0.00000 - acc: 1.0000 -- iter: 256/595\n"
     ]
    },
    {
     "name": "stdout",
     "output_type": "stream",
     "text": [
      "Training Step: 465  | time: 0.029s\n\u001b[2K\r| Adam | epoch: 047 | loss: 0.00000 - acc: 1.0000 -- iter: 320/595\n"
     ]
    },
    {
     "name": "stdout",
     "output_type": "stream",
     "text": [
      "Training Step: 466  | time: 0.034s\n\u001b[2K\r| Adam | epoch: 047 | loss: 0.00000 - acc: 1.0000 -- iter: 384/595\n"
     ]
    },
    {
     "name": "stdout",
     "output_type": "stream",
     "text": [
      "Training Step: 467  | time: 0.039s\n\u001b[2K\r| Adam | epoch: 047 | loss: 0.00000 - acc: 1.0000 -- iter: 448/595\n"
     ]
    },
    {
     "name": "stdout",
     "output_type": "stream",
     "text": [
      "Training Step: 468  | time: 0.044s\n\u001b[2K\r| Adam | epoch: 047 | loss: 0.00000 - acc: 1.0000 -- iter: 512/595\n"
     ]
    },
    {
     "name": "stdout",
     "output_type": "stream",
     "text": [
      "Training Step: 469  | time: 0.048s\n\u001b[2K\r| Adam | epoch: 047 | loss: 0.00000 - acc: 1.0000 -- iter: 576/595\n"
     ]
    },
    {
     "name": "stdout",
     "output_type": "stream",
     "text": [
      "Training Step: 470  | time: 0.053s\n\u001b[2K\r| Adam | epoch: 047 | loss: 0.00000 - acc: 1.0000 -- iter: 595/595\n--\n"
     ]
    },
    {
     "name": "stdout",
     "output_type": "stream",
     "text": [
      "Training Step: 471  | time: 0.005s\n\u001b[2K\r| Adam | epoch: 048 | loss: 0.00000 - acc: 1.0000 -- iter: 064/595\n"
     ]
    },
    {
     "name": "stdout",
     "output_type": "stream",
     "text": [
      "Training Step: 472  | time: 0.010s\n\u001b[2K\r| Adam | epoch: 048 | loss: 0.00000 - acc: 1.0000 -- iter: 128/595\n"
     ]
    },
    {
     "name": "stdout",
     "output_type": "stream",
     "text": [
      "Training Step: 473  | time: 0.017s\n\u001b[2K\r| Adam | epoch: 048 | loss: 0.00000 - acc: 1.0000 -- iter: 192/595\n"
     ]
    },
    {
     "name": "stdout",
     "output_type": "stream",
     "text": [
      "Training Step: 474  | time: 0.023s\n\u001b[2K\r| Adam | epoch: 048 | loss: 0.00000 - acc: 1.0000 -- iter: 256/595\n"
     ]
    },
    {
     "name": "stdout",
     "output_type": "stream",
     "text": [
      "Training Step: 475  | time: 0.029s\n\u001b[2K\r| Adam | epoch: 048 | loss: 0.00000 - acc: 1.0000 -- iter: 320/595\n"
     ]
    },
    {
     "name": "stdout",
     "output_type": "stream",
     "text": [
      "Training Step: 476  | time: 0.033s\n\u001b[2K\r| Adam | epoch: 048 | loss: 0.00000 - acc: 1.0000 -- iter: 384/595\n"
     ]
    },
    {
     "name": "stdout",
     "output_type": "stream",
     "text": [
      "Training Step: 477  | time: 0.038s\n\u001b[2K\r| Adam | epoch: 048 | loss: 0.00000 - acc: 1.0000 -- iter: 448/595\n"
     ]
    },
    {
     "name": "stdout",
     "output_type": "stream",
     "text": [
      "Training Step: 478  | time: 0.043s\n\u001b[2K\r| Adam | epoch: 048 | loss: 0.00000 - acc: 1.0000 -- iter: 512/595\n"
     ]
    },
    {
     "name": "stdout",
     "output_type": "stream",
     "text": [
      "Training Step: 479  | time: 0.047s\n\u001b[2K\r| Adam | epoch: 048 | loss: 0.00000 - acc: 1.0000 -- iter: 576/595\n"
     ]
    },
    {
     "name": "stdout",
     "output_type": "stream",
     "text": [
      "Training Step: 480  | time: 0.053s\n\u001b[2K\r| Adam | epoch: 048 | loss: 0.00000 - acc: 1.0000 -- iter: 595/595\n--\n"
     ]
    },
    {
     "name": "stdout",
     "output_type": "stream",
     "text": [
      "Training Step: 481  | time: 0.007s\n\u001b[2K\r| Adam | epoch: 049 | loss: 0.00000 - acc: 1.0000 -- iter: 064/595\n"
     ]
    },
    {
     "name": "stdout",
     "output_type": "stream",
     "text": [
      "Training Step: 482  | time: 0.016s\n\u001b[2K\r| Adam | epoch: 049 | loss: 0.00000 - acc: 1.0000 -- iter: 128/595\n"
     ]
    },
    {
     "name": "stdout",
     "output_type": "stream",
     "text": [
      "Training Step: 483  | time: 0.022s\n\u001b[2K\r| Adam | epoch: 049 | loss: 0.00000 - acc: 1.0000 -- iter: 192/595\n"
     ]
    },
    {
     "name": "stdout",
     "output_type": "stream",
     "text": [
      "Training Step: 484  | time: 0.026s\n\u001b[2K\r| Adam | epoch: 049 | loss: 0.00000 - acc: 1.0000 -- iter: 256/595\n"
     ]
    },
    {
     "name": "stdout",
     "output_type": "stream",
     "text": [
      "Training Step: 485  | time: 0.033s\n\u001b[2K\r| Adam | epoch: 049 | loss: 0.00000 - acc: 1.0000 -- iter: 320/595\n"
     ]
    },
    {
     "name": "stdout",
     "output_type": "stream",
     "text": [
      "Training Step: 486  | time: 0.041s\n\u001b[2K\r| Adam | epoch: 049 | loss: 0.00000 - acc: 1.0000 -- iter: 384/595\n"
     ]
    },
    {
     "name": "stdout",
     "output_type": "stream",
     "text": [
      "Training Step: 487  | time: 0.045s\n\u001b[2K\r| Adam | epoch: 049 | loss: 0.00000 - acc: 1.0000 -- iter: 448/595\n"
     ]
    },
    {
     "name": "stdout",
     "output_type": "stream",
     "text": [
      "Training Step: 488  | time: 0.051s\n\u001b[2K\r| Adam | epoch: 049 | loss: 0.00000 - acc: 1.0000 -- iter: 512/595\n"
     ]
    },
    {
     "name": "stdout",
     "output_type": "stream",
     "text": [
      "Training Step: 489  | time: 0.056s\n\u001b[2K\r| Adam | epoch: 049 | loss: 0.00000 - acc: 1.0000 -- iter: 576/595\n"
     ]
    },
    {
     "name": "stdout",
     "output_type": "stream",
     "text": [
      "Training Step: 490  | time: 0.063s\n\u001b[2K\r| Adam | epoch: 049 | loss: 0.00000 - acc: 1.0000 -- iter: 595/595\n--\n"
     ]
    },
    {
     "name": "stdout",
     "output_type": "stream",
     "text": [
      "Training Step: 491  | time: 0.008s\n\u001b[2K\r| Adam | epoch: 050 | loss: 0.00000 - acc: 1.0000 -- iter: 064/595\n"
     ]
    },
    {
     "name": "stdout",
     "output_type": "stream",
     "text": [
      "Training Step: 492  | time: 0.013s\n\u001b[2K\r| Adam | epoch: 050 | loss: 0.00000 - acc: 1.0000 -- iter: 128/595\n"
     ]
    },
    {
     "name": "stdout",
     "output_type": "stream",
     "text": [
      "Training Step: 493  | time: 0.018s\n\u001b[2K\r| Adam | epoch: 050 | loss: 0.00000 - acc: 1.0000 -- iter: 192/595\n"
     ]
    },
    {
     "name": "stdout",
     "output_type": "stream",
     "text": [
      "Training Step: 494  | time: 0.023s\n\u001b[2K\r| Adam | epoch: 050 | loss: 0.00000 - acc: 1.0000 -- iter: 256/595\n"
     ]
    },
    {
     "name": "stdout",
     "output_type": "stream",
     "text": [
      "Training Step: 495  | time: 0.028s\n\u001b[2K\r| Adam | epoch: 050 | loss: 0.00000 - acc: 1.0000 -- iter: 320/595\n"
     ]
    },
    {
     "name": "stdout",
     "output_type": "stream",
     "text": [
      "Training Step: 496  | time: 0.034s\n\u001b[2K\r| Adam | epoch: 050 | loss: 0.00000 - acc: 1.0000 -- iter: 384/595\n"
     ]
    },
    {
     "name": "stdout",
     "output_type": "stream",
     "text": [
      "Training Step: 497  | time: 0.041s\n\u001b[2K\r| Adam | epoch: 050 | loss: 0.00000 - acc: 1.0000 -- iter: 448/595\n"
     ]
    },
    {
     "name": "stdout",
     "output_type": "stream",
     "text": [
      "Training Step: 498  | time: 0.049s\n\u001b[2K\r| Adam | epoch: 050 | loss: 0.00000 - acc: 1.0000 -- iter: 512/595\n"
     ]
    },
    {
     "name": "stdout",
     "output_type": "stream",
     "text": [
      "Training Step: 499  | time: 0.053s\n\u001b[2K\r| Adam | epoch: 050 | loss: 0.00000 - acc: 1.0000 -- iter: 576/595\n"
     ]
    },
    {
     "name": "stdout",
     "output_type": "stream",
     "text": [
      "Training Step: 500  | time: 0.059s\n\u001b[2K\r| Adam | epoch: 050 | loss: 0.00000 - acc: 1.0000 -- iter: 595/595\n--\n"
     ]
    },
    {
     "name": "stdout",
     "output_type": "stream",
     "text": [
      "Training Step: 501  | time: 0.006s\n\u001b[2K\r| Adam | epoch: 051 | loss: 0.00000 - acc: 1.0000 -- iter: 064/595\n"
     ]
    },
    {
     "name": "stdout",
     "output_type": "stream",
     "text": [
      "Training Step: 502  | time: 0.014s\n\u001b[2K\r| Adam | epoch: 051 | loss: 0.00000 - acc: 1.0000 -- iter: 128/595\n"
     ]
    },
    {
     "name": "stdout",
     "output_type": "stream",
     "text": [
      "Training Step: 503  | time: 0.019s\n\u001b[2K\r| Adam | epoch: 051 | loss: 0.00000 - acc: 1.0000 -- iter: 192/595\n"
     ]
    },
    {
     "name": "stdout",
     "output_type": "stream",
     "text": [
      "Training Step: 504  | time: 0.023s\n\u001b[2K\r| Adam | epoch: 051 | loss: 0.00000 - acc: 1.0000 -- iter: 256/595\n"
     ]
    },
    {
     "name": "stdout",
     "output_type": "stream",
     "text": [
      "Training Step: 505  | time: 0.030s\n\u001b[2K\r| Adam | epoch: 051 | loss: 0.00000 - acc: 1.0000 -- iter: 320/595\n"
     ]
    },
    {
     "name": "stdout",
     "output_type": "stream",
     "text": [
      "Training Step: 506  | time: 0.039s\n\u001b[2K\r| Adam | epoch: 051 | loss: 0.00000 - acc: 1.0000 -- iter: 384/595\n"
     ]
    },
    {
     "name": "stdout",
     "output_type": "stream",
     "text": [
      "Training Step: 507  | time: 0.044s\n\u001b[2K\r| Adam | epoch: 051 | loss: 0.00000 - acc: 1.0000 -- iter: 448/595\n"
     ]
    },
    {
     "name": "stdout",
     "output_type": "stream",
     "text": [
      "Training Step: 508  | time: 0.048s\n\u001b[2K\r| Adam | epoch: 051 | loss: 0.00000 - acc: 1.0000 -- iter: 512/595\n"
     ]
    },
    {
     "name": "stdout",
     "output_type": "stream",
     "text": [
      "Training Step: 509  | time: 0.053s\n\u001b[2K\r| Adam | epoch: 051 | loss: 0.00000 - acc: 1.0000 -- iter: 576/595\n"
     ]
    },
    {
     "name": "stdout",
     "output_type": "stream",
     "text": [
      "Training Step: 510  | time: 0.060s\n\u001b[2K\r| Adam | epoch: 051 | loss: 0.00000 - acc: 1.0000 -- iter: 595/595\n--\n"
     ]
    },
    {
     "name": "stdout",
     "output_type": "stream",
     "text": [
      "Training Step: 511  | time: 0.005s\n\u001b[2K\r| Adam | epoch: 052 | loss: 0.00000 - acc: 1.0000 -- iter: 064/595\n"
     ]
    },
    {
     "name": "stdout",
     "output_type": "stream",
     "text": [
      "Training Step: 512  | time: 0.010s\n\u001b[2K\r| Adam | epoch: 052 | loss: 0.00000 - acc: 1.0000 -- iter: 128/595\n"
     ]
    },
    {
     "name": "stdout",
     "output_type": "stream",
     "text": [
      "Training Step: 513  | time: 0.018s\n\u001b[2K\r| Adam | epoch: 052 | loss: 0.00000 - acc: 1.0000 -- iter: 192/595\n"
     ]
    },
    {
     "name": "stdout",
     "output_type": "stream",
     "text": [
      "Training Step: 514  | time: 0.023s\n\u001b[2K\r| Adam | epoch: 052 | loss: 0.00000 - acc: 1.0000 -- iter: 256/595\n"
     ]
    },
    {
     "name": "stdout",
     "output_type": "stream",
     "text": [
      "Training Step: 515  | time: 0.032s\n\u001b[2K\r| Adam | epoch: 052 | loss: 0.00000 - acc: 1.0000 -- iter: 320/595\n"
     ]
    },
    {
     "name": "stdout",
     "output_type": "stream",
     "text": [
      "Training Step: 516  | time: 0.036s\n\u001b[2K\r| Adam | epoch: 052 | loss: 0.00000 - acc: 1.0000 -- iter: 384/595\n"
     ]
    },
    {
     "name": "stdout",
     "output_type": "stream",
     "text": [
      "Training Step: 517  | time: 0.044s\n\u001b[2K\r| Adam | epoch: 052 | loss: 0.00000 - acc: 1.0000 -- iter: 448/595\n"
     ]
    },
    {
     "name": "stdout",
     "output_type": "stream",
     "text": [
      "Training Step: 518  | time: 0.050s\n\u001b[2K\r| Adam | epoch: 052 | loss: 0.00000 - acc: 1.0000 -- iter: 512/595\n"
     ]
    },
    {
     "name": "stdout",
     "output_type": "stream",
     "text": [
      "Training Step: 519  | time: 0.055s\n\u001b[2K\r| Adam | epoch: 052 | loss: 0.00000 - acc: 1.0000 -- iter: 576/595\n"
     ]
    },
    {
     "name": "stdout",
     "output_type": "stream",
     "text": [
      "Training Step: 520  | time: 0.060s\n\u001b[2K\r| Adam | epoch: 052 | loss: 0.00000 - acc: 1.0000 -- iter: 595/595\n--\n"
     ]
    },
    {
     "name": "stdout",
     "output_type": "stream",
     "text": [
      "Training Step: 521  | time: 0.005s\n\u001b[2K\r| Adam | epoch: 053 | loss: 0.00000 - acc: 1.0000 -- iter: 064/595\n"
     ]
    },
    {
     "name": "stdout",
     "output_type": "stream",
     "text": [
      "Training Step: 522  | time: 0.012s\n\u001b[2K\r| Adam | epoch: 053 | loss: 0.00000 - acc: 1.0000 -- iter: 128/595\n"
     ]
    },
    {
     "name": "stdout",
     "output_type": "stream",
     "text": [
      "Training Step: 523  | time: 0.018s\n\u001b[2K\r| Adam | epoch: 053 | loss: 0.00000 - acc: 1.0000 -- iter: 192/595\n"
     ]
    },
    {
     "name": "stdout",
     "output_type": "stream",
     "text": [
      "Training Step: 524  | time: 0.024s\n\u001b[2K\r| Adam | epoch: 053 | loss: 0.00000 - acc: 1.0000 -- iter: 256/595\n"
     ]
    },
    {
     "name": "stdout",
     "output_type": "stream",
     "text": [
      "Training Step: 525  | time: 0.028s\n\u001b[2K\r| Adam | epoch: 053 | loss: 0.00000 - acc: 1.0000 -- iter: 320/595\n"
     ]
    },
    {
     "name": "stdout",
     "output_type": "stream",
     "text": [
      "Training Step: 526  | time: 0.033s\n\u001b[2K\r| Adam | epoch: 053 | loss: 0.00000 - acc: 1.0000 -- iter: 384/595\n"
     ]
    },
    {
     "name": "stdout",
     "output_type": "stream",
     "text": [
      "Training Step: 527  | time: 0.038s\n\u001b[2K\r| Adam | epoch: 053 | loss: 0.00000 - acc: 1.0000 -- iter: 448/595\n"
     ]
    },
    {
     "name": "stdout",
     "output_type": "stream",
     "text": [
      "Training Step: 528  | time: 0.046s\n\u001b[2K\r| Adam | epoch: 053 | loss: 0.00000 - acc: 1.0000 -- iter: 512/595\n"
     ]
    },
    {
     "name": "stdout",
     "output_type": "stream",
     "text": [
      "Training Step: 529  | time: 0.051s\n\u001b[2K\r| Adam | epoch: 053 | loss: 0.00000 - acc: 1.0000 -- iter: 576/595\n"
     ]
    },
    {
     "name": "stdout",
     "output_type": "stream",
     "text": [
      "Training Step: 530  | time: 0.055s\n\u001b[2K\r| Adam | epoch: 053 | loss: 0.00000 - acc: 1.0000 -- iter: 595/595\n--\n"
     ]
    },
    {
     "name": "stdout",
     "output_type": "stream",
     "text": [
      "Training Step: 531  | time: 0.003s\n\u001b[2K\r| Adam | epoch: 054 | loss: 0.00000 - acc: 1.0000 -- iter: 064/595\n"
     ]
    },
    {
     "name": "stdout",
     "output_type": "stream",
     "text": [
      "Training Step: 532  | time: 0.009s\n\u001b[2K\r| Adam | epoch: 054 | loss: 0.00000 - acc: 1.0000 -- iter: 128/595\n"
     ]
    },
    {
     "name": "stdout",
     "output_type": "stream",
     "text": [
      "Training Step: 533  | time: 0.015s\n\u001b[2K\r| Adam | epoch: 054 | loss: 0.00000 - acc: 1.0000 -- iter: 192/595\n"
     ]
    },
    {
     "name": "stdout",
     "output_type": "stream",
     "text": [
      "Training Step: 534  | time: 0.018s\n\u001b[2K\r| Adam | epoch: 054 | loss: 0.00000 - acc: 1.0000 -- iter: 256/595\n"
     ]
    },
    {
     "name": "stdout",
     "output_type": "stream",
     "text": [
      "Training Step: 535  | time: 0.023s\n\u001b[2K\r| Adam | epoch: 054 | loss: 0.00000 - acc: 1.0000 -- iter: 320/595\n"
     ]
    },
    {
     "name": "stdout",
     "output_type": "stream",
     "text": [
      "Training Step: 536  | time: 0.027s\n\u001b[2K\r| Adam | epoch: 054 | loss: 0.00000 - acc: 1.0000 -- iter: 384/595\n"
     ]
    },
    {
     "name": "stdout",
     "output_type": "stream",
     "text": [
      "Training Step: 537  | time: 0.033s\n\u001b[2K\r| Adam | epoch: 054 | loss: 0.00000 - acc: 1.0000 -- iter: 448/595\n"
     ]
    },
    {
     "name": "stdout",
     "output_type": "stream",
     "text": [
      "Training Step: 538  | time: 0.037s\n\u001b[2K\r| Adam | epoch: 054 | loss: 0.00000 - acc: 1.0000 -- iter: 512/595\n"
     ]
    },
    {
     "name": "stdout",
     "output_type": "stream",
     "text": [
      "Training Step: 539  | time: 0.041s\n\u001b[2K\r| Adam | epoch: 054 | loss: 0.00000 - acc: 1.0000 -- iter: 576/595\n"
     ]
    },
    {
     "name": "stdout",
     "output_type": "stream",
     "text": [
      "Training Step: 540  | time: 0.045s\n\u001b[2K\r| Adam | epoch: 054 | loss: 0.00000 - acc: 1.0000 -- iter: 595/595\n--\n"
     ]
    },
    {
     "name": "stdout",
     "output_type": "stream",
     "text": [
      "Training Step: 541  | time: 0.007s\n\u001b[2K\r| Adam | epoch: 055 | loss: 0.00000 - acc: 1.0000 -- iter: 064/595\n"
     ]
    },
    {
     "name": "stdout",
     "output_type": "stream",
     "text": [
      "Training Step: 542  | time: 0.012s\n\u001b[2K\r| Adam | epoch: 055 | loss: 0.00000 - acc: 1.0000 -- iter: 128/595\n"
     ]
    },
    {
     "name": "stdout",
     "output_type": "stream",
     "text": [
      "Training Step: 543  | time: 0.017s\n\u001b[2K\r| Adam | epoch: 055 | loss: 0.00000 - acc: 1.0000 -- iter: 192/595\n"
     ]
    },
    {
     "name": "stdout",
     "output_type": "stream",
     "text": [
      "Training Step: 544  | time: 0.021s\n\u001b[2K\r| Adam | epoch: 055 | loss: 0.00000 - acc: 1.0000 -- iter: 256/595\n"
     ]
    },
    {
     "name": "stdout",
     "output_type": "stream",
     "text": [
      "Training Step: 545  | time: 0.025s\n\u001b[2K\r| Adam | epoch: 055 | loss: 0.00000 - acc: 1.0000 -- iter: 320/595\n"
     ]
    },
    {
     "name": "stdout",
     "output_type": "stream",
     "text": [
      "Training Step: 546  | time: 0.031s\n\u001b[2K\r| Adam | epoch: 055 | loss: 0.00000 - acc: 1.0000 -- iter: 384/595\n"
     ]
    },
    {
     "name": "stdout",
     "output_type": "stream",
     "text": [
      "Training Step: 547  | time: 0.038s\n\u001b[2K\r| Adam | epoch: 055 | loss: 0.00000 - acc: 1.0000 -- iter: 448/595\n"
     ]
    },
    {
     "name": "stdout",
     "output_type": "stream",
     "text": [
      "Training Step: 548  | time: 0.044s\n\u001b[2K\r| Adam | epoch: 055 | loss: 0.00000 - acc: 1.0000 -- iter: 512/595\n"
     ]
    },
    {
     "name": "stdout",
     "output_type": "stream",
     "text": [
      "Training Step: 549  | time: 0.047s\n\u001b[2K\r| Adam | epoch: 055 | loss: 0.00000 - acc: 1.0000 -- iter: 576/595\n"
     ]
    },
    {
     "name": "stdout",
     "output_type": "stream",
     "text": [
      "Training Step: 550  | time: 0.052s\n\u001b[2K\r| Adam | epoch: 055 | loss: 0.00000 - acc: 1.0000 -- iter: 595/595\n--\n"
     ]
    },
    {
     "name": "stdout",
     "output_type": "stream",
     "text": [
      "Training Step: 551  | time: 0.004s\n\u001b[2K\r| Adam | epoch: 056 | loss: 0.00000 - acc: 1.0000 -- iter: 064/595\n"
     ]
    },
    {
     "name": "stdout",
     "output_type": "stream",
     "text": [
      "Training Step: 552  | time: 0.012s\n\u001b[2K\r| Adam | epoch: 056 | loss: 0.00000 - acc: 1.0000 -- iter: 128/595\n"
     ]
    },
    {
     "name": "stdout",
     "output_type": "stream",
     "text": [
      "Training Step: 553  | time: 0.018s\n\u001b[2K\r| Adam | epoch: 056 | loss: 0.00000 - acc: 1.0000 -- iter: 192/595\n"
     ]
    },
    {
     "name": "stdout",
     "output_type": "stream",
     "text": [
      "Training Step: 554  | time: 0.022s\n\u001b[2K\r| Adam | epoch: 056 | loss: 0.00000 - acc: 1.0000 -- iter: 256/595\n"
     ]
    },
    {
     "name": "stdout",
     "output_type": "stream",
     "text": [
      "Training Step: 555  | time: 0.028s\n\u001b[2K\r| Adam | epoch: 056 | loss: 0.00000 - acc: 1.0000 -- iter: 320/595\n"
     ]
    },
    {
     "name": "stdout",
     "output_type": "stream",
     "text": [
      "Training Step: 556  | time: 0.035s\n\u001b[2K\r| Adam | epoch: 056 | loss: 0.00000 - acc: 1.0000 -- iter: 384/595\n"
     ]
    },
    {
     "name": "stdout",
     "output_type": "stream",
     "text": [
      "Training Step: 557  | time: 0.041s\n\u001b[2K\r| Adam | epoch: 056 | loss: 0.00000 - acc: 1.0000 -- iter: 448/595\n"
     ]
    },
    {
     "name": "stdout",
     "output_type": "stream",
     "text": [
      "Training Step: 558  | time: 0.046s\n\u001b[2K\r| Adam | epoch: 056 | loss: 0.00000 - acc: 1.0000 -- iter: 512/595\n"
     ]
    },
    {
     "name": "stdout",
     "output_type": "stream",
     "text": [
      "Training Step: 559  | time: 0.053s\n\u001b[2K\r| Adam | epoch: 056 | loss: 0.00000 - acc: 1.0000 -- iter: 576/595\n"
     ]
    },
    {
     "name": "stdout",
     "output_type": "stream",
     "text": [
      "Training Step: 560  | time: 0.058s\n\u001b[2K\r| Adam | epoch: 056 | loss: 0.00000 - acc: 1.0000 -- iter: 595/595\n--\n"
     ]
    },
    {
     "name": "stdout",
     "output_type": "stream",
     "text": [
      "Training Step: 561  | time: 0.004s\n\u001b[2K\r| Adam | epoch: 057 | loss: 0.00000 - acc: 1.0000 -- iter: 064/595\n"
     ]
    },
    {
     "name": "stdout",
     "output_type": "stream",
     "text": [
      "Training Step: 562  | time: 0.009s\n\u001b[2K\r| Adam | epoch: 057 | loss: 0.00000 - acc: 1.0000 -- iter: 128/595\n"
     ]
    },
    {
     "name": "stdout",
     "output_type": "stream",
     "text": [
      "Training Step: 563  | time: 0.015s\n\u001b[2K\r| Adam | epoch: 057 | loss: 0.00000 - acc: 1.0000 -- iter: 192/595\n"
     ]
    },
    {
     "name": "stdout",
     "output_type": "stream",
     "text": [
      "Training Step: 564  | time: 0.019s\n\u001b[2K\r| Adam | epoch: 057 | loss: 0.00000 - acc: 1.0000 -- iter: 256/595\n"
     ]
    },
    {
     "name": "stdout",
     "output_type": "stream",
     "text": [
      "Training Step: 565  | time: 0.025s\n\u001b[2K\r| Adam | epoch: 057 | loss: 0.00000 - acc: 1.0000 -- iter: 320/595\n"
     ]
    },
    {
     "name": "stdout",
     "output_type": "stream",
     "text": [
      "Training Step: 566  | time: 0.031s\n\u001b[2K\r| Adam | epoch: 057 | loss: 0.00000 - acc: 1.0000 -- iter: 384/595\n"
     ]
    },
    {
     "name": "stdout",
     "output_type": "stream",
     "text": [
      "Training Step: 567  | time: 0.036s\n\u001b[2K\r| Adam | epoch: 057 | loss: 0.00000 - acc: 1.0000 -- iter: 448/595\n"
     ]
    },
    {
     "name": "stdout",
     "output_type": "stream",
     "text": [
      "Training Step: 568  | time: 0.041s\n\u001b[2K\r| Adam | epoch: 057 | loss: 0.00000 - acc: 1.0000 -- iter: 512/595\n"
     ]
    },
    {
     "name": "stdout",
     "output_type": "stream",
     "text": [
      "Training Step: 569  | time: 0.045s\n\u001b[2K\r| Adam | epoch: 057 | loss: 0.00000 - acc: 1.0000 -- iter: 576/595\n"
     ]
    },
    {
     "name": "stdout",
     "output_type": "stream",
     "text": [
      "Training Step: 570  | time: 0.051s\n\u001b[2K\r| Adam | epoch: 057 | loss: 0.00000 - acc: 1.0000 -- iter: 595/595\n--\n"
     ]
    },
    {
     "name": "stdout",
     "output_type": "stream",
     "text": [
      "Training Step: 571  | time: 0.007s\n\u001b[2K\r| Adam | epoch: 058 | loss: 0.00000 - acc: 1.0000 -- iter: 064/595\n"
     ]
    },
    {
     "name": "stdout",
     "output_type": "stream",
     "text": [
      "Training Step: 572  | time: 0.011s\n\u001b[2K\r| Adam | epoch: 058 | loss: 0.00000 - acc: 1.0000 -- iter: 128/595\n"
     ]
    },
    {
     "name": "stdout",
     "output_type": "stream",
     "text": [
      "Training Step: 573  | time: 0.015s\n\u001b[2K\r| Adam | epoch: 058 | loss: 0.00000 - acc: 1.0000 -- iter: 192/595\n"
     ]
    },
    {
     "name": "stdout",
     "output_type": "stream",
     "text": [
      "Training Step: 574  | time: 0.020s\n\u001b[2K\r| Adam | epoch: 058 | loss: 0.00000 - acc: 1.0000 -- iter: 256/595\n"
     ]
    },
    {
     "name": "stdout",
     "output_type": "stream",
     "text": [
      "Training Step: 575  | time: 0.024s\n\u001b[2K\r| Adam | epoch: 058 | loss: 0.00000 - acc: 1.0000 -- iter: 320/595\n"
     ]
    },
    {
     "name": "stdout",
     "output_type": "stream",
     "text": [
      "Training Step: 576  | time: 0.029s\n\u001b[2K\r| Adam | epoch: 058 | loss: 0.00000 - acc: 1.0000 -- iter: 384/595\n"
     ]
    },
    {
     "name": "stdout",
     "output_type": "stream",
     "text": [
      "Training Step: 577  | time: 0.036s\n\u001b[2K\r| Adam | epoch: 058 | loss: 0.00000 - acc: 1.0000 -- iter: 448/595\n"
     ]
    },
    {
     "name": "stdout",
     "output_type": "stream",
     "text": [
      "Training Step: 578  | time: 0.042s\n\u001b[2K\r| Adam | epoch: 058 | loss: 0.00000 - acc: 1.0000 -- iter: 512/595\n"
     ]
    },
    {
     "name": "stdout",
     "output_type": "stream",
     "text": [
      "Training Step: 579  | time: 0.047s\n\u001b[2K\r| Adam | epoch: 058 | loss: 0.00000 - acc: 1.0000 -- iter: 576/595\n"
     ]
    },
    {
     "name": "stdout",
     "output_type": "stream",
     "text": [
      "Training Step: 580  | time: 0.052s\n\u001b[2K\r| Adam | epoch: 058 | loss: 0.00000 - acc: 1.0000 -- iter: 595/595\n--\n"
     ]
    },
    {
     "name": "stdout",
     "output_type": "stream",
     "text": [
      "Training Step: 581  | time: 0.005s\n\u001b[2K\r| Adam | epoch: 059 | loss: 0.00000 - acc: 1.0000 -- iter: 064/595\n"
     ]
    },
    {
     "name": "stdout",
     "output_type": "stream",
     "text": [
      "Training Step: 582  | time: 0.012s\n\u001b[2K\r| Adam | epoch: 059 | loss: 0.00000 - acc: 1.0000 -- iter: 128/595\n"
     ]
    },
    {
     "name": "stdout",
     "output_type": "stream",
     "text": [
      "Training Step: 583  | time: 0.022s\n\u001b[2K\r| Adam | epoch: 059 | loss: 0.00000 - acc: 1.0000 -- iter: 192/595\n"
     ]
    },
    {
     "name": "stdout",
     "output_type": "stream",
     "text": [
      "Training Step: 584  | time: 0.026s\n\u001b[2K\r| Adam | epoch: 059 | loss: 0.00000 - acc: 1.0000 -- iter: 256/595\n"
     ]
    },
    {
     "name": "stdout",
     "output_type": "stream",
     "text": [
      "Training Step: 585  | time: 0.031s\n\u001b[2K\r| Adam | epoch: 059 | loss: 0.00000 - acc: 1.0000 -- iter: 320/595\n"
     ]
    },
    {
     "name": "stdout",
     "output_type": "stream",
     "text": [
      "Training Step: 586  | time: 0.036s\n\u001b[2K\r| Adam | epoch: 059 | loss: 0.00000 - acc: 1.0000 -- iter: 384/595\n"
     ]
    },
    {
     "name": "stdout",
     "output_type": "stream",
     "text": [
      "Training Step: 587  | time: 0.042s\n\u001b[2K\r| Adam | epoch: 059 | loss: 0.00000 - acc: 1.0000 -- iter: 448/595\n"
     ]
    },
    {
     "name": "stdout",
     "output_type": "stream",
     "text": [
      "Training Step: 588  | time: 0.048s\n\u001b[2K\r| Adam | epoch: 059 | loss: 0.00000 - acc: 1.0000 -- iter: 512/595\n"
     ]
    },
    {
     "name": "stdout",
     "output_type": "stream",
     "text": [
      "Training Step: 589  | time: 0.052s\n\u001b[2K\r| Adam | epoch: 059 | loss: 0.00000 - acc: 1.0000 -- iter: 576/595\n"
     ]
    },
    {
     "name": "stdout",
     "output_type": "stream",
     "text": [
      "Training Step: 590  | time: 0.056s\n\u001b[2K\r| Adam | epoch: 059 | loss: 0.00000 - acc: 1.0000 -- iter: 595/595\n--\n"
     ]
    },
    {
     "name": "stdout",
     "output_type": "stream",
     "text": [
      "Training Step: 591  | time: 0.005s\n\u001b[2K\r| Adam | epoch: 060 | loss: 0.00000 - acc: 1.0000 -- iter: 064/595\n"
     ]
    },
    {
     "name": "stdout",
     "output_type": "stream",
     "text": [
      "Training Step: 592  | time: 0.011s\n\u001b[2K\r| Adam | epoch: 060 | loss: 0.00000 - acc: 1.0000 -- iter: 128/595\n"
     ]
    },
    {
     "name": "stdout",
     "output_type": "stream",
     "text": [
      "Training Step: 593  | time: 0.017s\n\u001b[2K\r| Adam | epoch: 060 | loss: 0.00000 - acc: 1.0000 -- iter: 192/595\n"
     ]
    },
    {
     "name": "stdout",
     "output_type": "stream",
     "text": [
      "Training Step: 594  | time: 0.021s\n\u001b[2K\r| Adam | epoch: 060 | loss: 0.00000 - acc: 1.0000 -- iter: 256/595\n"
     ]
    },
    {
     "name": "stdout",
     "output_type": "stream",
     "text": [
      "Training Step: 595  | time: 0.025s\n\u001b[2K\r| Adam | epoch: 060 | loss: 0.00000 - acc: 1.0000 -- iter: 320/595\n"
     ]
    },
    {
     "name": "stdout",
     "output_type": "stream",
     "text": [
      "Training Step: 596  | time: 0.031s\n\u001b[2K\r| Adam | epoch: 060 | loss: 0.00000 - acc: 1.0000 -- iter: 384/595\n"
     ]
    },
    {
     "name": "stdout",
     "output_type": "stream",
     "text": [
      "Training Step: 597  | time: 0.037s\n\u001b[2K\r| Adam | epoch: 060 | loss: 0.00000 - acc: 1.0000 -- iter: 448/595\n"
     ]
    },
    {
     "name": "stdout",
     "output_type": "stream",
     "text": [
      "Training Step: 598  | time: 0.042s\n\u001b[2K\r| Adam | epoch: 060 | loss: 0.00000 - acc: 1.0000 -- iter: 512/595\n"
     ]
    },
    {
     "name": "stdout",
     "output_type": "stream",
     "text": [
      "Training Step: 599  | time: 0.046s\n\u001b[2K\r| Adam | epoch: 060 | loss: 0.00000 - acc: 1.0000 -- iter: 576/595\n"
     ]
    },
    {
     "name": "stdout",
     "output_type": "stream",
     "text": [
      "Training Step: 600  | time: 0.051s\n\u001b[2K\r| Adam | epoch: 060 | loss: 0.00000 - acc: 1.0000 -- iter: 595/595\n--\n"
     ]
    },
    {
     "name": "stdout",
     "output_type": "stream",
     "text": [
      "Training Step: 601  | time: 0.006s\n\u001b[2K\r| Adam | epoch: 061 | loss: 0.00000 - acc: 1.0000 -- iter: 064/595\n"
     ]
    },
    {
     "name": "stdout",
     "output_type": "stream",
     "text": [
      "Training Step: 602  | time: 0.012s\n\u001b[2K\r| Adam | epoch: 061 | loss: 0.00000 - acc: 1.0000 -- iter: 128/595\n"
     ]
    },
    {
     "name": "stdout",
     "output_type": "stream",
     "text": [
      "Training Step: 603  | time: 0.024s\n\u001b[2K\r| Adam | epoch: 061 | loss: 0.00000 - acc: 1.0000 -- iter: 192/595\n"
     ]
    },
    {
     "name": "stdout",
     "output_type": "stream",
     "text": [
      "Training Step: 604  | time: 0.028s\n\u001b[2K\r| Adam | epoch: 061 | loss: 0.00000 - acc: 1.0000 -- iter: 256/595\n"
     ]
    },
    {
     "name": "stdout",
     "output_type": "stream",
     "text": [
      "Training Step: 605  | time: 0.033s\n\u001b[2K\r| Adam | epoch: 061 | loss: 0.00000 - acc: 1.0000 -- iter: 320/595\n"
     ]
    },
    {
     "name": "stdout",
     "output_type": "stream",
     "text": [
      "Training Step: 606  | time: 0.039s\n\u001b[2K\r| Adam | epoch: 061 | loss: 0.00000 - acc: 1.0000 -- iter: 384/595\n"
     ]
    },
    {
     "name": "stdout",
     "output_type": "stream",
     "text": [
      "Training Step: 607  | time: 0.046s\n\u001b[2K\r| Adam | epoch: 061 | loss: 0.00000 - acc: 1.0000 -- iter: 448/595\n"
     ]
    },
    {
     "name": "stdout",
     "output_type": "stream",
     "text": [
      "Training Step: 608  | time: 0.051s\n\u001b[2K\r| Adam | epoch: 061 | loss: 0.00000 - acc: 1.0000 -- iter: 512/595\n"
     ]
    },
    {
     "name": "stdout",
     "output_type": "stream",
     "text": [
      "Training Step: 609  | time: 0.055s\n\u001b[2K\r| Adam | epoch: 061 | loss: 0.00000 - acc: 1.0000 -- iter: 576/595\n"
     ]
    },
    {
     "name": "stdout",
     "output_type": "stream",
     "text": [
      "Training Step: 610  | time: 0.059s\n\u001b[2K\r| Adam | epoch: 061 | loss: 0.00000 - acc: 1.0000 -- iter: 595/595\n--\n"
     ]
    },
    {
     "name": "stdout",
     "output_type": "stream",
     "text": [
      "Training Step: 611  | time: 0.005s\n\u001b[2K\r| Adam | epoch: 062 | loss: 0.00000 - acc: 1.0000 -- iter: 064/595\n"
     ]
    },
    {
     "name": "stdout",
     "output_type": "stream",
     "text": [
      "Training Step: 612  | time: 0.012s\n\u001b[2K\r| Adam | epoch: 062 | loss: 0.00000 - acc: 1.0000 -- iter: 128/595\n"
     ]
    },
    {
     "name": "stdout",
     "output_type": "stream",
     "text": [
      "Training Step: 613  | time: 0.016s\n\u001b[2K\r| Adam | epoch: 062 | loss: 0.00000 - acc: 1.0000 -- iter: 192/595\n"
     ]
    },
    {
     "name": "stdout",
     "output_type": "stream",
     "text": [
      "Training Step: 614  | time: 0.021s\n\u001b[2K\r| Adam | epoch: 062 | loss: 0.00000 - acc: 1.0000 -- iter: 256/595\n"
     ]
    },
    {
     "name": "stdout",
     "output_type": "stream",
     "text": [
      "Training Step: 615  | time: 0.025s\n\u001b[2K\r| Adam | epoch: 062 | loss: 0.00000 - acc: 1.0000 -- iter: 320/595\n"
     ]
    },
    {
     "name": "stdout",
     "output_type": "stream",
     "text": [
      "Training Step: 616  | time: 0.031s\n\u001b[2K\r| Adam | epoch: 062 | loss: 0.00000 - acc: 1.0000 -- iter: 384/595\n"
     ]
    },
    {
     "name": "stdout",
     "output_type": "stream",
     "text": [
      "Training Step: 617  | time: 0.037s\n\u001b[2K\r| Adam | epoch: 062 | loss: 0.00000 - acc: 1.0000 -- iter: 448/595\n"
     ]
    },
    {
     "name": "stdout",
     "output_type": "stream",
     "text": [
      "Training Step: 618  | time: 0.043s\n\u001b[2K\r| Adam | epoch: 062 | loss: 0.00000 - acc: 1.0000 -- iter: 512/595\n"
     ]
    },
    {
     "name": "stdout",
     "output_type": "stream",
     "text": [
      "Training Step: 619  | time: 0.047s\n\u001b[2K\r| Adam | epoch: 062 | loss: 0.00000 - acc: 1.0000 -- iter: 576/595\n"
     ]
    },
    {
     "name": "stdout",
     "output_type": "stream",
     "text": [
      "Training Step: 620  | time: 0.051s\n\u001b[2K\r| Adam | epoch: 062 | loss: 0.00000 - acc: 1.0000 -- iter: 595/595\n--\n"
     ]
    },
    {
     "name": "stdout",
     "output_type": "stream",
     "text": [
      "Training Step: 621  | time: 0.005s\n\u001b[2K\r| Adam | epoch: 063 | loss: 0.00000 - acc: 1.0000 -- iter: 064/595\n"
     ]
    },
    {
     "name": "stdout",
     "output_type": "stream",
     "text": [
      "Training Step: 622  | time: 0.012s\n\u001b[2K\r| Adam | epoch: 063 | loss: 0.00000 - acc: 1.0000 -- iter: 128/595\n"
     ]
    },
    {
     "name": "stdout",
     "output_type": "stream",
     "text": [
      "Training Step: 623  | time: 0.018s\n\u001b[2K\r| Adam | epoch: 063 | loss: 0.00000 - acc: 1.0000 -- iter: 192/595\n"
     ]
    },
    {
     "name": "stdout",
     "output_type": "stream",
     "text": [
      "Training Step: 624  | time: 0.023s\n\u001b[2K\r| Adam | epoch: 063 | loss: 0.00000 - acc: 1.0000 -- iter: 256/595\n"
     ]
    },
    {
     "name": "stdout",
     "output_type": "stream",
     "text": [
      "Training Step: 625  | time: 0.032s\n\u001b[2K\r| Adam | epoch: 063 | loss: 0.00000 - acc: 1.0000 -- iter: 320/595\n"
     ]
    },
    {
     "name": "stdout",
     "output_type": "stream",
     "text": [
      "Training Step: 626  | time: 0.037s\n\u001b[2K\r| Adam | epoch: 063 | loss: 0.00000 - acc: 1.0000 -- iter: 384/595\n"
     ]
    },
    {
     "name": "stdout",
     "output_type": "stream",
     "text": [
      "Training Step: 627  | time: 0.044s\n\u001b[2K\r| Adam | epoch: 063 | loss: 0.00000 - acc: 1.0000 -- iter: 448/595\n"
     ]
    },
    {
     "name": "stdout",
     "output_type": "stream",
     "text": [
      "Training Step: 628  | time: 0.050s\n\u001b[2K\r| Adam | epoch: 063 | loss: 0.00000 - acc: 1.0000 -- iter: 512/595\n"
     ]
    },
    {
     "name": "stdout",
     "output_type": "stream",
     "text": [
      "Training Step: 629  | time: 0.056s\n\u001b[2K\r| Adam | epoch: 063 | loss: 0.00000 - acc: 1.0000 -- iter: 576/595\n"
     ]
    },
    {
     "name": "stdout",
     "output_type": "stream",
     "text": [
      "Training Step: 630  | time: 0.061s\n\u001b[2K\r| Adam | epoch: 063 | loss: 0.00000 - acc: 1.0000 -- iter: 595/595\n--\n"
     ]
    },
    {
     "name": "stdout",
     "output_type": "stream",
     "text": [
      "Training Step: 631  | time: 0.003s\n\u001b[2K\r| Adam | epoch: 064 | loss: 0.00000 - acc: 1.0000 -- iter: 064/595\n"
     ]
    },
    {
     "name": "stdout",
     "output_type": "stream",
     "text": [
      "Training Step: 632  | time: 0.008s\n\u001b[2K\r| Adam | epoch: 064 | loss: 0.00000 - acc: 1.0000 -- iter: 128/595\n"
     ]
    },
    {
     "name": "stdout",
     "output_type": "stream",
     "text": [
      "Training Step: 633  | time: 0.013s\n\u001b[2K\r| Adam | epoch: 064 | loss: 0.00000 - acc: 1.0000 -- iter: 192/595\n"
     ]
    },
    {
     "name": "stdout",
     "output_type": "stream",
     "text": [
      "Training Step: 634  | time: 0.019s\n\u001b[2K\r| Adam | epoch: 064 | loss: 0.00000 - acc: 1.0000 -- iter: 256/595\n"
     ]
    },
    {
     "name": "stdout",
     "output_type": "stream",
     "text": [
      "Training Step: 635  | time: 0.026s\n\u001b[2K\r| Adam | epoch: 064 | loss: 0.00000 - acc: 1.0000 -- iter: 320/595\n"
     ]
    },
    {
     "name": "stdout",
     "output_type": "stream",
     "text": [
      "Training Step: 636  | time: 0.030s\n\u001b[2K\r| Adam | epoch: 064 | loss: 0.00000 - acc: 1.0000 -- iter: 384/595\n"
     ]
    },
    {
     "name": "stdout",
     "output_type": "stream",
     "text": [
      "Training Step: 637  | time: 0.034s\n\u001b[2K\r| Adam | epoch: 064 | loss: 0.00000 - acc: 1.0000 -- iter: 448/595\n"
     ]
    },
    {
     "name": "stdout",
     "output_type": "stream",
     "text": [
      "Training Step: 638  | time: 0.040s\n\u001b[2K\r| Adam | epoch: 064 | loss: 0.00000 - acc: 1.0000 -- iter: 512/595\n"
     ]
    },
    {
     "name": "stdout",
     "output_type": "stream",
     "text": [
      "Training Step: 639  | time: 0.046s\n\u001b[2K\r| Adam | epoch: 064 | loss: 0.00000 - acc: 1.0000 -- iter: 576/595\n"
     ]
    },
    {
     "name": "stdout",
     "output_type": "stream",
     "text": [
      "Training Step: 640  | time: 0.052s\n\u001b[2K\r| Adam | epoch: 064 | loss: 0.00000 - acc: 1.0000 -- iter: 595/595\n--\n"
     ]
    },
    {
     "name": "stdout",
     "output_type": "stream",
     "text": [
      "Training Step: 641  | time: 0.005s\n\u001b[2K\r| Adam | epoch: 065 | loss: 0.00000 - acc: 1.0000 -- iter: 064/595\n"
     ]
    },
    {
     "name": "stdout",
     "output_type": "stream",
     "text": [
      "Training Step: 642  | time: 0.010s\n\u001b[2K\r| Adam | epoch: 065 | loss: 0.00000 - acc: 1.0000 -- iter: 128/595\n"
     ]
    },
    {
     "name": "stdout",
     "output_type": "stream",
     "text": [
      "Training Step: 643  | time: 0.017s\n\u001b[2K\r| Adam | epoch: 065 | loss: 0.00000 - acc: 1.0000 -- iter: 192/595\n"
     ]
    },
    {
     "name": "stdout",
     "output_type": "stream",
     "text": [
      "Training Step: 644  | time: 0.023s\n\u001b[2K\r| Adam | epoch: 065 | loss: 0.00000 - acc: 1.0000 -- iter: 256/595\n"
     ]
    },
    {
     "name": "stdout",
     "output_type": "stream",
     "text": [
      "Training Step: 645  | time: 0.029s\n\u001b[2K\r| Adam | epoch: 065 | loss: 0.00000 - acc: 1.0000 -- iter: 320/595\n"
     ]
    },
    {
     "name": "stdout",
     "output_type": "stream",
     "text": [
      "Training Step: 646  | time: 0.034s\n\u001b[2K\r| Adam | epoch: 065 | loss: 0.00000 - acc: 1.0000 -- iter: 384/595\n"
     ]
    },
    {
     "name": "stdout",
     "output_type": "stream",
     "text": [
      "Training Step: 647  | time: 0.043s\n\u001b[2K\r| Adam | epoch: 065 | loss: 0.00000 - acc: 1.0000 -- iter: 448/595\n"
     ]
    },
    {
     "name": "stdout",
     "output_type": "stream",
     "text": [
      "Training Step: 648  | time: 0.048s\n\u001b[2K\r| Adam | epoch: 065 | loss: 0.00000 - acc: 1.0000 -- iter: 512/595\n"
     ]
    },
    {
     "name": "stdout",
     "output_type": "stream",
     "text": [
      "Training Step: 649  | time: 0.052s\n\u001b[2K\r| Adam | epoch: 065 | loss: 0.00000 - acc: 1.0000 -- iter: 576/595\n"
     ]
    },
    {
     "name": "stdout",
     "output_type": "stream",
     "text": [
      "Training Step: 650  | time: 0.057s\n\u001b[2K\r| Adam | epoch: 065 | loss: 0.00000 - acc: 1.0000 -- iter: 595/595\n--\n"
     ]
    },
    {
     "name": "stdout",
     "output_type": "stream",
     "text": [
      "Training Step: 651  | time: 0.007s\n\u001b[2K\r| Adam | epoch: 066 | loss: 0.00000 - acc: 1.0000 -- iter: 064/595\n"
     ]
    },
    {
     "name": "stdout",
     "output_type": "stream",
     "text": [
      "Training Step: 652  | time: 0.012s\n\u001b[2K\r| Adam | epoch: 066 | loss: 0.00000 - acc: 1.0000 -- iter: 128/595\n"
     ]
    },
    {
     "name": "stdout",
     "output_type": "stream",
     "text": [
      "Training Step: 653  | time: 0.017s\n\u001b[2K\r| Adam | epoch: 066 | loss: 0.00000 - acc: 1.0000 -- iter: 192/595\n"
     ]
    },
    {
     "name": "stdout",
     "output_type": "stream",
     "text": [
      "Training Step: 654  | time: 0.024s\n\u001b[2K\r| Adam | epoch: 066 | loss: 0.00000 - acc: 1.0000 -- iter: 256/595\n"
     ]
    },
    {
     "name": "stdout",
     "output_type": "stream",
     "text": [
      "Training Step: 655  | time: 0.030s\n\u001b[2K\r| Adam | epoch: 066 | loss: 0.00000 - acc: 1.0000 -- iter: 320/595\n"
     ]
    },
    {
     "name": "stdout",
     "output_type": "stream",
     "text": [
      "Training Step: 656  | time: 0.036s\n\u001b[2K\r| Adam | epoch: 066 | loss: 0.00000 - acc: 1.0000 -- iter: 384/595\n"
     ]
    },
    {
     "name": "stdout",
     "output_type": "stream",
     "text": [
      "Training Step: 657  | time: 0.041s\n\u001b[2K\r| Adam | epoch: 066 | loss: 0.00000 - acc: 1.0000 -- iter: 448/595\n"
     ]
    },
    {
     "name": "stdout",
     "output_type": "stream",
     "text": [
      "Training Step: 658  | time: 0.055s\n\u001b[2K\r| Adam | epoch: 066 | loss: 0.00000 - acc: 1.0000 -- iter: 512/595\n"
     ]
    },
    {
     "name": "stdout",
     "output_type": "stream",
     "text": [
      "Training Step: 659  | time: 0.062s\n\u001b[2K\r| Adam | epoch: 066 | loss: 0.00000 - acc: 1.0000 -- iter: 576/595\n"
     ]
    },
    {
     "name": "stdout",
     "output_type": "stream",
     "text": [
      "Training Step: 660  | time: 0.069s\n\u001b[2K\r| Adam | epoch: 066 | loss: 0.00000 - acc: 1.0000 -- iter: 595/595\n--\n"
     ]
    },
    {
     "name": "stdout",
     "output_type": "stream",
     "text": [
      "Training Step: 661  | time: 0.006s\n\u001b[2K\r| Adam | epoch: 067 | loss: 0.00000 - acc: 1.0000 -- iter: 064/595\n"
     ]
    },
    {
     "name": "stdout",
     "output_type": "stream",
     "text": [
      "Training Step: 662  | time: 0.013s\n\u001b[2K\r| Adam | epoch: 067 | loss: 0.00000 - acc: 1.0000 -- iter: 128/595\n"
     ]
    },
    {
     "name": "stdout",
     "output_type": "stream",
     "text": [
      "Training Step: 663  | time: 0.017s\n\u001b[2K\r| Adam | epoch: 067 | loss: 0.00000 - acc: 1.0000 -- iter: 192/595\n"
     ]
    },
    {
     "name": "stdout",
     "output_type": "stream",
     "text": [
      "Training Step: 664  | time: 0.022s\n\u001b[2K\r| Adam | epoch: 067 | loss: 0.00000 - acc: 1.0000 -- iter: 256/595\n"
     ]
    },
    {
     "name": "stdout",
     "output_type": "stream",
     "text": [
      "Training Step: 665  | time: 0.028s\n\u001b[2K\r| Adam | epoch: 067 | loss: 0.00000 - acc: 1.0000 -- iter: 320/595\n"
     ]
    },
    {
     "name": "stdout",
     "output_type": "stream",
     "text": [
      "Training Step: 666  | time: 0.033s\n\u001b[2K\r| Adam | epoch: 067 | loss: 0.00000 - acc: 1.0000 -- iter: 384/595\n"
     ]
    },
    {
     "name": "stdout",
     "output_type": "stream",
     "text": [
      "Training Step: 667  | time: 0.038s\n\u001b[2K\r| Adam | epoch: 067 | loss: 0.00000 - acc: 1.0000 -- iter: 448/595\n"
     ]
    },
    {
     "name": "stdout",
     "output_type": "stream",
     "text": [
      "Training Step: 668  | time: 0.044s\n\u001b[2K\r| Adam | epoch: 067 | loss: 0.00000 - acc: 1.0000 -- iter: 512/595\n"
     ]
    },
    {
     "name": "stdout",
     "output_type": "stream",
     "text": [
      "Training Step: 669  | time: 0.052s\n\u001b[2K\r| Adam | epoch: 067 | loss: 0.00000 - acc: 1.0000 -- iter: 576/595\n"
     ]
    },
    {
     "name": "stdout",
     "output_type": "stream",
     "text": [
      "Training Step: 670  | time: 0.056s\n\u001b[2K\r| Adam | epoch: 067 | loss: 0.00000 - acc: 1.0000 -- iter: 595/595\n--\n"
     ]
    },
    {
     "name": "stdout",
     "output_type": "stream",
     "text": [
      "Training Step: 671  | time: 0.004s\n\u001b[2K\r| Adam | epoch: 068 | loss: 0.00000 - acc: 1.0000 -- iter: 064/595\n"
     ]
    },
    {
     "name": "stdout",
     "output_type": "stream",
     "text": [
      "Training Step: 672  | time: 0.009s\n\u001b[2K\r| Adam | epoch: 068 | loss: 0.00000 - acc: 1.0000 -- iter: 128/595\n"
     ]
    },
    {
     "name": "stdout",
     "output_type": "stream",
     "text": [
      "Training Step: 673  | time: 0.015s\n\u001b[2K\r| Adam | epoch: 068 | loss: 0.00000 - acc: 1.0000 -- iter: 192/595\n"
     ]
    },
    {
     "name": "stdout",
     "output_type": "stream",
     "text": [
      "Training Step: 674  | time: 0.022s\n\u001b[2K\r| Adam | epoch: 068 | loss: 0.00000 - acc: 1.0000 -- iter: 256/595\n"
     ]
    },
    {
     "name": "stdout",
     "output_type": "stream",
     "text": [
      "Training Step: 675  | time: 0.027s\n\u001b[2K\r| Adam | epoch: 068 | loss: 0.00000 - acc: 1.0000 -- iter: 320/595\n"
     ]
    },
    {
     "name": "stdout",
     "output_type": "stream",
     "text": [
      "Training Step: 676  | time: 0.033s\n\u001b[2K\r| Adam | epoch: 068 | loss: 0.00000 - acc: 1.0000 -- iter: 384/595\n"
     ]
    },
    {
     "name": "stdout",
     "output_type": "stream",
     "text": [
      "Training Step: 677  | time: 0.038s\n\u001b[2K\r| Adam | epoch: 068 | loss: 0.00000 - acc: 1.0000 -- iter: 448/595\n"
     ]
    },
    {
     "name": "stdout",
     "output_type": "stream",
     "text": [
      "Training Step: 678  | time: 0.042s\n\u001b[2K\r| Adam | epoch: 068 | loss: 0.00000 - acc: 1.0000 -- iter: 512/595\n"
     ]
    },
    {
     "name": "stdout",
     "output_type": "stream",
     "text": [
      "Training Step: 679  | time: 0.047s\n\u001b[2K\r| Adam | epoch: 068 | loss: 0.00000 - acc: 1.0000 -- iter: 576/595\n"
     ]
    },
    {
     "name": "stdout",
     "output_type": "stream",
     "text": [
      "Training Step: 680  | time: 0.051s\n\u001b[2K\r| Adam | epoch: 068 | loss: 0.00000 - acc: 1.0000 -- iter: 595/595\n--\n"
     ]
    },
    {
     "name": "stdout",
     "output_type": "stream",
     "text": [
      "Training Step: 681  | time: 0.005s\n\u001b[2K\r| Adam | epoch: 069 | loss: 0.00000 - acc: 1.0000 -- iter: 064/595\n"
     ]
    },
    {
     "name": "stdout",
     "output_type": "stream",
     "text": [
      "Training Step: 682  | time: 0.011s\n\u001b[2K\r| Adam | epoch: 069 | loss: 0.00000 - acc: 1.0000 -- iter: 128/595\n"
     ]
    },
    {
     "name": "stdout",
     "output_type": "stream",
     "text": [
      "Training Step: 683  | time: 0.015s\n\u001b[2K\r| Adam | epoch: 069 | loss: 0.00000 - acc: 1.0000 -- iter: 192/595\n"
     ]
    },
    {
     "name": "stdout",
     "output_type": "stream",
     "text": [
      "Training Step: 684  | time: 0.020s\n\u001b[2K\r| Adam | epoch: 069 | loss: 0.00000 - acc: 1.0000 -- iter: 256/595\n"
     ]
    },
    {
     "name": "stdout",
     "output_type": "stream",
     "text": [
      "Training Step: 685  | time: 0.025s\n\u001b[2K\r| Adam | epoch: 069 | loss: 0.00000 - acc: 1.0000 -- iter: 320/595\n"
     ]
    },
    {
     "name": "stdout",
     "output_type": "stream",
     "text": [
      "Training Step: 686  | time: 0.031s\n\u001b[2K\r| Adam | epoch: 069 | loss: 0.00000 - acc: 1.0000 -- iter: 384/595\n"
     ]
    },
    {
     "name": "stdout",
     "output_type": "stream",
     "text": [
      "Training Step: 687  | time: 0.035s\n\u001b[2K\r| Adam | epoch: 069 | loss: 0.00000 - acc: 1.0000 -- iter: 448/595\n"
     ]
    },
    {
     "name": "stdout",
     "output_type": "stream",
     "text": [
      "Training Step: 688  | time: 0.040s\n\u001b[2K\r| Adam | epoch: 069 | loss: 0.00000 - acc: 1.0000 -- iter: 512/595\n"
     ]
    },
    {
     "name": "stdout",
     "output_type": "stream",
     "text": [
      "Training Step: 689  | time: 0.045s\n\u001b[2K\r| Adam | epoch: 069 | loss: 0.00000 - acc: 1.0000 -- iter: 576/595\n"
     ]
    },
    {
     "name": "stdout",
     "output_type": "stream",
     "text": [
      "Training Step: 690  | time: 0.051s\n\u001b[2K\r| Adam | epoch: 069 | loss: 0.00000 - acc: 1.0000 -- iter: 595/595\n--\n"
     ]
    },
    {
     "name": "stdout",
     "output_type": "stream",
     "text": [
      "Training Step: 691  | time: 0.006s\n\u001b[2K\r| Adam | epoch: 070 | loss: 0.00000 - acc: 1.0000 -- iter: 064/595\n"
     ]
    },
    {
     "name": "stdout",
     "output_type": "stream",
     "text": [
      "Training Step: 692  | time: 0.015s\n\u001b[2K\r| Adam | epoch: 070 | loss: 0.00000 - acc: 1.0000 -- iter: 128/595\n"
     ]
    },
    {
     "name": "stdout",
     "output_type": "stream",
     "text": [
      "Training Step: 693  | time: 0.020s\n\u001b[2K\r| Adam | epoch: 070 | loss: 0.00000 - acc: 1.0000 -- iter: 192/595\n"
     ]
    },
    {
     "name": "stdout",
     "output_type": "stream",
     "text": [
      "Training Step: 694  | time: 0.024s\n\u001b[2K\r| Adam | epoch: 070 | loss: 0.00000 - acc: 1.0000 -- iter: 256/595\n"
     ]
    },
    {
     "name": "stdout",
     "output_type": "stream",
     "text": [
      "Training Step: 695  | time: 0.029s\n\u001b[2K\r| Adam | epoch: 070 | loss: 0.00000 - acc: 1.0000 -- iter: 320/595\n"
     ]
    },
    {
     "name": "stdout",
     "output_type": "stream",
     "text": [
      "Training Step: 696  | time: 0.035s\n\u001b[2K\r| Adam | epoch: 070 | loss: 0.00000 - acc: 1.0000 -- iter: 384/595\n"
     ]
    },
    {
     "name": "stdout",
     "output_type": "stream",
     "text": [
      "Training Step: 697  | time: 0.044s\n\u001b[2K\r| Adam | epoch: 070 | loss: 0.00000 - acc: 1.0000 -- iter: 448/595\n"
     ]
    },
    {
     "name": "stdout",
     "output_type": "stream",
     "text": [
      "Training Step: 698  | time: 0.049s\n\u001b[2K\r| Adam | epoch: 070 | loss: 0.00000 - acc: 1.0000 -- iter: 512/595\n"
     ]
    },
    {
     "name": "stdout",
     "output_type": "stream",
     "text": [
      "Training Step: 699  | time: 0.055s\n\u001b[2K\r| Adam | epoch: 070 | loss: 0.00000 - acc: 1.0000 -- iter: 576/595\n"
     ]
    },
    {
     "name": "stdout",
     "output_type": "stream",
     "text": [
      "Training Step: 700  | time: 0.060s\n\u001b[2K\r| Adam | epoch: 070 | loss: 0.00000 - acc: 1.0000 -- iter: 595/595\n--\n"
     ]
    },
    {
     "name": "stdout",
     "output_type": "stream",
     "text": [
      "Training Step: 701  | time: 0.006s\n\u001b[2K\r| Adam | epoch: 071 | loss: 0.00000 - acc: 1.0000 -- iter: 064/595\n"
     ]
    },
    {
     "name": "stdout",
     "output_type": "stream",
     "text": [
      "Training Step: 702  | time: 0.012s\n\u001b[2K\r| Adam | epoch: 071 | loss: 0.00000 - acc: 1.0000 -- iter: 128/595\n"
     ]
    },
    {
     "name": "stdout",
     "output_type": "stream",
     "text": [
      "Training Step: 703  | time: 0.018s\n\u001b[2K\r| Adam | epoch: 071 | loss: 0.00000 - acc: 1.0000 -- iter: 192/595\n"
     ]
    },
    {
     "name": "stdout",
     "output_type": "stream",
     "text": [
      "Training Step: 704  | time: 0.023s\n\u001b[2K\r| Adam | epoch: 071 | loss: 0.00000 - acc: 1.0000 -- iter: 256/595\n"
     ]
    },
    {
     "name": "stdout",
     "output_type": "stream",
     "text": [
      "Training Step: 705  | time: 0.028s\n\u001b[2K\r| Adam | epoch: 071 | loss: 0.00000 - acc: 1.0000 -- iter: 320/595\n"
     ]
    },
    {
     "name": "stdout",
     "output_type": "stream",
     "text": [
      "Training Step: 706  | time: 0.033s\n\u001b[2K\r| Adam | epoch: 071 | loss: 0.00000 - acc: 1.0000 -- iter: 384/595\n"
     ]
    },
    {
     "name": "stdout",
     "output_type": "stream",
     "text": [
      "Training Step: 707  | time: 0.038s\n\u001b[2K\r| Adam | epoch: 071 | loss: 0.00000 - acc: 1.0000 -- iter: 448/595\n"
     ]
    },
    {
     "name": "stdout",
     "output_type": "stream",
     "text": [
      "Training Step: 708  | time: 0.043s\n\u001b[2K\r| Adam | epoch: 071 | loss: 0.00000 - acc: 1.0000 -- iter: 512/595\n"
     ]
    },
    {
     "name": "stdout",
     "output_type": "stream",
     "text": [
      "Training Step: 709  | time: 0.049s\n\u001b[2K\r| Adam | epoch: 071 | loss: 0.00000 - acc: 1.0000 -- iter: 576/595\n"
     ]
    },
    {
     "name": "stdout",
     "output_type": "stream",
     "text": [
      "Training Step: 710  | time: 0.055s\n\u001b[2K\r| Adam | epoch: 071 | loss: 0.00000 - acc: 1.0000 -- iter: 595/595\n--\n"
     ]
    },
    {
     "name": "stdout",
     "output_type": "stream",
     "text": [
      "Training Step: 711  | time: 0.005s\n\u001b[2K\r| Adam | epoch: 072 | loss: 0.00000 - acc: 1.0000 -- iter: 064/595\n"
     ]
    },
    {
     "name": "stdout",
     "output_type": "stream",
     "text": [
      "Training Step: 712  | time: 0.009s\n\u001b[2K\r| Adam | epoch: 072 | loss: 0.00000 - acc: 1.0000 -- iter: 128/595\n"
     ]
    },
    {
     "name": "stdout",
     "output_type": "stream",
     "text": [
      "Training Step: 713  | time: 0.014s\n\u001b[2K\r| Adam | epoch: 072 | loss: 0.00000 - acc: 1.0000 -- iter: 192/595\n"
     ]
    },
    {
     "name": "stdout",
     "output_type": "stream",
     "text": [
      "Training Step: 714  | time: 0.020s\n\u001b[2K\r| Adam | epoch: 072 | loss: 0.00000 - acc: 1.0000 -- iter: 256/595\n"
     ]
    },
    {
     "name": "stdout",
     "output_type": "stream",
     "text": [
      "Training Step: 715  | time: 0.026s\n\u001b[2K\r| Adam | epoch: 072 | loss: 0.00000 - acc: 1.0000 -- iter: 320/595\n"
     ]
    },
    {
     "name": "stdout",
     "output_type": "stream",
     "text": [
      "Training Step: 716  | time: 0.031s\n\u001b[2K\r| Adam | epoch: 072 | loss: 0.00000 - acc: 1.0000 -- iter: 384/595\n"
     ]
    },
    {
     "name": "stdout",
     "output_type": "stream",
     "text": [
      "Training Step: 717  | time: 0.035s\n\u001b[2K\r| Adam | epoch: 072 | loss: 0.00000 - acc: 1.0000 -- iter: 448/595\n"
     ]
    },
    {
     "name": "stdout",
     "output_type": "stream",
     "text": [
      "Training Step: 718  | time: 0.039s\n\u001b[2K\r| Adam | epoch: 072 | loss: 0.00000 - acc: 1.0000 -- iter: 512/595\n"
     ]
    },
    {
     "name": "stdout",
     "output_type": "stream",
     "text": [
      "Training Step: 719  | time: 0.043s\n\u001b[2K\r| Adam | epoch: 072 | loss: 0.00000 - acc: 1.0000 -- iter: 576/595\n"
     ]
    },
    {
     "name": "stdout",
     "output_type": "stream",
     "text": [
      "Training Step: 720  | time: 0.048s\n\u001b[2K\r| Adam | epoch: 072 | loss: 0.00000 - acc: 1.0000 -- iter: 595/595\n--\n"
     ]
    },
    {
     "name": "stdout",
     "output_type": "stream",
     "text": [
      "Training Step: 721  | time: 0.006s\n\u001b[2K\r| Adam | epoch: 073 | loss: 0.00000 - acc: 1.0000 -- iter: 064/595\n"
     ]
    },
    {
     "name": "stdout",
     "output_type": "stream",
     "text": [
      "Training Step: 722  | time: 0.010s\n\u001b[2K\r| Adam | epoch: 073 | loss: 0.00000 - acc: 1.0000 -- iter: 128/595\n"
     ]
    },
    {
     "name": "stdout",
     "output_type": "stream",
     "text": [
      "Training Step: 723  | time: 0.016s\n\u001b[2K\r| Adam | epoch: 073 | loss: 0.00000 - acc: 1.0000 -- iter: 192/595\n"
     ]
    },
    {
     "name": "stdout",
     "output_type": "stream",
     "text": [
      "Training Step: 724  | time: 0.022s\n\u001b[2K\r| Adam | epoch: 073 | loss: 0.00000 - acc: 1.0000 -- iter: 256/595\n"
     ]
    },
    {
     "name": "stdout",
     "output_type": "stream",
     "text": [
      "Training Step: 725  | time: 0.027s\n\u001b[2K\r| Adam | epoch: 073 | loss: 0.00000 - acc: 1.0000 -- iter: 320/595\n"
     ]
    },
    {
     "name": "stdout",
     "output_type": "stream",
     "text": [
      "Training Step: 726  | time: 0.031s\n\u001b[2K\r| Adam | epoch: 073 | loss: 0.00000 - acc: 1.0000 -- iter: 384/595\n"
     ]
    },
    {
     "name": "stdout",
     "output_type": "stream",
     "text": [
      "Training Step: 727  | time: 0.038s\n\u001b[2K\r| Adam | epoch: 073 | loss: 0.00000 - acc: 1.0000 -- iter: 448/595\n"
     ]
    },
    {
     "name": "stdout",
     "output_type": "stream",
     "text": [
      "Training Step: 728  | time: 0.044s\n\u001b[2K\r| Adam | epoch: 073 | loss: 0.00000 - acc: 1.0000 -- iter: 512/595\n"
     ]
    },
    {
     "name": "stdout",
     "output_type": "stream",
     "text": [
      "Training Step: 729  | time: 0.048s\n\u001b[2K\r| Adam | epoch: 073 | loss: 0.00000 - acc: 1.0000 -- iter: 576/595\n"
     ]
    },
    {
     "name": "stdout",
     "output_type": "stream",
     "text": [
      "Training Step: 730  | time: 0.054s\n\u001b[2K\r| Adam | epoch: 073 | loss: 0.00000 - acc: 1.0000 -- iter: 595/595\n--\n"
     ]
    },
    {
     "name": "stdout",
     "output_type": "stream",
     "text": [
      "Training Step: 731  | time: 0.006s\n\u001b[2K\r| Adam | epoch: 074 | loss: 0.00000 - acc: 1.0000 -- iter: 064/595\n"
     ]
    },
    {
     "name": "stdout",
     "output_type": "stream",
     "text": [
      "Training Step: 732  | time: 0.010s\n\u001b[2K\r| Adam | epoch: 074 | loss: 0.00000 - acc: 1.0000 -- iter: 128/595\n"
     ]
    },
    {
     "name": "stdout",
     "output_type": "stream",
     "text": [
      "Training Step: 733  | time: 0.016s\n\u001b[2K\r| Adam | epoch: 074 | loss: 0.00000 - acc: 1.0000 -- iter: 192/595\n"
     ]
    },
    {
     "name": "stdout",
     "output_type": "stream",
     "text": [
      "Training Step: 734  | time: 0.023s\n\u001b[2K\r| Adam | epoch: 074 | loss: 0.00000 - acc: 1.0000 -- iter: 256/595\n"
     ]
    },
    {
     "name": "stdout",
     "output_type": "stream",
     "text": [
      "Training Step: 735  | time: 0.028s\n\u001b[2K\r| Adam | epoch: 074 | loss: 0.00000 - acc: 1.0000 -- iter: 320/595\n"
     ]
    },
    {
     "name": "stdout",
     "output_type": "stream",
     "text": [
      "Training Step: 736  | time: 0.033s\n\u001b[2K\r| Adam | epoch: 074 | loss: 0.00000 - acc: 1.0000 -- iter: 384/595\n"
     ]
    },
    {
     "name": "stdout",
     "output_type": "stream",
     "text": [
      "Training Step: 737  | time: 0.037s\n\u001b[2K\r| Adam | epoch: 074 | loss: 0.00000 - acc: 1.0000 -- iter: 448/595\n"
     ]
    },
    {
     "name": "stdout",
     "output_type": "stream",
     "text": [
      "Training Step: 738  | time: 0.046s\n\u001b[2K\r| Adam | epoch: 074 | loss: 0.00000 - acc: 1.0000 -- iter: 512/595\n"
     ]
    },
    {
     "name": "stdout",
     "output_type": "stream",
     "text": [
      "Training Step: 739  | time: 0.052s\n\u001b[2K\r| Adam | epoch: 074 | loss: 0.00000 - acc: 1.0000 -- iter: 576/595\n"
     ]
    },
    {
     "name": "stdout",
     "output_type": "stream",
     "text": [
      "Training Step: 740  | time: 0.057s\n\u001b[2K\r| Adam | epoch: 074 | loss: 0.00000 - acc: 1.0000 -- iter: 595/595\n--\n"
     ]
    },
    {
     "name": "stdout",
     "output_type": "stream",
     "text": [
      "Training Step: 741  | time: 0.005s\n\u001b[2K\r| Adam | epoch: 075 | loss: 0.00000 - acc: 1.0000 -- iter: 064/595\n"
     ]
    },
    {
     "name": "stdout",
     "output_type": "stream",
     "text": [
      "Training Step: 742  | time: 0.010s\n\u001b[2K\r| Adam | epoch: 075 | loss: 0.00000 - acc: 1.0000 -- iter: 128/595\n"
     ]
    },
    {
     "name": "stdout",
     "output_type": "stream",
     "text": [
      "Training Step: 743  | time: 0.015s\n\u001b[2K\r| Adam | epoch: 075 | loss: 0.00000 - acc: 1.0000 -- iter: 192/595\n"
     ]
    },
    {
     "name": "stdout",
     "output_type": "stream",
     "text": [
      "Training Step: 744  | time: 0.021s\n\u001b[2K\r| Adam | epoch: 075 | loss: 0.00000 - acc: 1.0000 -- iter: 256/595\n"
     ]
    },
    {
     "name": "stdout",
     "output_type": "stream",
     "text": [
      "Training Step: 745  | time: 0.025s\n\u001b[2K\r| Adam | epoch: 075 | loss: 0.00000 - acc: 1.0000 -- iter: 320/595\n"
     ]
    },
    {
     "name": "stdout",
     "output_type": "stream",
     "text": [
      "Training Step: 746  | time: 0.032s\n\u001b[2K\r| Adam | epoch: 075 | loss: 0.00000 - acc: 1.0000 -- iter: 384/595\n"
     ]
    },
    {
     "name": "stdout",
     "output_type": "stream",
     "text": [
      "Training Step: 747  | time: 0.036s\n\u001b[2K\r| Adam | epoch: 075 | loss: 0.00000 - acc: 1.0000 -- iter: 448/595\n"
     ]
    },
    {
     "name": "stdout",
     "output_type": "stream",
     "text": [
      "Training Step: 748  | time: 0.042s\n\u001b[2K\r| Adam | epoch: 075 | loss: 0.00000 - acc: 1.0000 -- iter: 512/595\n"
     ]
    },
    {
     "name": "stdout",
     "output_type": "stream",
     "text": [
      "Training Step: 749  | time: 0.047s\n\u001b[2K\r| Adam | epoch: 075 | loss: 0.00000 - acc: 1.0000 -- iter: 576/595\n"
     ]
    },
    {
     "name": "stdout",
     "output_type": "stream",
     "text": [
      "Training Step: 750  | time: 0.051s\n\u001b[2K\r| Adam | epoch: 075 | loss: 0.00000 - acc: 1.0000 -- iter: 595/595\n--\n"
     ]
    },
    {
     "name": "stdout",
     "output_type": "stream",
     "text": [
      "Training Step: 751  | time: 0.004s\n\u001b[2K\r| Adam | epoch: 076 | loss: 0.00000 - acc: 1.0000 -- iter: 064/595\n"
     ]
    },
    {
     "name": "stdout",
     "output_type": "stream",
     "text": [
      "Training Step: 752  | time: 0.009s\n\u001b[2K\r| Adam | epoch: 076 | loss: 0.00000 - acc: 1.0000 -- iter: 128/595\n"
     ]
    },
    {
     "name": "stdout",
     "output_type": "stream",
     "text": [
      "Training Step: 753  | time: 0.013s\n\u001b[2K\r| Adam | epoch: 076 | loss: 0.00000 - acc: 1.0000 -- iter: 192/595\n"
     ]
    },
    {
     "name": "stdout",
     "output_type": "stream",
     "text": [
      "Training Step: 754  | time: 0.019s\n\u001b[2K\r| Adam | epoch: 076 | loss: 0.00000 - acc: 1.0000 -- iter: 256/595\n"
     ]
    },
    {
     "name": "stdout",
     "output_type": "stream",
     "text": [
      "Training Step: 755  | time: 0.024s\n\u001b[2K\r| Adam | epoch: 076 | loss: 0.00000 - acc: 1.0000 -- iter: 320/595\n"
     ]
    },
    {
     "name": "stdout",
     "output_type": "stream",
     "text": [
      "Training Step: 756  | time: 0.030s\n\u001b[2K\r| Adam | epoch: 076 | loss: 0.00000 - acc: 1.0000 -- iter: 384/595\n"
     ]
    },
    {
     "name": "stdout",
     "output_type": "stream",
     "text": [
      "Training Step: 757  | time: 0.035s\n\u001b[2K\r| Adam | epoch: 076 | loss: 0.00000 - acc: 1.0000 -- iter: 448/595\n"
     ]
    },
    {
     "name": "stdout",
     "output_type": "stream",
     "text": [
      "Training Step: 758  | time: 0.039s\n\u001b[2K\r| Adam | epoch: 076 | loss: 0.00000 - acc: 1.0000 -- iter: 512/595\n"
     ]
    },
    {
     "name": "stdout",
     "output_type": "stream",
     "text": [
      "Training Step: 759  | time: 0.044s\n\u001b[2K\r| Adam | epoch: 076 | loss: 0.00000 - acc: 1.0000 -- iter: 576/595\n"
     ]
    },
    {
     "name": "stdout",
     "output_type": "stream",
     "text": [
      "Training Step: 760  | time: 0.048s\n\u001b[2K\r| Adam | epoch: 076 | loss: 0.00000 - acc: 1.0000 -- iter: 595/595\n--\n"
     ]
    },
    {
     "name": "stdout",
     "output_type": "stream",
     "text": [
      "Training Step: 761  | time: 0.004s\n\u001b[2K\r| Adam | epoch: 077 | loss: 0.00000 - acc: 1.0000 -- iter: 064/595\n"
     ]
    },
    {
     "name": "stdout",
     "output_type": "stream",
     "text": [
      "Training Step: 762  | time: 0.009s\n\u001b[2K\r| Adam | epoch: 077 | loss: 0.00000 - acc: 1.0000 -- iter: 128/595\n"
     ]
    },
    {
     "name": "stdout",
     "output_type": "stream",
     "text": [
      "Training Step: 763  | time: 0.014s\n\u001b[2K\r| Adam | epoch: 077 | loss: 0.00000 - acc: 1.0000 -- iter: 192/595\n"
     ]
    },
    {
     "name": "stdout",
     "output_type": "stream",
     "text": [
      "Training Step: 764  | time: 0.019s\n\u001b[2K\r| Adam | epoch: 077 | loss: 0.00000 - acc: 1.0000 -- iter: 256/595\n"
     ]
    },
    {
     "name": "stdout",
     "output_type": "stream",
     "text": [
      "Training Step: 765  | time: 0.029s\n\u001b[2K\r| Adam | epoch: 077 | loss: 0.00000 - acc: 1.0000 -- iter: 320/595\n"
     ]
    },
    {
     "name": "stdout",
     "output_type": "stream",
     "text": [
      "Training Step: 766  | time: 0.033s\n\u001b[2K\r| Adam | epoch: 077 | loss: 0.00000 - acc: 1.0000 -- iter: 384/595\n"
     ]
    },
    {
     "name": "stdout",
     "output_type": "stream",
     "text": [
      "Training Step: 767  | time: 0.037s\n\u001b[2K\r| Adam | epoch: 077 | loss: 0.00000 - acc: 1.0000 -- iter: 448/595\n"
     ]
    },
    {
     "name": "stdout",
     "output_type": "stream",
     "text": [
      "Training Step: 768  | time: 0.042s\n\u001b[2K\r| Adam | epoch: 077 | loss: 0.00000 - acc: 1.0000 -- iter: 512/595\n"
     ]
    },
    {
     "name": "stdout",
     "output_type": "stream",
     "text": [
      "Training Step: 769  | time: 0.047s\n\u001b[2K\r| Adam | epoch: 077 | loss: 0.00000 - acc: 1.0000 -- iter: 576/595\n"
     ]
    },
    {
     "name": "stdout",
     "output_type": "stream",
     "text": [
      "Training Step: 770  | time: 0.052s\n\u001b[2K\r| Adam | epoch: 077 | loss: 0.00000 - acc: 1.0000 -- iter: 595/595\n--\n"
     ]
    },
    {
     "name": "stdout",
     "output_type": "stream",
     "text": [
      "Training Step: 771  | time: 0.005s\n\u001b[2K\r| Adam | epoch: 078 | loss: 0.00000 - acc: 1.0000 -- iter: 064/595\n"
     ]
    },
    {
     "name": "stdout",
     "output_type": "stream",
     "text": [
      "Training Step: 772  | time: 0.011s\n\u001b[2K\r| Adam | epoch: 078 | loss: 0.00000 - acc: 1.0000 -- iter: 128/595\n"
     ]
    },
    {
     "name": "stdout",
     "output_type": "stream",
     "text": [
      "Training Step: 773  | time: 0.016s\n\u001b[2K\r| Adam | epoch: 078 | loss: 0.00000 - acc: 1.0000 -- iter: 192/595\n"
     ]
    },
    {
     "name": "stdout",
     "output_type": "stream",
     "text": [
      "Training Step: 774  | time: 0.021s\n\u001b[2K\r| Adam | epoch: 078 | loss: 0.00000 - acc: 1.0000 -- iter: 256/595\n"
     ]
    },
    {
     "name": "stdout",
     "output_type": "stream",
     "text": [
      "Training Step: 775  | time: 0.027s\n\u001b[2K\r| Adam | epoch: 078 | loss: 0.00000 - acc: 1.0000 -- iter: 320/595\n"
     ]
    },
    {
     "name": "stdout",
     "output_type": "stream",
     "text": [
      "Training Step: 776  | time: 0.032s\n\u001b[2K\r| Adam | epoch: 078 | loss: 0.00000 - acc: 1.0000 -- iter: 384/595\n"
     ]
    },
    {
     "name": "stdout",
     "output_type": "stream",
     "text": [
      "Training Step: 777  | time: 0.037s\n\u001b[2K\r| Adam | epoch: 078 | loss: 0.00000 - acc: 1.0000 -- iter: 448/595\n"
     ]
    },
    {
     "name": "stdout",
     "output_type": "stream",
     "text": [
      "Training Step: 778  | time: 0.041s\n\u001b[2K\r| Adam | epoch: 078 | loss: 0.00000 - acc: 1.0000 -- iter: 512/595\n"
     ]
    },
    {
     "name": "stdout",
     "output_type": "stream",
     "text": [
      "Training Step: 779  | time: 0.046s\n\u001b[2K\r| Adam | epoch: 078 | loss: 0.00000 - acc: 1.0000 -- iter: 576/595\n"
     ]
    },
    {
     "name": "stdout",
     "output_type": "stream",
     "text": [
      "Training Step: 780  | time: 0.051s\n\u001b[2K\r| Adam | epoch: 078 | loss: 0.00000 - acc: 1.0000 -- iter: 595/595\n--\n"
     ]
    },
    {
     "name": "stdout",
     "output_type": "stream",
     "text": [
      "Training Step: 781  | time: 0.005s\n\u001b[2K\r| Adam | epoch: 079 | loss: 0.00000 - acc: 1.0000 -- iter: 064/595\n"
     ]
    },
    {
     "name": "stdout",
     "output_type": "stream",
     "text": [
      "Training Step: 782  | time: 0.010s\n\u001b[2K\r| Adam | epoch: 079 | loss: 0.00000 - acc: 1.0000 -- iter: 128/595\n"
     ]
    },
    {
     "name": "stdout",
     "output_type": "stream",
     "text": [
      "Training Step: 783  | time: 0.015s\n\u001b[2K\r| Adam | epoch: 079 | loss: 0.00000 - acc: 1.0000 -- iter: 192/595\n"
     ]
    },
    {
     "name": "stdout",
     "output_type": "stream",
     "text": [
      "Training Step: 784  | time: 0.020s\n\u001b[2K\r| Adam | epoch: 079 | loss: 0.00000 - acc: 1.0000 -- iter: 256/595\n"
     ]
    },
    {
     "name": "stdout",
     "output_type": "stream",
     "text": [
      "Training Step: 785  | time: 0.025s\n\u001b[2K\r| Adam | epoch: 079 | loss: 0.00000 - acc: 1.0000 -- iter: 320/595\n"
     ]
    },
    {
     "name": "stdout",
     "output_type": "stream",
     "text": [
      "Training Step: 786  | time: 0.029s\n\u001b[2K\r| Adam | epoch: 079 | loss: 0.00000 - acc: 1.0000 -- iter: 384/595\n"
     ]
    },
    {
     "name": "stdout",
     "output_type": "stream",
     "text": [
      "Training Step: 787  | time: 0.038s\n\u001b[2K\r| Adam | epoch: 079 | loss: 0.00000 - acc: 1.0000 -- iter: 448/595\n"
     ]
    },
    {
     "name": "stdout",
     "output_type": "stream",
     "text": [
      "Training Step: 788  | time: 0.043s\n\u001b[2K\r| Adam | epoch: 079 | loss: 0.00000 - acc: 1.0000 -- iter: 512/595\n"
     ]
    },
    {
     "name": "stdout",
     "output_type": "stream",
     "text": [
      "Training Step: 789  | time: 0.048s\n\u001b[2K\r| Adam | epoch: 079 | loss: 0.00000 - acc: 1.0000 -- iter: 576/595\n"
     ]
    },
    {
     "name": "stdout",
     "output_type": "stream",
     "text": [
      "Training Step: 790  | time: 0.056s\n\u001b[2K\r| Adam | epoch: 079 | loss: 0.00000 - acc: 1.0000 -- iter: 595/595\n--\n"
     ]
    },
    {
     "name": "stdout",
     "output_type": "stream",
     "text": [
      "Training Step: 791  | time: 0.005s\n\u001b[2K\r| Adam | epoch: 080 | loss: 0.00000 - acc: 1.0000 -- iter: 064/595\n"
     ]
    },
    {
     "name": "stdout",
     "output_type": "stream",
     "text": [
      "Training Step: 792  | time: 0.010s\n\u001b[2K\r| Adam | epoch: 080 | loss: 0.00000 - acc: 1.0000 -- iter: 128/595\n"
     ]
    },
    {
     "name": "stdout",
     "output_type": "stream",
     "text": [
      "Training Step: 793  | time: 0.015s\n\u001b[2K\r| Adam | epoch: 080 | loss: 0.00000 - acc: 1.0000 -- iter: 192/595\n"
     ]
    },
    {
     "name": "stdout",
     "output_type": "stream",
     "text": [
      "Training Step: 794  | time: 0.019s\n\u001b[2K\r| Adam | epoch: 080 | loss: 0.00000 - acc: 1.0000 -- iter: 256/595\n"
     ]
    },
    {
     "name": "stdout",
     "output_type": "stream",
     "text": [
      "Training Step: 795  | time: 0.025s\n\u001b[2K\r| Adam | epoch: 080 | loss: 0.00000 - acc: 1.0000 -- iter: 320/595\n"
     ]
    },
    {
     "name": "stdout",
     "output_type": "stream",
     "text": [
      "Training Step: 796  | time: 0.032s\n\u001b[2K\r| Adam | epoch: 080 | loss: 0.00000 - acc: 1.0000 -- iter: 384/595\n"
     ]
    },
    {
     "name": "stdout",
     "output_type": "stream",
     "text": [
      "Training Step: 797  | time: 0.039s\n\u001b[2K\r| Adam | epoch: 080 | loss: 0.00000 - acc: 1.0000 -- iter: 448/595\n"
     ]
    },
    {
     "name": "stdout",
     "output_type": "stream",
     "text": [
      "Training Step: 798  | time: 0.044s\n\u001b[2K\r| Adam | epoch: 080 | loss: 0.00000 - acc: 1.0000 -- iter: 512/595\n"
     ]
    },
    {
     "name": "stdout",
     "output_type": "stream",
     "text": [
      "Training Step: 799  | time: 0.049s\n\u001b[2K\r| Adam | epoch: 080 | loss: 0.00000 - acc: 1.0000 -- iter: 576/595\n"
     ]
    },
    {
     "name": "stdout",
     "output_type": "stream",
     "text": [
      "Training Step: 800  | time: 0.054s\n\u001b[2K\r| Adam | epoch: 080 | loss: 0.00000 - acc: 1.0000 -- iter: 595/595\n--\n"
     ]
    },
    {
     "name": "stdout",
     "output_type": "stream",
     "text": [
      "Training Step: 801  | time: 0.005s\n\u001b[2K\r| Adam | epoch: 081 | loss: 0.00000 - acc: 1.0000 -- iter: 064/595\n"
     ]
    },
    {
     "name": "stdout",
     "output_type": "stream",
     "text": [
      "Training Step: 802  | time: 0.009s\n\u001b[2K\r| Adam | epoch: 081 | loss: 0.00000 - acc: 1.0000 -- iter: 128/595\n"
     ]
    },
    {
     "name": "stdout",
     "output_type": "stream",
     "text": [
      "Training Step: 803  | time: 0.014s\n\u001b[2K\r| Adam | epoch: 081 | loss: 0.00000 - acc: 1.0000 -- iter: 192/595\n"
     ]
    },
    {
     "name": "stdout",
     "output_type": "stream",
     "text": [
      "Training Step: 804  | time: 0.020s\n\u001b[2K\r| Adam | epoch: 081 | loss: 0.00000 - acc: 1.0000 -- iter: 256/595\n"
     ]
    },
    {
     "name": "stdout",
     "output_type": "stream",
     "text": [
      "Training Step: 805  | time: 0.025s\n\u001b[2K\r| Adam | epoch: 081 | loss: 0.00000 - acc: 1.0000 -- iter: 320/595\n"
     ]
    },
    {
     "name": "stdout",
     "output_type": "stream",
     "text": [
      "Training Step: 806  | time: 0.029s\n\u001b[2K\r| Adam | epoch: 081 | loss: 0.00000 - acc: 1.0000 -- iter: 384/595\n"
     ]
    },
    {
     "name": "stdout",
     "output_type": "stream",
     "text": [
      "Training Step: 807  | time: 0.033s\n\u001b[2K\r| Adam | epoch: 081 | loss: 0.00000 - acc: 1.0000 -- iter: 448/595\n"
     ]
    },
    {
     "name": "stdout",
     "output_type": "stream",
     "text": [
      "Training Step: 808  | time: 0.038s\n\u001b[2K\r| Adam | epoch: 081 | loss: 0.00000 - acc: 1.0000 -- iter: 512/595\n"
     ]
    },
    {
     "name": "stdout",
     "output_type": "stream",
     "text": [
      "Training Step: 809  | time: 0.042s\n\u001b[2K\r| Adam | epoch: 081 | loss: 0.00000 - acc: 1.0000 -- iter: 576/595\n"
     ]
    },
    {
     "name": "stdout",
     "output_type": "stream",
     "text": [
      "Training Step: 810  | time: 0.047s\n\u001b[2K\r| Adam | epoch: 081 | loss: 0.00000 - acc: 1.0000 -- iter: 595/595\n--\n"
     ]
    },
    {
     "name": "stdout",
     "output_type": "stream",
     "text": [
      "Training Step: 811  | time: 0.005s\n\u001b[2K\r| Adam | epoch: 082 | loss: 0.00000 - acc: 1.0000 -- iter: 064/595\n"
     ]
    },
    {
     "name": "stdout",
     "output_type": "stream",
     "text": [
      "Training Step: 812  | time: 0.010s\n\u001b[2K\r| Adam | epoch: 082 | loss: 0.00000 - acc: 1.0000 -- iter: 128/595\n"
     ]
    },
    {
     "name": "stdout",
     "output_type": "stream",
     "text": [
      "Training Step: 813  | time: 0.020s\n\u001b[2K\r| Adam | epoch: 082 | loss: 0.00000 - acc: 1.0000 -- iter: 192/595\n"
     ]
    },
    {
     "name": "stdout",
     "output_type": "stream",
     "text": [
      "Training Step: 814  | time: 0.024s\n\u001b[2K\r| Adam | epoch: 082 | loss: 0.00000 - acc: 1.0000 -- iter: 256/595\n"
     ]
    },
    {
     "name": "stdout",
     "output_type": "stream",
     "text": [
      "Training Step: 815  | time: 0.028s\n\u001b[2K\r| Adam | epoch: 082 | loss: 0.00000 - acc: 1.0000 -- iter: 320/595\n"
     ]
    },
    {
     "name": "stdout",
     "output_type": "stream",
     "text": [
      "Training Step: 816  | time: 0.032s\n\u001b[2K\r| Adam | epoch: 082 | loss: 0.00000 - acc: 1.0000 -- iter: 384/595\n"
     ]
    },
    {
     "name": "stdout",
     "output_type": "stream",
     "text": [
      "Training Step: 817  | time: 0.038s\n\u001b[2K\r| Adam | epoch: 082 | loss: 0.00000 - acc: 1.0000 -- iter: 448/595\n"
     ]
    },
    {
     "name": "stdout",
     "output_type": "stream",
     "text": [
      "Training Step: 818  | time: 0.043s\n\u001b[2K\r| Adam | epoch: 082 | loss: 0.00000 - acc: 1.0000 -- iter: 512/595\n"
     ]
    },
    {
     "name": "stdout",
     "output_type": "stream",
     "text": [
      "Training Step: 819  | time: 0.048s\n\u001b[2K\r| Adam | epoch: 082 | loss: 0.00000 - acc: 1.0000 -- iter: 576/595\n"
     ]
    },
    {
     "name": "stdout",
     "output_type": "stream",
     "text": [
      "Training Step: 820  | time: 0.051s\n\u001b[2K\r| Adam | epoch: 082 | loss: 0.00000 - acc: 1.0000 -- iter: 595/595\n--\n"
     ]
    },
    {
     "name": "stdout",
     "output_type": "stream",
     "text": [
      "Training Step: 821  | time: 0.005s\n\u001b[2K\r| Adam | epoch: 083 | loss: 0.00000 - acc: 1.0000 -- iter: 064/595\n"
     ]
    },
    {
     "name": "stdout",
     "output_type": "stream",
     "text": [
      "Training Step: 822  | time: 0.009s\n\u001b[2K\r| Adam | epoch: 083 | loss: 0.00000 - acc: 1.0000 -- iter: 128/595\n"
     ]
    },
    {
     "name": "stdout",
     "output_type": "stream",
     "text": [
      "Training Step: 823  | time: 0.014s\n\u001b[2K\r| Adam | epoch: 083 | loss: 0.00000 - acc: 1.0000 -- iter: 192/595\n"
     ]
    },
    {
     "name": "stdout",
     "output_type": "stream",
     "text": [
      "Training Step: 824  | time: 0.018s\n\u001b[2K\r| Adam | epoch: 083 | loss: 0.00000 - acc: 1.0000 -- iter: 256/595\n"
     ]
    },
    {
     "name": "stdout",
     "output_type": "stream",
     "text": [
      "Training Step: 825  | time: 0.023s\n\u001b[2K\r| Adam | epoch: 083 | loss: 0.00000 - acc: 1.0000 -- iter: 320/595\n"
     ]
    },
    {
     "name": "stdout",
     "output_type": "stream",
     "text": [
      "Training Step: 826  | time: 0.029s\n\u001b[2K\r| Adam | epoch: 083 | loss: 0.00000 - acc: 1.0000 -- iter: 384/595\n"
     ]
    },
    {
     "name": "stdout",
     "output_type": "stream",
     "text": [
      "Training Step: 827  | time: 0.032s\n\u001b[2K\r| Adam | epoch: 083 | loss: 0.00000 - acc: 1.0000 -- iter: 448/595\n"
     ]
    },
    {
     "name": "stdout",
     "output_type": "stream",
     "text": [
      "Training Step: 828  | time: 0.036s\n\u001b[2K\r| Adam | epoch: 083 | loss: 0.00000 - acc: 1.0000 -- iter: 512/595\n"
     ]
    },
    {
     "name": "stdout",
     "output_type": "stream",
     "text": [
      "Training Step: 829  | time: 0.039s\n\u001b[2K\r| Adam | epoch: 083 | loss: 0.00000 - acc: 1.0000 -- iter: 576/595\n"
     ]
    },
    {
     "name": "stdout",
     "output_type": "stream",
     "text": [
      "Training Step: 830  | time: 0.044s\n\u001b[2K\r| Adam | epoch: 083 | loss: 0.00000 - acc: 1.0000 -- iter: 595/595\n--\n"
     ]
    },
    {
     "name": "stdout",
     "output_type": "stream",
     "text": [
      "Training Step: 831  | time: 0.005s\n\u001b[2K\r| Adam | epoch: 084 | loss: 0.00000 - acc: 1.0000 -- iter: 064/595\n"
     ]
    },
    {
     "name": "stdout",
     "output_type": "stream",
     "text": [
      "Training Step: 832  | time: 0.010s\n\u001b[2K\r| Adam | epoch: 084 | loss: 0.00000 - acc: 1.0000 -- iter: 128/595\n"
     ]
    },
    {
     "name": "stdout",
     "output_type": "stream",
     "text": [
      "Training Step: 833  | time: 0.015s\n\u001b[2K\r| Adam | epoch: 084 | loss: 0.00000 - acc: 1.0000 -- iter: 192/595\n"
     ]
    },
    {
     "name": "stdout",
     "output_type": "stream",
     "text": [
      "Training Step: 834  | time: 0.018s\n\u001b[2K\r| Adam | epoch: 084 | loss: 0.00000 - acc: 1.0000 -- iter: 256/595\n"
     ]
    },
    {
     "name": "stdout",
     "output_type": "stream",
     "text": [
      "Training Step: 835  | time: 0.022s\n\u001b[2K\r| Adam | epoch: 084 | loss: 0.00000 - acc: 1.0000 -- iter: 320/595\n"
     ]
    },
    {
     "name": "stdout",
     "output_type": "stream",
     "text": [
      "Training Step: 836  | time: 0.027s\n\u001b[2K\r| Adam | epoch: 084 | loss: 0.00000 - acc: 1.0000 -- iter: 384/595\n"
     ]
    },
    {
     "name": "stdout",
     "output_type": "stream",
     "text": [
      "Training Step: 837  | time: 0.032s\n\u001b[2K\r| Adam | epoch: 084 | loss: 0.00000 - acc: 1.0000 -- iter: 448/595\n"
     ]
    },
    {
     "name": "stdout",
     "output_type": "stream",
     "text": [
      "Training Step: 838  | time: 0.037s\n\u001b[2K\r| Adam | epoch: 084 | loss: 0.00000 - acc: 1.0000 -- iter: 512/595\n"
     ]
    },
    {
     "name": "stdout",
     "output_type": "stream",
     "text": [
      "Training Step: 839  | time: 0.042s\n\u001b[2K\r| Adam | epoch: 084 | loss: 0.00000 - acc: 1.0000 -- iter: 576/595\n"
     ]
    },
    {
     "name": "stdout",
     "output_type": "stream",
     "text": [
      "Training Step: 840  | time: 0.046s\n\u001b[2K\r| Adam | epoch: 084 | loss: 0.00000 - acc: 1.0000 -- iter: 595/595\n--\n"
     ]
    },
    {
     "name": "stdout",
     "output_type": "stream",
     "text": [
      "Training Step: 841  | time: 0.004s\n\u001b[2K\r| Adam | epoch: 085 | loss: 0.00000 - acc: 1.0000 -- iter: 064/595\n"
     ]
    },
    {
     "name": "stdout",
     "output_type": "stream",
     "text": [
      "Training Step: 842  | time: 0.008s\n\u001b[2K\r| Adam | epoch: 085 | loss: 0.00000 - acc: 1.0000 -- iter: 128/595\n"
     ]
    },
    {
     "name": "stdout",
     "output_type": "stream",
     "text": [
      "Training Step: 843  | time: 0.012s\n\u001b[2K\r| Adam | epoch: 085 | loss: 0.00000 - acc: 1.0000 -- iter: 192/595\n"
     ]
    },
    {
     "name": "stdout",
     "output_type": "stream",
     "text": [
      "Training Step: 844  | time: 0.016s\n\u001b[2K\r| Adam | epoch: 085 | loss: 0.00000 - acc: 1.0000 -- iter: 256/595\n"
     ]
    },
    {
     "name": "stdout",
     "output_type": "stream",
     "text": [
      "Training Step: 845  | time: 0.021s\n\u001b[2K\r| Adam | epoch: 085 | loss: 0.00000 - acc: 1.0000 -- iter: 320/595\n"
     ]
    },
    {
     "name": "stdout",
     "output_type": "stream",
     "text": [
      "Training Step: 846  | time: 0.027s\n\u001b[2K\r| Adam | epoch: 085 | loss: 0.00000 - acc: 1.0000 -- iter: 384/595\n"
     ]
    },
    {
     "name": "stdout",
     "output_type": "stream",
     "text": [
      "Training Step: 847  | time: 0.032s\n\u001b[2K\r| Adam | epoch: 085 | loss: 0.00000 - acc: 1.0000 -- iter: 448/595\n"
     ]
    },
    {
     "name": "stdout",
     "output_type": "stream",
     "text": [
      "Training Step: 848  | time: 0.036s\n\u001b[2K\r| Adam | epoch: 085 | loss: 0.00000 - acc: 1.0000 -- iter: 512/595\n"
     ]
    },
    {
     "name": "stdout",
     "output_type": "stream",
     "text": [
      "Training Step: 849  | time: 0.040s\n\u001b[2K\r| Adam | epoch: 085 | loss: 0.00000 - acc: 1.0000 -- iter: 576/595\n"
     ]
    },
    {
     "name": "stdout",
     "output_type": "stream",
     "text": [
      "Training Step: 850  | time: 0.044s\n\u001b[2K\r| Adam | epoch: 085 | loss: 0.00000 - acc: 1.0000 -- iter: 595/595\n--\n"
     ]
    },
    {
     "name": "stdout",
     "output_type": "stream",
     "text": [
      "Training Step: 851  | time: 0.003s\n\u001b[2K\r| Adam | epoch: 086 | loss: 0.00000 - acc: 1.0000 -- iter: 064/595\n"
     ]
    },
    {
     "name": "stdout",
     "output_type": "stream",
     "text": [
      "Training Step: 852  | time: 0.007s\n\u001b[2K\r| Adam | epoch: 086 | loss: 0.00000 - acc: 1.0000 -- iter: 128/595\n"
     ]
    },
    {
     "name": "stdout",
     "output_type": "stream",
     "text": [
      "Training Step: 853  | time: 0.012s\n\u001b[2K\r| Adam | epoch: 086 | loss: 0.00000 - acc: 1.0000 -- iter: 192/595\n"
     ]
    },
    {
     "name": "stdout",
     "output_type": "stream",
     "text": [
      "Training Step: 854  | time: 0.017s\n\u001b[2K\r| Adam | epoch: 086 | loss: 0.00000 - acc: 1.0000 -- iter: 256/595\n"
     ]
    },
    {
     "name": "stdout",
     "output_type": "stream",
     "text": [
      "Training Step: 855  | time: 0.021s\n\u001b[2K\r| Adam | epoch: 086 | loss: 0.00000 - acc: 1.0000 -- iter: 320/595\n"
     ]
    },
    {
     "name": "stdout",
     "output_type": "stream",
     "text": [
      "Training Step: 856  | time: 0.025s\n\u001b[2K\r| Adam | epoch: 086 | loss: 0.00000 - acc: 1.0000 -- iter: 384/595\n"
     ]
    },
    {
     "name": "stdout",
     "output_type": "stream",
     "text": [
      "Training Step: 857  | time: 0.029s\n\u001b[2K\r| Adam | epoch: 086 | loss: 0.00000 - acc: 1.0000 -- iter: 448/595\n"
     ]
    },
    {
     "name": "stdout",
     "output_type": "stream",
     "text": [
      "Training Step: 858  | time: 0.033s\n\u001b[2K\r| Adam | epoch: 086 | loss: 0.00000 - acc: 1.0000 -- iter: 512/595\n"
     ]
    },
    {
     "name": "stdout",
     "output_type": "stream",
     "text": [
      "Training Step: 859  | time: 0.037s\n\u001b[2K\r| Adam | epoch: 086 | loss: 0.00000 - acc: 1.0000 -- iter: 576/595\n"
     ]
    },
    {
     "name": "stdout",
     "output_type": "stream",
     "text": [
      "Training Step: 860  | time: 0.041s\n\u001b[2K\r| Adam | epoch: 086 | loss: 0.00000 - acc: 1.0000 -- iter: 595/595\n--\n"
     ]
    },
    {
     "name": "stdout",
     "output_type": "stream",
     "text": [
      "Training Step: 861  | time: 0.004s\n\u001b[2K\r| Adam | epoch: 087 | loss: 0.00000 - acc: 1.0000 -- iter: 064/595\n"
     ]
    },
    {
     "name": "stdout",
     "output_type": "stream",
     "text": [
      "Training Step: 862  | time: 0.008s\n\u001b[2K\r| Adam | epoch: 087 | loss: 0.00000 - acc: 1.0000 -- iter: 128/595\n"
     ]
    },
    {
     "name": "stdout",
     "output_type": "stream",
     "text": [
      "Training Step: 863  | time: 0.014s\n\u001b[2K\r| Adam | epoch: 087 | loss: 0.00000 - acc: 1.0000 -- iter: 192/595\n"
     ]
    },
    {
     "name": "stdout",
     "output_type": "stream",
     "text": [
      "Training Step: 864  | time: 0.018s\n\u001b[2K\r| Adam | epoch: 087 | loss: 0.00000 - acc: 1.0000 -- iter: 256/595\n"
     ]
    },
    {
     "name": "stdout",
     "output_type": "stream",
     "text": [
      "Training Step: 865  | time: 0.023s\n\u001b[2K\r| Adam | epoch: 087 | loss: 0.00000 - acc: 1.0000 -- iter: 320/595\n"
     ]
    },
    {
     "name": "stdout",
     "output_type": "stream",
     "text": [
      "Training Step: 866  | time: 0.026s\n\u001b[2K\r| Adam | epoch: 087 | loss: 0.00000 - acc: 1.0000 -- iter: 384/595\n"
     ]
    },
    {
     "name": "stdout",
     "output_type": "stream",
     "text": [
      "Training Step: 867  | time: 0.030s\n\u001b[2K\r| Adam | epoch: 087 | loss: 0.00000 - acc: 1.0000 -- iter: 448/595\n"
     ]
    },
    {
     "name": "stdout",
     "output_type": "stream",
     "text": [
      "Training Step: 868  | time: 0.035s\n\u001b[2K\r| Adam | epoch: 087 | loss: 0.00000 - acc: 1.0000 -- iter: 512/595\n"
     ]
    },
    {
     "name": "stdout",
     "output_type": "stream",
     "text": [
      "Training Step: 869  | time: 0.039s\n\u001b[2K\r| Adam | epoch: 087 | loss: 0.00000 - acc: 1.0000 -- iter: 576/595\n"
     ]
    },
    {
     "name": "stdout",
     "output_type": "stream",
     "text": [
      "Training Step: 870  | time: 0.043s\n\u001b[2K\r| Adam | epoch: 087 | loss: 0.00000 - acc: 1.0000 -- iter: 595/595\n--\n"
     ]
    },
    {
     "name": "stdout",
     "output_type": "stream",
     "text": [
      "Training Step: 871  | time: 0.004s\n\u001b[2K\r| Adam | epoch: 088 | loss: 0.00000 - acc: 1.0000 -- iter: 064/595\n"
     ]
    },
    {
     "name": "stdout",
     "output_type": "stream",
     "text": [
      "Training Step: 872  | time: 0.010s\n\u001b[2K\r| Adam | epoch: 088 | loss: 0.00000 - acc: 1.0000 -- iter: 128/595\n"
     ]
    },
    {
     "name": "stdout",
     "output_type": "stream",
     "text": [
      "Training Step: 873  | time: 0.014s\n\u001b[2K\r| Adam | epoch: 088 | loss: 0.00000 - acc: 1.0000 -- iter: 192/595\n"
     ]
    },
    {
     "name": "stdout",
     "output_type": "stream",
     "text": [
      "Training Step: 874  | time: 0.021s\n\u001b[2K\r| Adam | epoch: 088 | loss: 0.00000 - acc: 1.0000 -- iter: 256/595\n"
     ]
    },
    {
     "name": "stdout",
     "output_type": "stream",
     "text": [
      "Training Step: 875  | time: 0.025s\n\u001b[2K\r| Adam | epoch: 088 | loss: 0.00000 - acc: 1.0000 -- iter: 320/595\n"
     ]
    },
    {
     "name": "stdout",
     "output_type": "stream",
     "text": [
      "Training Step: 876  | time: 0.029s\n\u001b[2K\r| Adam | epoch: 088 | loss: 0.00000 - acc: 1.0000 -- iter: 384/595\n"
     ]
    },
    {
     "name": "stdout",
     "output_type": "stream",
     "text": [
      "Training Step: 877  | time: 0.032s\n\u001b[2K\r| Adam | epoch: 088 | loss: 0.00000 - acc: 1.0000 -- iter: 448/595\n"
     ]
    },
    {
     "name": "stdout",
     "output_type": "stream",
     "text": [
      "Training Step: 878  | time: 0.036s\n\u001b[2K\r| Adam | epoch: 088 | loss: 0.00000 - acc: 1.0000 -- iter: 512/595\n"
     ]
    },
    {
     "name": "stdout",
     "output_type": "stream",
     "text": [
      "Training Step: 879  | time: 0.040s\n\u001b[2K\r| Adam | epoch: 088 | loss: 0.00000 - acc: 1.0000 -- iter: 576/595\n"
     ]
    },
    {
     "name": "stdout",
     "output_type": "stream",
     "text": [
      "Training Step: 880  | time: 0.045s\n\u001b[2K\r| Adam | epoch: 088 | loss: 0.00000 - acc: 1.0000 -- iter: 595/595\n--\n"
     ]
    },
    {
     "name": "stdout",
     "output_type": "stream",
     "text": [
      "Training Step: 881  | time: 0.004s\n\u001b[2K\r| Adam | epoch: 089 | loss: 0.00000 - acc: 1.0000 -- iter: 064/595\n"
     ]
    },
    {
     "name": "stdout",
     "output_type": "stream",
     "text": [
      "Training Step: 882  | time: 0.009s\n\u001b[2K\r| Adam | epoch: 089 | loss: 0.00000 - acc: 1.0000 -- iter: 128/595\n"
     ]
    },
    {
     "name": "stdout",
     "output_type": "stream",
     "text": [
      "Training Step: 883  | time: 0.013s\n\u001b[2K\r| Adam | epoch: 089 | loss: 0.00000 - acc: 1.0000 -- iter: 192/595\n"
     ]
    },
    {
     "name": "stdout",
     "output_type": "stream",
     "text": [
      "Training Step: 884  | time: 0.017s\n\u001b[2K\r| Adam | epoch: 089 | loss: 0.00000 - acc: 1.0000 -- iter: 256/595\n"
     ]
    },
    {
     "name": "stdout",
     "output_type": "stream",
     "text": [
      "Training Step: 885  | time: 0.021s\n\u001b[2K\r| Adam | epoch: 089 | loss: 0.00000 - acc: 1.0000 -- iter: 320/595\n"
     ]
    },
    {
     "name": "stdout",
     "output_type": "stream",
     "text": [
      "Training Step: 886  | time: 0.025s\n\u001b[2K\r| Adam | epoch: 089 | loss: 0.00000 - acc: 1.0000 -- iter: 384/595\n"
     ]
    },
    {
     "name": "stdout",
     "output_type": "stream",
     "text": [
      "Training Step: 887  | time: 0.029s\n\u001b[2K\r| Adam | epoch: 089 | loss: 0.00000 - acc: 1.0000 -- iter: 448/595\n"
     ]
    },
    {
     "name": "stdout",
     "output_type": "stream",
     "text": [
      "Training Step: 888  | time: 0.035s\n\u001b[2K\r| Adam | epoch: 089 | loss: 0.00000 - acc: 1.0000 -- iter: 512/595\n"
     ]
    },
    {
     "name": "stdout",
     "output_type": "stream",
     "text": [
      "Training Step: 889  | time: 0.042s\n\u001b[2K\r| Adam | epoch: 089 | loss: 0.00000 - acc: 1.0000 -- iter: 576/595\n"
     ]
    },
    {
     "name": "stdout",
     "output_type": "stream",
     "text": [
      "Training Step: 890  | time: 0.046s\n\u001b[2K\r| Adam | epoch: 089 | loss: 0.00000 - acc: 1.0000 -- iter: 595/595\n--\n"
     ]
    },
    {
     "name": "stdout",
     "output_type": "stream",
     "text": [
      "Training Step: 891  | time: 0.004s\n\u001b[2K\r| Adam | epoch: 090 | loss: 0.00000 - acc: 1.0000 -- iter: 064/595\n"
     ]
    },
    {
     "name": "stdout",
     "output_type": "stream",
     "text": [
      "Training Step: 892  | time: 0.013s\n\u001b[2K\r| Adam | epoch: 090 | loss: 0.00000 - acc: 1.0000 -- iter: 128/595\n"
     ]
    },
    {
     "name": "stdout",
     "output_type": "stream",
     "text": [
      "Training Step: 893  | time: 0.017s\n\u001b[2K\r| Adam | epoch: 090 | loss: 0.00000 - acc: 1.0000 -- iter: 192/595\n"
     ]
    },
    {
     "name": "stdout",
     "output_type": "stream",
     "text": [
      "Training Step: 894  | time: 0.022s\n\u001b[2K\r| Adam | epoch: 090 | loss: 0.00000 - acc: 1.0000 -- iter: 256/595\n"
     ]
    },
    {
     "name": "stdout",
     "output_type": "stream",
     "text": [
      "Training Step: 895  | time: 0.026s\n\u001b[2K\r| Adam | epoch: 090 | loss: 0.00000 - acc: 1.0000 -- iter: 320/595\n"
     ]
    },
    {
     "name": "stdout",
     "output_type": "stream",
     "text": [
      "Training Step: 896  | time: 0.030s\n\u001b[2K\r| Adam | epoch: 090 | loss: 0.00000 - acc: 1.0000 -- iter: 384/595\n"
     ]
    },
    {
     "name": "stdout",
     "output_type": "stream",
     "text": [
      "Training Step: 897  | time: 0.035s\n\u001b[2K\r| Adam | epoch: 090 | loss: 0.00000 - acc: 1.0000 -- iter: 448/595\n"
     ]
    },
    {
     "name": "stdout",
     "output_type": "stream",
     "text": [
      "Training Step: 898  | time: 0.042s\n\u001b[2K\r| Adam | epoch: 090 | loss: 0.00000 - acc: 1.0000 -- iter: 512/595\n"
     ]
    },
    {
     "name": "stdout",
     "output_type": "stream",
     "text": [
      "Training Step: 899  | time: 0.047s\n\u001b[2K\r| Adam | epoch: 090 | loss: 0.00000 - acc: 1.0000 -- iter: 576/595\n"
     ]
    },
    {
     "name": "stdout",
     "output_type": "stream",
     "text": [
      "Training Step: 900  | time: 0.051s\n\u001b[2K\r| Adam | epoch: 090 | loss: 0.00000 - acc: 1.0000 -- iter: 595/595\n--\n"
     ]
    },
    {
     "name": "stdout",
     "output_type": "stream",
     "text": [
      "Training Step: 901  | time: 0.004s\n\u001b[2K\r| Adam | epoch: 091 | loss: 0.00000 - acc: 1.0000 -- iter: 064/595\n"
     ]
    },
    {
     "name": "stdout",
     "output_type": "stream",
     "text": [
      "Training Step: 902  | time: 0.008s\n\u001b[2K\r| Adam | epoch: 091 | loss: 0.00000 - acc: 1.0000 -- iter: 128/595\n"
     ]
    },
    {
     "name": "stdout",
     "output_type": "stream",
     "text": [
      "Training Step: 903  | time: 0.013s\n\u001b[2K\r| Adam | epoch: 091 | loss: 0.00000 - acc: 1.0000 -- iter: 192/595\n"
     ]
    },
    {
     "name": "stdout",
     "output_type": "stream",
     "text": [
      "Training Step: 904  | time: 0.017s\n\u001b[2K\r| Adam | epoch: 091 | loss: 0.00000 - acc: 1.0000 -- iter: 256/595\n"
     ]
    },
    {
     "name": "stdout",
     "output_type": "stream",
     "text": [
      "Training Step: 905  | time: 0.023s\n\u001b[2K\r| Adam | epoch: 091 | loss: 0.00000 - acc: 1.0000 -- iter: 320/595\n"
     ]
    },
    {
     "name": "stdout",
     "output_type": "stream",
     "text": [
      "Training Step: 906  | time: 0.030s\n\u001b[2K\r| Adam | epoch: 091 | loss: 0.00000 - acc: 1.0000 -- iter: 384/595\n"
     ]
    },
    {
     "name": "stdout",
     "output_type": "stream",
     "text": [
      "Training Step: 907  | time: 0.036s\n\u001b[2K\r| Adam | epoch: 091 | loss: 0.00000 - acc: 1.0000 -- iter: 448/595\n"
     ]
    },
    {
     "name": "stdout",
     "output_type": "stream",
     "text": [
      "Training Step: 908  | time: 0.040s\n\u001b[2K\r| Adam | epoch: 091 | loss: 0.00000 - acc: 1.0000 -- iter: 512/595\n"
     ]
    },
    {
     "name": "stdout",
     "output_type": "stream",
     "text": [
      "Training Step: 909  | time: 0.046s\n\u001b[2K\r| Adam | epoch: 091 | loss: 0.00000 - acc: 1.0000 -- iter: 576/595\n"
     ]
    },
    {
     "name": "stdout",
     "output_type": "stream",
     "text": [
      "Training Step: 910  | time: 0.050s\n\u001b[2K\r| Adam | epoch: 091 | loss: 0.00000 - acc: 1.0000 -- iter: 595/595\n--\n"
     ]
    },
    {
     "name": "stdout",
     "output_type": "stream",
     "text": [
      "Training Step: 911  | time: 0.004s\n\u001b[2K\r| Adam | epoch: 092 | loss: 0.00000 - acc: 1.0000 -- iter: 064/595\n"
     ]
    },
    {
     "name": "stdout",
     "output_type": "stream",
     "text": [
      "Training Step: 912  | time: 0.009s\n\u001b[2K\r| Adam | epoch: 092 | loss: 0.00000 - acc: 1.0000 -- iter: 128/595\n"
     ]
    },
    {
     "name": "stdout",
     "output_type": "stream",
     "text": [
      "Training Step: 913  | time: 0.014s\n\u001b[2K\r| Adam | epoch: 092 | loss: 0.00000 - acc: 1.0000 -- iter: 192/595\n"
     ]
    },
    {
     "name": "stdout",
     "output_type": "stream",
     "text": [
      "Training Step: 914  | time: 0.019s\n\u001b[2K\r| Adam | epoch: 092 | loss: 0.00000 - acc: 1.0000 -- iter: 256/595\n"
     ]
    },
    {
     "name": "stdout",
     "output_type": "stream",
     "text": [
      "Training Step: 915  | time: 0.024s\n\u001b[2K\r| Adam | epoch: 092 | loss: 0.00000 - acc: 1.0000 -- iter: 320/595\n"
     ]
    },
    {
     "name": "stdout",
     "output_type": "stream",
     "text": [
      "Training Step: 916  | time: 0.028s\n\u001b[2K\r| Adam | epoch: 092 | loss: 0.00000 - acc: 1.0000 -- iter: 384/595\n"
     ]
    },
    {
     "name": "stdout",
     "output_type": "stream",
     "text": [
      "Training Step: 917  | time: 0.033s\n\u001b[2K\r| Adam | epoch: 092 | loss: 0.00000 - acc: 1.0000 -- iter: 448/595\n"
     ]
    },
    {
     "name": "stdout",
     "output_type": "stream",
     "text": [
      "Training Step: 918  | time: 0.037s\n\u001b[2K\r| Adam | epoch: 092 | loss: 0.00000 - acc: 1.0000 -- iter: 512/595\n"
     ]
    },
    {
     "name": "stdout",
     "output_type": "stream",
     "text": [
      "Training Step: 919  | time: 0.041s\n\u001b[2K\r| Adam | epoch: 092 | loss: 0.00000 - acc: 1.0000 -- iter: 576/595\n"
     ]
    },
    {
     "name": "stdout",
     "output_type": "stream",
     "text": [
      "Training Step: 920  | time: 0.045s\n\u001b[2K\r| Adam | epoch: 092 | loss: 0.00000 - acc: 1.0000 -- iter: 595/595\n--\n"
     ]
    },
    {
     "name": "stdout",
     "output_type": "stream",
     "text": [
      "Training Step: 921  | time: 0.006s\n\u001b[2K\r| Adam | epoch: 093 | loss: 0.00000 - acc: 1.0000 -- iter: 064/595\n"
     ]
    },
    {
     "name": "stdout",
     "output_type": "stream",
     "text": [
      "Training Step: 922  | time: 0.013s\n\u001b[2K\r| Adam | epoch: 093 | loss: 0.00000 - acc: 1.0000 -- iter: 128/595\n"
     ]
    },
    {
     "name": "stdout",
     "output_type": "stream",
     "text": [
      "Training Step: 923  | time: 0.018s\n\u001b[2K\r| Adam | epoch: 093 | loss: 0.00000 - acc: 1.0000 -- iter: 192/595\n"
     ]
    },
    {
     "name": "stdout",
     "output_type": "stream",
     "text": [
      "Training Step: 924  | time: 0.021s\n\u001b[2K\r| Adam | epoch: 093 | loss: 0.00000 - acc: 1.0000 -- iter: 256/595\n"
     ]
    },
    {
     "name": "stdout",
     "output_type": "stream",
     "text": [
      "Training Step: 925  | time: 0.025s\n\u001b[2K\r| Adam | epoch: 093 | loss: 0.00000 - acc: 1.0000 -- iter: 320/595\n"
     ]
    },
    {
     "name": "stdout",
     "output_type": "stream",
     "text": [
      "Training Step: 926  | time: 0.031s\n\u001b[2K\r| Adam | epoch: 093 | loss: 0.00000 - acc: 1.0000 -- iter: 384/595\n"
     ]
    },
    {
     "name": "stdout",
     "output_type": "stream",
     "text": [
      "Training Step: 927  | time: 0.035s\n\u001b[2K\r| Adam | epoch: 093 | loss: 0.00000 - acc: 1.0000 -- iter: 448/595\n"
     ]
    },
    {
     "name": "stdout",
     "output_type": "stream",
     "text": [
      "Training Step: 928  | time: 0.041s\n\u001b[2K\r| Adam | epoch: 093 | loss: 0.00000 - acc: 1.0000 -- iter: 512/595\n"
     ]
    },
    {
     "name": "stdout",
     "output_type": "stream",
     "text": [
      "Training Step: 929  | time: 0.044s\n\u001b[2K\r| Adam | epoch: 093 | loss: 0.00000 - acc: 1.0000 -- iter: 576/595\n"
     ]
    },
    {
     "name": "stdout",
     "output_type": "stream",
     "text": [
      "Training Step: 930  | time: 0.048s\n\u001b[2K\r| Adam | epoch: 093 | loss: 0.00000 - acc: 1.0000 -- iter: 595/595\n--\n"
     ]
    },
    {
     "name": "stdout",
     "output_type": "stream",
     "text": [
      "Training Step: 931  | time: 0.004s\n\u001b[2K\r| Adam | epoch: 094 | loss: 0.00000 - acc: 1.0000 -- iter: 064/595\n"
     ]
    },
    {
     "name": "stdout",
     "output_type": "stream",
     "text": [
      "Training Step: 932  | time: 0.008s\n\u001b[2K\r| Adam | epoch: 094 | loss: 0.00000 - acc: 1.0000 -- iter: 128/595\n"
     ]
    },
    {
     "name": "stdout",
     "output_type": "stream",
     "text": [
      "Training Step: 933  | time: 0.013s\n\u001b[2K\r| Adam | epoch: 094 | loss: 0.00000 - acc: 1.0000 -- iter: 192/595\n"
     ]
    },
    {
     "name": "stdout",
     "output_type": "stream",
     "text": [
      "Training Step: 934  | time: 0.021s\n\u001b[2K\r| Adam | epoch: 094 | loss: 0.00000 - acc: 1.0000 -- iter: 256/595\n"
     ]
    },
    {
     "name": "stdout",
     "output_type": "stream",
     "text": [
      "Training Step: 935  | time: 0.025s\n\u001b[2K\r| Adam | epoch: 094 | loss: 0.00000 - acc: 1.0000 -- iter: 320/595\n"
     ]
    },
    {
     "name": "stdout",
     "output_type": "stream",
     "text": [
      "Training Step: 936  | time: 0.030s\n\u001b[2K\r| Adam | epoch: 094 | loss: 0.00000 - acc: 1.0000 -- iter: 384/595\n"
     ]
    },
    {
     "name": "stdout",
     "output_type": "stream",
     "text": [
      "Training Step: 937  | time: 0.035s\n\u001b[2K\r| Adam | epoch: 094 | loss: 0.00000 - acc: 1.0000 -- iter: 448/595\n"
     ]
    },
    {
     "name": "stdout",
     "output_type": "stream",
     "text": [
      "Training Step: 938  | time: 0.039s\n\u001b[2K\r| Adam | epoch: 094 | loss: 0.00000 - acc: 1.0000 -- iter: 512/595\n"
     ]
    },
    {
     "name": "stdout",
     "output_type": "stream",
     "text": [
      "Training Step: 939  | time: 0.043s\n\u001b[2K\r| Adam | epoch: 094 | loss: 0.00000 - acc: 1.0000 -- iter: 576/595\n"
     ]
    },
    {
     "name": "stdout",
     "output_type": "stream",
     "text": [
      "Training Step: 940  | time: 0.047s\n\u001b[2K\r| Adam | epoch: 094 | loss: 0.00000 - acc: 1.0000 -- iter: 595/595\n--\n"
     ]
    },
    {
     "name": "stdout",
     "output_type": "stream",
     "text": [
      "Training Step: 941  | time: 0.005s\n\u001b[2K\r| Adam | epoch: 095 | loss: 0.00000 - acc: 1.0000 -- iter: 064/595\n"
     ]
    },
    {
     "name": "stdout",
     "output_type": "stream",
     "text": [
      "Training Step: 942  | time: 0.009s\n\u001b[2K\r| Adam | epoch: 095 | loss: 0.00000 - acc: 1.0000 -- iter: 128/595\n"
     ]
    },
    {
     "name": "stdout",
     "output_type": "stream",
     "text": [
      "Training Step: 943  | time: 0.013s\n\u001b[2K\r| Adam | epoch: 095 | loss: 0.00000 - acc: 1.0000 -- iter: 192/595\n"
     ]
    },
    {
     "name": "stdout",
     "output_type": "stream",
     "text": [
      "Training Step: 944  | time: 0.017s\n\u001b[2K\r| Adam | epoch: 095 | loss: 0.00000 - acc: 1.0000 -- iter: 256/595\n"
     ]
    },
    {
     "name": "stdout",
     "output_type": "stream",
     "text": [
      "Training Step: 945  | time: 0.021s\n\u001b[2K\r| Adam | epoch: 095 | loss: 0.00000 - acc: 1.0000 -- iter: 320/595\n"
     ]
    },
    {
     "name": "stdout",
     "output_type": "stream",
     "text": [
      "Training Step: 946  | time: 0.025s\n\u001b[2K\r| Adam | epoch: 095 | loss: 0.00000 - acc: 1.0000 -- iter: 384/595\n"
     ]
    },
    {
     "name": "stdout",
     "output_type": "stream",
     "text": [
      "Training Step: 947  | time: 0.030s\n\u001b[2K\r| Adam | epoch: 095 | loss: 0.00000 - acc: 1.0000 -- iter: 448/595\n"
     ]
    },
    {
     "name": "stdout",
     "output_type": "stream",
     "text": [
      "Training Step: 948  | time: 0.033s\n\u001b[2K\r| Adam | epoch: 095 | loss: 0.00000 - acc: 1.0000 -- iter: 512/595\n"
     ]
    },
    {
     "name": "stdout",
     "output_type": "stream",
     "text": [
      "Training Step: 949  | time: 0.038s\n\u001b[2K\r| Adam | epoch: 095 | loss: 0.00000 - acc: 1.0000 -- iter: 576/595\n"
     ]
    },
    {
     "name": "stdout",
     "output_type": "stream",
     "text": [
      "Training Step: 950  | time: 0.043s\n\u001b[2K\r| Adam | epoch: 095 | loss: 0.00000 - acc: 1.0000 -- iter: 595/595\n--\n"
     ]
    },
    {
     "name": "stdout",
     "output_type": "stream",
     "text": [
      "Training Step: 951  | time: 0.005s\n\u001b[2K\r| Adam | epoch: 096 | loss: 0.00000 - acc: 1.0000 -- iter: 064/595\n"
     ]
    },
    {
     "name": "stdout",
     "output_type": "stream",
     "text": [
      "Training Step: 952  | time: 0.009s\n\u001b[2K\r| Adam | epoch: 096 | loss: 0.00000 - acc: 1.0000 -- iter: 128/595\n"
     ]
    },
    {
     "name": "stdout",
     "output_type": "stream",
     "text": [
      "Training Step: 953  | time: 0.013s\n\u001b[2K\r| Adam | epoch: 096 | loss: 0.00000 - acc: 1.0000 -- iter: 192/595\n"
     ]
    },
    {
     "name": "stdout",
     "output_type": "stream",
     "text": [
      "Training Step: 954  | time: 0.016s\n\u001b[2K\r| Adam | epoch: 096 | loss: 0.00000 - acc: 1.0000 -- iter: 256/595\n"
     ]
    },
    {
     "name": "stdout",
     "output_type": "stream",
     "text": [
      "Training Step: 955  | time: 0.022s\n\u001b[2K\r| Adam | epoch: 096 | loss: 0.00000 - acc: 1.0000 -- iter: 320/595\n"
     ]
    },
    {
     "name": "stdout",
     "output_type": "stream",
     "text": [
      "Training Step: 956  | time: 0.027s\n\u001b[2K\r| Adam | epoch: 096 | loss: 0.00000 - acc: 1.0000 -- iter: 384/595\n"
     ]
    },
    {
     "name": "stdout",
     "output_type": "stream",
     "text": [
      "Training Step: 957  | time: 0.033s\n\u001b[2K\r| Adam | epoch: 096 | loss: 0.00000 - acc: 1.0000 -- iter: 448/595\n"
     ]
    },
    {
     "name": "stdout",
     "output_type": "stream",
     "text": [
      "Training Step: 958  | time: 0.037s\n\u001b[2K\r| Adam | epoch: 096 | loss: 0.00000 - acc: 1.0000 -- iter: 512/595\n"
     ]
    },
    {
     "name": "stdout",
     "output_type": "stream",
     "text": [
      "Training Step: 959  | time: 0.041s\n\u001b[2K\r| Adam | epoch: 096 | loss: 0.00000 - acc: 1.0000 -- iter: 576/595\n"
     ]
    },
    {
     "name": "stdout",
     "output_type": "stream",
     "text": [
      "Training Step: 960  | time: 0.045s\n\u001b[2K\r| Adam | epoch: 096 | loss: 0.00000 - acc: 1.0000 -- iter: 595/595\n--\n"
     ]
    },
    {
     "name": "stdout",
     "output_type": "stream",
     "text": [
      "Training Step: 961  | time: 0.004s\n\u001b[2K\r| Adam | epoch: 097 | loss: 0.00000 - acc: 1.0000 -- iter: 064/595\n"
     ]
    },
    {
     "name": "stdout",
     "output_type": "stream",
     "text": [
      "Training Step: 962  | time: 0.008s\n\u001b[2K\r| Adam | epoch: 097 | loss: 0.00000 - acc: 1.0000 -- iter: 128/595\n"
     ]
    },
    {
     "name": "stdout",
     "output_type": "stream",
     "text": [
      "Training Step: 963  | time: 0.012s\n\u001b[2K\r| Adam | epoch: 097 | loss: 0.00000 - acc: 1.0000 -- iter: 192/595\n"
     ]
    },
    {
     "name": "stdout",
     "output_type": "stream",
     "text": [
      "Training Step: 964  | time: 0.017s\n\u001b[2K\r| Adam | epoch: 097 | loss: 0.00000 - acc: 1.0000 -- iter: 256/595\n"
     ]
    },
    {
     "name": "stdout",
     "output_type": "stream",
     "text": [
      "Training Step: 965  | time: 0.027s\n\u001b[2K\r| Adam | epoch: 097 | loss: 0.00000 - acc: 1.0000 -- iter: 320/595\n"
     ]
    },
    {
     "name": "stdout",
     "output_type": "stream",
     "text": [
      "Training Step: 966  | time: 0.032s\n\u001b[2K\r| Adam | epoch: 097 | loss: 0.00000 - acc: 1.0000 -- iter: 384/595\n"
     ]
    },
    {
     "name": "stdout",
     "output_type": "stream",
     "text": [
      "Training Step: 967  | time: 0.036s\n\u001b[2K\r| Adam | epoch: 097 | loss: 0.00000 - acc: 1.0000 -- iter: 448/595\n"
     ]
    },
    {
     "name": "stdout",
     "output_type": "stream",
     "text": [
      "Training Step: 968  | time: 0.040s\n\u001b[2K\r| Adam | epoch: 097 | loss: 0.00000 - acc: 1.0000 -- iter: 512/595\n"
     ]
    },
    {
     "name": "stdout",
     "output_type": "stream",
     "text": [
      "Training Step: 969  | time: 0.044s\n\u001b[2K\r| Adam | epoch: 097 | loss: 0.00000 - acc: 1.0000 -- iter: 576/595\n"
     ]
    },
    {
     "name": "stdout",
     "output_type": "stream",
     "text": [
      "Training Step: 970  | time: 0.047s\n\u001b[2K\r| Adam | epoch: 097 | loss: 0.00000 - acc: 1.0000 -- iter: 595/595\n--\n"
     ]
    },
    {
     "name": "stdout",
     "output_type": "stream",
     "text": [
      "Training Step: 971  | time: 0.004s\n\u001b[2K\r| Adam | epoch: 098 | loss: 0.00000 - acc: 1.0000 -- iter: 064/595\n"
     ]
    },
    {
     "name": "stdout",
     "output_type": "stream",
     "text": [
      "Training Step: 972  | time: 0.008s\n\u001b[2K\r| Adam | epoch: 098 | loss: 0.00000 - acc: 1.0000 -- iter: 128/595\n"
     ]
    },
    {
     "name": "stdout",
     "output_type": "stream",
     "text": [
      "Training Step: 973  | time: 0.012s\n\u001b[2K\r| Adam | epoch: 098 | loss: 0.00000 - acc: 1.0000 -- iter: 192/595\n"
     ]
    },
    {
     "name": "stdout",
     "output_type": "stream",
     "text": [
      "Training Step: 974  | time: 0.016s\n\u001b[2K\r| Adam | epoch: 098 | loss: 0.00000 - acc: 1.0000 -- iter: 256/595\n"
     ]
    },
    {
     "name": "stdout",
     "output_type": "stream",
     "text": [
      "Training Step: 975  | time: 0.021s\n\u001b[2K\r| Adam | epoch: 098 | loss: 0.00000 - acc: 1.0000 -- iter: 320/595\n"
     ]
    },
    {
     "name": "stdout",
     "output_type": "stream",
     "text": [
      "Training Step: 976  | time: 0.025s\n\u001b[2K\r| Adam | epoch: 098 | loss: 0.00000 - acc: 1.0000 -- iter: 384/595\n"
     ]
    },
    {
     "name": "stdout",
     "output_type": "stream",
     "text": [
      "Training Step: 977  | time: 0.028s\n\u001b[2K\r| Adam | epoch: 098 | loss: 0.00000 - acc: 1.0000 -- iter: 448/595\n"
     ]
    },
    {
     "name": "stdout",
     "output_type": "stream",
     "text": [
      "Training Step: 978  | time: 0.032s\n\u001b[2K\r| Adam | epoch: 098 | loss: 0.00000 - acc: 1.0000 -- iter: 512/595\n"
     ]
    },
    {
     "name": "stdout",
     "output_type": "stream",
     "text": [
      "Training Step: 979  | time: 0.038s\n\u001b[2K\r| Adam | epoch: 098 | loss: 0.00000 - acc: 1.0000 -- iter: 576/595\n"
     ]
    },
    {
     "name": "stdout",
     "output_type": "stream",
     "text": [
      "Training Step: 980  | time: 0.043s\n\u001b[2K\r| Adam | epoch: 098 | loss: 0.00000 - acc: 1.0000 -- iter: 595/595\n--\n"
     ]
    },
    {
     "name": "stdout",
     "output_type": "stream",
     "text": [
      "Training Step: 981  | time: 0.005s\n\u001b[2K\r| Adam | epoch: 099 | loss: 0.00000 - acc: 1.0000 -- iter: 064/595\n"
     ]
    },
    {
     "name": "stdout",
     "output_type": "stream",
     "text": [
      "Training Step: 982  | time: 0.009s\n\u001b[2K\r| Adam | epoch: 099 | loss: 0.00000 - acc: 1.0000 -- iter: 128/595\n"
     ]
    },
    {
     "name": "stdout",
     "output_type": "stream",
     "text": [
      "Training Step: 983  | time: 0.014s\n\u001b[2K\r| Adam | epoch: 099 | loss: 0.00000 - acc: 1.0000 -- iter: 192/595\n"
     ]
    },
    {
     "name": "stdout",
     "output_type": "stream",
     "text": [
      "Training Step: 984  | time: 0.018s\n\u001b[2K\r| Adam | epoch: 099 | loss: 0.00000 - acc: 1.0000 -- iter: 256/595\n"
     ]
    },
    {
     "name": "stdout",
     "output_type": "stream",
     "text": [
      "Training Step: 985  | time: 0.022s\n\u001b[2K\r| Adam | epoch: 099 | loss: 0.00000 - acc: 1.0000 -- iter: 320/595\n"
     ]
    },
    {
     "name": "stdout",
     "output_type": "stream",
     "text": [
      "Training Step: 986  | time: 0.026s\n\u001b[2K\r| Adam | epoch: 099 | loss: 0.00000 - acc: 1.0000 -- iter: 384/595\n"
     ]
    },
    {
     "name": "stdout",
     "output_type": "stream",
     "text": [
      "Training Step: 987  | time: 0.030s\n\u001b[2K\r| Adam | epoch: 099 | loss: 0.00000 - acc: 1.0000 -- iter: 448/595\n"
     ]
    },
    {
     "name": "stdout",
     "output_type": "stream",
     "text": [
      "Training Step: 988  | time: 0.035s\n\u001b[2K\r| Adam | epoch: 099 | loss: 0.00000 - acc: 1.0000 -- iter: 512/595\n"
     ]
    },
    {
     "name": "stdout",
     "output_type": "stream",
     "text": [
      "Training Step: 989  | time: 0.040s\n\u001b[2K\r| Adam | epoch: 099 | loss: 0.00000 - acc: 1.0000 -- iter: 576/595\n"
     ]
    },
    {
     "name": "stdout",
     "output_type": "stream",
     "text": [
      "Training Step: 990  | time: 0.045s\n\u001b[2K\r| Adam | epoch: 099 | loss: 0.00000 - acc: 1.0000 -- iter: 595/595\n--\n"
     ]
    },
    {
     "name": "stdout",
     "output_type": "stream",
     "text": [
      "Training Step: 991  | time: 0.004s\n\u001b[2K\r| Adam | epoch: 100 | loss: 0.00000 - acc: 1.0000 -- iter: 064/595\n"
     ]
    },
    {
     "name": "stdout",
     "output_type": "stream",
     "text": [
      "Training Step: 992  | time: 0.009s\n\u001b[2K\r| Adam | epoch: 100 | loss: 0.00000 - acc: 1.0000 -- iter: 128/595\n"
     ]
    },
    {
     "name": "stdout",
     "output_type": "stream",
     "text": [
      "Training Step: 993  | time: 0.013s\n\u001b[2K\r| Adam | epoch: 100 | loss: 0.00000 - acc: 1.0000 -- iter: 192/595\n"
     ]
    },
    {
     "name": "stdout",
     "output_type": "stream",
     "text": [
      "Training Step: 994  | time: 0.017s\n\u001b[2K\r| Adam | epoch: 100 | loss: 0.00000 - acc: 1.0000 -- iter: 256/595\n"
     ]
    },
    {
     "name": "stdout",
     "output_type": "stream",
     "text": [
      "Training Step: 995  | time: 0.021s\n\u001b[2K\r| Adam | epoch: 100 | loss: 0.00000 - acc: 1.0000 -- iter: 320/595\n"
     ]
    },
    {
     "name": "stdout",
     "output_type": "stream",
     "text": [
      "Training Step: 996  | time: 0.025s\n\u001b[2K\r| Adam | epoch: 100 | loss: 0.00000 - acc: 1.0000 -- iter: 384/595\n"
     ]
    },
    {
     "name": "stdout",
     "output_type": "stream",
     "text": [
      "Training Step: 997  | time: 0.030s\n\u001b[2K\r| Adam | epoch: 100 | loss: 0.00000 - acc: 1.0000 -- iter: 448/595\n"
     ]
    },
    {
     "name": "stdout",
     "output_type": "stream",
     "text": [
      "Training Step: 998  | time: 0.035s\n\u001b[2K\r| Adam | epoch: 100 | loss: 0.00000 - acc: 1.0000 -- iter: 512/595\n"
     ]
    },
    {
     "name": "stdout",
     "output_type": "stream",
     "text": [
      "Training Step: 999  | time: 0.040s\n\u001b[2K\r| Adam | epoch: 100 | loss: 0.00000 - acc: 1.0000 -- iter: 576/595\n"
     ]
    },
    {
     "name": "stdout",
     "output_type": "stream",
     "text": [
      "Training Step: 1000  | time: 0.044s\n\u001b[2K\r| Adam | epoch: 100 | loss: 0.00000 - acc: 1.0000 -- iter: 595/595\n--\n"
     ]
    },
    {
     "name": "stdout",
     "output_type": "stream",
     "text": [
      "Final Accuracy: [1.0]\n"
     ]
    }
   ],
   "source": [
    "model.fit(trainX, trainY, n_epoch=nEpochs, show_metric=True)  # Fit the model to the training data\n",
    "\n",
    "print(\"Final Accuracy:\", model.evaluate(testX, testY))  # Test the data on the model"
   ]
  },
  {
   "cell_type": "code",
   "execution_count": null,
   "metadata": {},
   "outputs": [],
   "source": []
  }
 ],
 "metadata": {
  "kernelspec": {
   "display_name": "Python 2",
   "language": "python",
   "name": "python2"
  },
  "language_info": {
   "codemirror_mode": {
    "name": "ipython",
    "version": 2
   },
   "file_extension": ".py",
   "mimetype": "text/x-python",
   "name": "python",
   "nbconvert_exporter": "python",
   "pygments_lexer": "ipython2",
   "version": "2.7.6"
  }
 },
 "nbformat": 4,
 "nbformat_minor": 0
}
