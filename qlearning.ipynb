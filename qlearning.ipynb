{
 "cells": [
  {
   "cell_type": "code",
   "execution_count": 2,
   "metadata": {
    "collapsed": true
   },
   "outputs": [],
   "source": [
    "import gym\n",
    "import numpy as np\n"
   ]
  },
  {
   "cell_type": "code",
   "execution_count": 3,
   "metadata": {},
   "outputs": [],
   "source": [
    "env = gym.make(\"FrozenLake-v0\")"
   ]
  },
  {
   "cell_type": "code",
   "execution_count": 4,
   "metadata": {},
   "outputs": [
    {
     "name": "stdout",
     "output_type": "stream",
     "text": [
      "16\n"
     ]
    }
   ],
   "source": [
    "print(env.observation_space.n)"
   ]
  },
  {
   "cell_type": "code",
   "execution_count": 6,
   "metadata": {},
   "outputs": [],
   "source": [
    "Q = np.zeros([env.observation_space.n, env.action_space.n])\n",
    "\n",
    "lr = 0.8 # learning rate\n",
    "y = 0.95 # Decay rate based on distance\n",
    "num_episodes = 2000\n",
    "\n",
    "rList = []\n",
    "for i in range(num_episodes):\n",
    "    s = env.reset()\n",
    "    rAll = 0\n",
    "    d = False\n",
    "    j = 0\n",
    "    while j < 99:\n",
    "        j += 1\n",
    "        \n",
    "        a = np.argmax(Q[s,:] + np.random.rand(1, env.action_space.n) * (1./(i+1)))\n",
    "        s1, r, d, _ = env.step(a)\n",
    "        \n",
    "        Q[s, a] = Q[s, a] + lr * (r + y*np.max(Q[s1, :]) - Q[s, a])\n",
    "        rAll += r\n",
    "        s = s1\n",
    "        if d:\n",
    "            break\n",
    "    rList.append(rAll)"
   ]
  },
  {
   "cell_type": "code",
   "execution_count": 7,
   "metadata": {},
   "outputs": [
    {
     "name": "stdout",
     "output_type": "stream",
     "text": [
      "Score over time: 0.484\n"
     ]
    }
   ],
   "source": [
    "print(\"Score over time: \" + str(sum(rList)/num_episodes))"
   ]
  },
  {
   "cell_type": "code",
   "execution_count": 8,
   "metadata": {},
   "outputs": [
    {
     "name": "stdout",
     "output_type": "stream",
     "text": [
      "Q table values\n[[  6.10083194e-04   2.05061224e-03   1.56347986e-01   2.29055400e-03]\n [  5.50946053e-04   3.47179557e-04   1.22802653e-03   1.01351108e-01]\n [  1.41189702e-03   2.42671347e-03   1.48594723e-03   4.01794316e-02]\n [  2.64849567e-04   2.78375040e-07   2.44964651e-04   2.71153869e-02]\n [  3.12108644e-01   2.61967410e-04   1.41482442e-03   0.00000000e+00]\n [  0.00000000e+00   0.00000000e+00   0.00000000e+00   0.00000000e+00]\n [  2.71436169e-03   8.62195566e-06   1.71748070e-05   4.16112734e-08]\n [  0.00000000e+00   0.00000000e+00   0.00000000e+00   0.00000000e+00]\n [  0.00000000e+00   0.00000000e+00   0.00000000e+00   5.84870540e-01]\n [  0.00000000e+00   7.80054448e-01   0.00000000e+00   0.00000000e+00]\n [  1.92571149e-01   3.29875106e-05   0.00000000e+00   0.00000000e+00]\n [  0.00000000e+00   0.00000000e+00   0.00000000e+00   0.00000000e+00]\n [  0.00000000e+00   0.00000000e+00   0.00000000e+00   0.00000000e+00]\n [  0.00000000e+00   0.00000000e+00   4.12061623e-01   0.00000000e+00]\n [  0.00000000e+00   8.74451873e-01   0.00000000e+00   0.00000000e+00]\n [  0.00000000e+00   0.00000000e+00   0.00000000e+00   0.00000000e+00]]\n"
     ]
    }
   ],
   "source": [
    "print(\"Q table values\")\n",
    "print(Q)"
   ]
  },
  {
   "cell_type": "code",
   "execution_count": null,
   "metadata": {},
   "outputs": [],
   "source": []
  }
 ],
 "metadata": {
  "kernelspec": {
   "display_name": "Python 2",
   "language": "python",
   "name": "python2"
  },
  "language_info": {
   "codemirror_mode": {
    "name": "ipython",
    "version": 2
   },
   "file_extension": ".py",
   "mimetype": "text/x-python",
   "name": "python",
   "nbconvert_exporter": "python",
   "pygments_lexer": "ipython2",
   "version": "2.7.6"
  }
 },
 "nbformat": 4,
 "nbformat_minor": 0
}
